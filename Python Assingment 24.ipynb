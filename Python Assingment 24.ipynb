{
 "cells": [
  {
   "cell_type": "markdown",
   "id": "c23dc649",
   "metadata": {},
   "source": [
    "# 1."
   ]
  },
  {
   "cell_type": "markdown",
   "id": "87e9626b",
   "metadata": {},
   "source": [
    "In Python, both def statements and lambda expressions are used to define functions, but they have some differences in terms of syntax and usage.\n",
    "\n",
    "def Statements:\n",
    "\n",
    "def is a keyword used to define named functions in Python.\n",
    "The syntax for a def statement is as follows:"
   ]
  },
  {
   "cell_type": "code",
   "execution_count": 1,
   "id": "c9af5f35",
   "metadata": {},
   "outputs": [],
   "source": [
    "def function_name(parameters):\n",
    "    # Function body\n",
    "    return something\n"
   ]
  },
  {
   "cell_type": "markdown",
   "id": "e96953d5",
   "metadata": {},
   "source": [
    "Lambda Expressions:\n",
    "\n",
    "Lambda expressions (often referred to as \"anonymous functions\") are a way to create small, anonymous functions in Python.\n",
    "The syntax for a lambda expression is:"
   ]
  },
  {
   "cell_type": "code",
   "execution_count": 2,
   "id": "af0e9d69",
   "metadata": {},
   "outputs": [
    {
     "data": {
      "text/plain": [
       "<function __main__.<lambda>(parameters)>"
      ]
     },
     "execution_count": 2,
     "metadata": {},
     "output_type": "execute_result"
    }
   ],
   "source": [
    "lambda parameters: expression\n"
   ]
  },
  {
   "cell_type": "markdown",
   "id": "81f04071",
   "metadata": {},
   "source": [
    "# 2.\n"
   ]
  },
  {
   "cell_type": "markdown",
   "id": "042d6fbd",
   "metadata": {},
   "source": [
    "The main benefits of using lambda expressions in Python are:\n",
    "\n",
    "Conciseness: Lambda expressions allow you to define small, one-line functions without the need for a full def statement. This can lead to more concise and readable code, especially when you're working with higher-order functions like map(), filter(), and sorted().\n",
    "\n",
    "Readability: In some cases, using a lambda expression can make the code more readable, especially when the function being defined is simple and the lambda expression is used directly where it's needed, without assigning it to a variable.\n",
    "\n",
    "Functional Programming: Lambda expressions are commonly used in functional programming paradigms, where functions are treated as first-class citizens. They allow for the creation of anonymous functions, which can be passed around as arguments to other functions, making it easier to write functional-style code.\n",
    "\n",
    "Avoiding Unnecessary Name Creation: When a function is only needed in one place and won't be reused, defining it with a lambda expression instead of giving it a name with a def statement can avoid cluttering the namespace with unnecessary function names.\n",
    "\n",
    "Convenience: Using lambda expressions can sometimes be more convenient than defining a named function, especially for simple tasks like mapping or filtering elements in a list."
   ]
  },
  {
   "cell_type": "markdown",
   "id": "d69edbc7",
   "metadata": {},
   "source": [
    "# 3."
   ]
  },
  {
   "cell_type": "markdown",
   "id": "b15ba505",
   "metadata": {},
   "source": [
    "map() Function:\n",
    "\n",
    "Syntax: map(function, iterable)\n",
    "Purpose: Applies a given function to each item of an iterable (e.g., a list) and returns a new iterable with the results.\n",
    "Returns: An iterator (in Python 3) or a list (in Python 2) containing the results of applying the given function to each item of the iterable.\n",
    "    \n",
    "\n",
    "filter() Function:\n",
    "\n",
    "Syntax: filter(function, iterable)\n",
    "Purpose: Filters the elements of an iterable based on a given function, which returns True or False for each element.\n",
    "Returns: An iterator (in Python 3) or a list (in Python 2) containing the elements of the iterable for which the function returned True.\n",
    "    \n",
    "\n",
    "reduce() Function:\n",
    "\n",
    "Syntax: reduce(function, iterable \n",
    "Purpose: Applies a rolling computation to sequential pairs of elements in an iterable, reducing them to a single value.\n",
    "Returns: The final accumulated result of the computation.\n",
    "Requires: Importing from the functools module in Python 3 (no import required in Python 2).\n",
    "    \n",
    "\n"
   ]
  },
  {
   "cell_type": "markdown",
   "id": "00d3a875",
   "metadata": {},
   "source": [
    "# 4."
   ]
  },
  {
   "cell_type": "markdown",
   "id": "e3182a0b",
   "metadata": {},
   "source": [
    "Function annotations in Python are a way to add arbitrary metadata to function arguments and return values. They allow you to specify the expected types of the function's parameters and its return type, as well as any other relevant information about the function's behavior.\n",
    "\n",
    "Function annotations are specified using colon (:) followed by an expression after the parameter name for input arguments, and after the closing parenthesis for the return type.\n",
    "\n"
   ]
  },
  {
   "cell_type": "code",
   "execution_count": 3,
   "id": "6e796cbf",
   "metadata": {},
   "outputs": [
    {
     "name": "stdout",
     "output_type": "stream",
     "text": [
      "{'x': <class 'int'>, 'y': <class 'int'>, 'return': <class 'int'>}\n"
     ]
    }
   ],
   "source": [
    "def add(x: int, y: int) -> int:\n",
    "    \"\"\"Adds two integers and returns the result.\"\"\"\n",
    "    return x + y\n",
    "\n",
    "# Accessing function annotations\n",
    "print(add.__annotations__)\n"
   ]
  },
  {
   "cell_type": "markdown",
   "id": "b2365557",
   "metadata": {},
   "source": [
    "# 5."
   ]
  },
  {
   "cell_type": "markdown",
   "id": "e01c7ed3",
   "metadata": {},
   "source": [
    "A recursive function is a function that calls itself during its execution. This technique is called recursion, and functions that use it are called recursive functions. Recursive functions are a powerful tool in programming that can be used to solve problems that can be broken down into smaller, similar subproblems.\n"
   ]
  },
  {
   "cell_type": "code",
   "execution_count": 4,
   "id": "7613a371",
   "metadata": {},
   "outputs": [
    {
     "name": "stdout",
     "output_type": "stream",
     "text": [
      "120\n"
     ]
    }
   ],
   "source": [
    "def factorial(n):\n",
    "    if n == 0:\n",
    "        return 1\n",
    "    else:\n",
    "        return n * factorial(n-1)\n",
    "\n",
    "print(factorial(5)) \n"
   ]
  },
  {
   "cell_type": "markdown",
   "id": "5f9a722c",
   "metadata": {},
   "source": [
    "Recursive functions are used in various scenarios, including:\n",
    "\n",
    "Problem Solving: Recursive functions are commonly used to solve problems that can be broken down into smaller, similar subproblems. Examples include computing factorials, Fibonacci numbers, and solving problems in graph theory or tree traversal.\n",
    "\n",
    "Tree and Graph Traversal: Recursive functions are frequently used to traverse tree-like or graph-like data structures. For example, recursively traversing a binary tree to perform an operation on each node.\n",
    "\n",
    "Divide and Conquer Algorithms: Recursive functions are central to divide and conquer algorithms, which break a problem down into smaller subproblems, solve each subproblem recursively, and then combine the results to solve the original problem.\n",
    "\n",
    "Backtracking: Recursive functions are used in backtracking algorithms, which involve exploring all possible solutions to a problem and systematically backtracking when a solution is found to be invalid.\n",
    "\n",
    "Dynamic Programming: Recursive functions are used in dynamic programming algorithms, which solve problems by breaking them down into smaller subproblems and storing the solutions to those subproblems to avoid redundant calculations."
   ]
  },
  {
   "cell_type": "markdown",
   "id": "aca74bed",
   "metadata": {},
   "source": [
    "# 6."
   ]
  },
  {
   "cell_type": "markdown",
   "id": "28f8d487",
   "metadata": {},
   "source": [
    "When coding functions, following certain design guidelines can lead to more readable, maintainable, and efficient code. Here are some general design guidelines for coding functions:\n",
    "\n",
    "Function Naming:\n",
    "\n",
    "Choose descriptive and meaningful names for functions that accurately reflect their purpose or behavior.\n",
    "Use verbs or verb phrases to indicate actions performed by the function.\n",
    "Follow naming conventions consistent with the language or project's style guide (e.g., snake_case in Python, camelCase in JavaScript).\n",
    "\n",
    "Function Length and Complexity:\n",
    "\n",
    "Keep functions short and focused on a single task or responsibility (often referred to as the \"Single Responsibility Principle\").\n",
    "Aim for functions that can be easily understood at a glance, typically not exceeding a few dozen lines of code.\n",
    "Refactor large or complex functions into smaller, more manageable units to improve readability and maintainability.\n",
    "\n",
    "Function Parameters:\n",
    "\n",
    "Limit the number of parameters passed to a function, ideally keeping it to a small, manageable number (often referred to as the \"Parameter Count Principle\").\n",
    "Prefer passing parameters explicitly rather than relying on global variables or mutable state.\n",
    "Consider using default parameter values or keyword arguments for optional parameters to enhance flexibility.\n",
    "\n",
    "Function Documentation:\n",
    "\n",
    "Provide clear and concise documentation (docstrings) for each function, describing its purpose, behavior, parameters, return value, and any exceptions it may raise.\n",
    "Follow a consistent documentation style, such as the Google Style Python Docstrings or the reStructuredText format.\n",
    "\n",
    "Error Handling:\n",
    "\n",
    "Handle errors and edge cases gracefully within functions, using appropriate error handling mechanisms like try-except blocks or conditional statements.\n",
    "Raise informative exceptions with descriptive error messages to aid debugging and troubleshooting.\n",
    "\n",
    "Function Purity and Side Effects:\n",
    "\n",
    "Aim for functions that are \"pure\" (i.e., produce the same output for the same input without modifying external state) whenever possible.\n",
    "Minimize side effects (e.g., modifying global variables, performing I/O operations) within functions to improve predictability and testability.\n",
    "\n",
    "Function Composition and Reusability:\n",
    "\n",
    "Design functions to be modular and reusable, encapsulating common functionality that can be easily composed and combined with other functions.\n",
    "Favor composing functions from smaller, specialized units rather than duplicating code or implementing complex logic within a single function.\n",
    "\n",
    "Testing and Validation:\n",
    "\n",
    "Write comprehensive unit tests for functions to ensure they behave as expected under different scenarios and edge cases.\n",
    "Use assertions or testing frameworks to validate function inputs, outputs, and behavior against expected outcomes."
   ]
  },
  {
   "cell_type": "markdown",
   "id": "8164b77d",
   "metadata": {},
   "source": [
    "# 7."
   ]
  },
  {
   "cell_type": "markdown",
   "id": "31460490",
   "metadata": {},
   "source": [
    "Functions in programming languages can communicate results to a caller in various ways. Here are three common ways:\n",
    "\n",
    "Return Values:\n",
    "Functions can communicate results to the caller by returning one or more values using the return statement.\n",
    "The caller can capture and use these returned values for further computation or processing."
   ]
  },
  {
   "cell_type": "code",
   "execution_count": 7,
   "id": "fd039a0b",
   "metadata": {},
   "outputs": [
    {
     "name": "stdout",
     "output_type": "stream",
     "text": [
      "8\n"
     ]
    }
   ],
   "source": [
    "def add(x, y):\n",
    "    return x + y\n",
    "\n",
    "result = add(3, 5)\n",
    "print(result)  \n"
   ]
  },
  {
   "cell_type": "markdown",
   "id": "5109d99e",
   "metadata": {},
   "source": [
    "Output Parameters:\n",
    "Functions can communicate results to the caller by modifying mutable objects passed as arguments.\n",
    "This approach allows functions to modify the state of objects outside their scope."
   ]
  },
  {
   "cell_type": "code",
   "execution_count": 8,
   "id": "83041d55",
   "metadata": {},
   "outputs": [
    {
     "name": "stdout",
     "output_type": "stream",
     "text": [
      "[15]\n"
     ]
    }
   ],
   "source": [
    "def multiply(x, y, result_list):\n",
    "    result_list.append(x * y)\n",
    "\n",
    "results = []\n",
    "multiply(3, 5, results)\n",
    "print(results)  \n"
   ]
  },
  {
   "cell_type": "markdown",
   "id": "9f06bb37",
   "metadata": {},
   "source": [
    "Global Variables:\n",
    "Functions can communicate results to the caller by modifying or setting global variables.\n",
    "However, this approach is generally discouraged due to potential side effects and issues with code maintainability and readability."
   ]
  },
  {
   "cell_type": "code",
   "execution_count": 9,
   "id": "2cde2b48",
   "metadata": {},
   "outputs": [
    {
     "name": "stdout",
     "output_type": "stream",
     "text": [
      "5.0\n"
     ]
    }
   ],
   "source": [
    "global_result = None\n",
    "\n",
    "def divide(x, y):\n",
    "    global global_result\n",
    "    global_result = x / y\n",
    "\n",
    "divide(10, 2)\n",
    "print(global_result)  \n"
   ]
  },
  {
   "cell_type": "code",
   "execution_count": null,
   "id": "db3f6ed8",
   "metadata": {},
   "outputs": [],
   "source": []
  }
 ],
 "metadata": {
  "kernelspec": {
   "display_name": "Python 3 (ipykernel)",
   "language": "python",
   "name": "python3"
  },
  "language_info": {
   "codemirror_mode": {
    "name": "ipython",
    "version": 3
   },
   "file_extension": ".py",
   "mimetype": "text/x-python",
   "name": "python",
   "nbconvert_exporter": "python",
   "pygments_lexer": "ipython3",
   "version": "3.10.9"
  }
 },
 "nbformat": 4,
 "nbformat_minor": 5
}
