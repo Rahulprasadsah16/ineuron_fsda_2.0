{
 "cells": [
  {
   "cell_type": "markdown",
   "id": "66a54ddf",
   "metadata": {},
   "source": [
    "# 1."
   ]
  },
  {
   "cell_type": "markdown",
   "id": "23f08e99",
   "metadata": {},
   "source": [
    "In Python's shutil module, both shutil.copy() and shutil.copytree() are used for copying files and directories, but they have different purposes and behaviors:\n",
    "\n",
    "shutil.copy(src, dst):\n",
    "\n",
    "This function is used to copy a single file from the source (src) to the destination (dst).\n",
    "If src and dst are filenames, shutil.copy() copies src to dst. If dst is a directory, shutil.copy() copies src into dst.\n",
    "The destination (dst) must be a filename (for copying to a specific file) or a directory (for copying into a directory).\n",
    "If dst already exists, it will be overwritten.\n",
    "\n",
    "shutil.copytree(src, dst):\n",
    "\n",
    "This function is used to recursively copy an entire directory tree from the source (src) to the destination (dst).\n",
    "If dst does not exist, it will be created as a new directory. If dst already exists, shutil.copytree() will raise an error unless the ignore parameter is specified to handle existing files.\n",
    "All contents of the directory src, including files and subdirectories, are copied to the corresponding directory dst.\n",
    "The copytree() function preserves the directory structure of the source directory, including permissions and other file attributes."
   ]
  },
  {
   "cell_type": "markdown",
   "id": "5ee298b8",
   "metadata": {},
   "source": [
    "# 2."
   ]
  },
  {
   "cell_type": "markdown",
   "id": "1815f115",
   "metadata": {},
   "source": [
    "In Python's os module, the function used to rename files is os.rename(). This function allows you to rename a file by specifying the current name of the file and the desired new name."
   ]
  },
  {
   "cell_type": "raw",
   "id": "e43cf894",
   "metadata": {},
   "source": [
    "import os\n",
    "\n",
    "# Specify the current filename and the new filename\n",
    "current_name = \"old_name.txt\"\n",
    "new_name = \"new_name.txt\"\n",
    "\n",
    "# Rename the file\n",
    "os.rename(current_name, new_name)\n"
   ]
  },
  {
   "cell_type": "markdown",
   "id": "0eba2ffc",
   "metadata": {},
   "source": [
    "# 3."
   ]
  },
  {
   "cell_type": "markdown",
   "id": "4bf81180",
   "metadata": {},
   "source": [
    "Both the send2trash and shutil modules provide functions for deleting files and directories in Python, but they have different behaviors and purposes:\n",
    "\n",
    "send2trash module:\n",
    "\n",
    "The send2trash module provides a safe way to delete files and directories by moving them to the operating system's trash or recycle bin, rather than permanently deleting them.\n",
    "This module is primarily used for user-initiated file deletions, where the user may want to recover the deleted files later.\n",
    "The send2trash.send2trash() function is used to move files or directories to the trash/recycle bin.\n",
    "\n",
    "shutil module:\n",
    "\n",
    "The shutil module provides functions for file operations and manipulation, including functions for copying, moving, and deleting files and directories.\n",
    "The shutil.rmtree() function is used to recursively delete directories and their contents. It permanently deletes files and directories, bypassing the operating system's trash or recycle bin.\n",
    "This module is typically used for programmatic file operations where the files are no longer needed and can be safely deleted."
   ]
  },
  {
   "cell_type": "markdown",
   "id": "d7c2caa5",
   "metadata": {},
   "source": [
    "# 4."
   ]
  },
  {
   "cell_type": "markdown",
   "id": "0fe47aaf",
   "metadata": {},
   "source": [
    "The equivalent method to File objects' open() method for ZipFile objects is ZipFile() itself.\n",
    "\n",
    "When you want to work with a zip file in Python, you use the ZipFile() constructor from the zipfile module to open the zip file for reading, writing, or appending.\n",
    "\n",
    "Here's an example of how you would use ZipFile() to open a zip file:"
   ]
  },
  {
   "cell_type": "raw",
   "id": "641d14b2",
   "metadata": {},
   "source": [
    "import zipfile\n",
    "\n",
    "# Open an existing zip file for reading\n",
    "with zipfile.ZipFile('example.zip', 'r') as zip_file:\n",
    "    # Perform operations on the zip file\n",
    "    print(zip_file.namelist())\n"
   ]
  },
  {
   "cell_type": "markdown",
   "id": "dd9e6ddc",
   "metadata": {},
   "source": [
    "# 5."
   ]
  },
  {
   "cell_type": "markdown",
   "id": "646aa2eb",
   "metadata": {},
   "source": [
    "You can create a Python program to search a folder tree for files with a specific file extension and copy them to a new folder using the os, shutil, and glob modules. Here's a simple example:"
   ]
  },
  {
   "cell_type": "code",
   "execution_count": 2,
   "id": "fd842740",
   "metadata": {},
   "outputs": [
    {
     "name": "stdout",
     "output_type": "stream",
     "text": [
      "Successfully copied 0 files with extension 'pdf'.\n"
     ]
    }
   ],
   "source": [
    "import os\n",
    "import shutil\n",
    "import glob\n",
    "\n",
    "def copy_files_with_extension(source_folder, destination_folder, extension):\n",
    "    # Create the destination folder if it doesn't exist\n",
    "    if not os.path.exists(destination_folder):\n",
    "        os.makedirs(destination_folder)\n",
    "\n",
    "    # Search for files with the specified extension in the source folder and its subdirectories\n",
    "    search_pattern = os.path.join(source_folder, '**', f'*.{extension}')\n",
    "    files_to_copy = glob.glob(search_pattern, recursive=True)\n",
    "\n",
    "    # Copy the files to the destination folder\n",
    "    for file_path in files_to_copy:\n",
    "        file_name = os.path.basename(file_path)\n",
    "        destination_path = os.path.join(destination_folder, file_name)\n",
    "        shutil.copy2(file_path, destination_path)\n",
    "\n",
    "    print(f\"Successfully copied {len(files_to_copy)} files with extension '{extension}'.\")\n",
    "\n",
    "# Example usage:\n",
    "source_folder = '/path/to/source_folder'\n",
    "destination_folder = '/path/to/destination_folder'\n",
    "extension = 'pdf'  # Change this to the desired file extension\n",
    "\n",
    "copy_files_with_extension(source_folder, destination_folder, extension)\n"
   ]
  },
  {
   "cell_type": "code",
   "execution_count": null,
   "id": "c6d102f5",
   "metadata": {},
   "outputs": [],
   "source": []
  }
 ],
 "metadata": {
  "kernelspec": {
   "display_name": "Python 3 (ipykernel)",
   "language": "python",
   "name": "python3"
  },
  "language_info": {
   "codemirror_mode": {
    "name": "ipython",
    "version": 3
   },
   "file_extension": ".py",
   "mimetype": "text/x-python",
   "name": "python",
   "nbconvert_exporter": "python",
   "pygments_lexer": "ipython3",
   "version": "3.10.9"
  }
 },
 "nbformat": 4,
 "nbformat_minor": 5
}
