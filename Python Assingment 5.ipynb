{
 "cells": [
  {
   "cell_type": "markdown",
   "id": "531d2692",
   "metadata": {},
   "source": [
    "# 1."
   ]
  },
  {
   "cell_type": "code",
   "execution_count": 1,
   "id": "9bf1754b",
   "metadata": {},
   "outputs": [],
   "source": [
    "empty_dict = {}\n"
   ]
  },
  {
   "cell_type": "markdown",
   "id": "9314888f",
   "metadata": {},
   "source": [
    "# 2."
   ]
  },
  {
   "cell_type": "code",
   "execution_count": 2,
   "id": "951c430d",
   "metadata": {},
   "outputs": [],
   "source": [
    "my_dict = {'foo': 42}\n"
   ]
  },
  {
   "cell_type": "markdown",
   "id": "03789878",
   "metadata": {},
   "source": [
    "# 3."
   ]
  },
  {
   "cell_type": "markdown",
   "id": "89118a1a",
   "metadata": {},
   "source": [
    "The most significant distinction between a dictionary and a list in Python is how they store and access data:\n",
    "\n",
    "Data Structure:\n",
    "\n",
    "Dictionary: Stores data as key-value pairs. Each element in a dictionary is accessed by its associated key.\n",
    "List: Stores data as a sequence of elements. Each element in a list is accessed by its index, which is an integer value.\n",
    "Ordering:\n",
    "\n",
    "Dictionary: Does not preserve the order of elements. The elements are stored in an unordered manner based on the hash of keys.\n",
    "List: Preserves the order of elements. The elements are stored in the sequence in which they are added.\n",
    "Indexing:\n",
    "\n",
    "Dictionary: Accessed using keys. Each key must be unique within the dictionary.\n",
    "List: Accessed using integer indices starting from 0. Each element in a list has a distinct index.\n",
    "Mutability:\n",
    "\n",
    "Dictionary: Mutable; elements can be added, modified, or removed after the dictionary is created.\n",
    "List: Mutable; elements can be modified or removed, and new elements can be added to the list.\n",
    "Duplicates:\n",
    "\n",
    "Dictionary: Does not allow duplicate keys. Each key in a dictionary must be unique.\n",
    "List: Allows duplicate elements. The same value can occur multiple times in a list."
   ]
  },
  {
   "cell_type": "markdown",
   "id": "780d186c",
   "metadata": {},
   "source": [
    "# 4."
   ]
  },
  {
   "cell_type": "code",
   "execution_count": 3,
   "id": "bc2e44ef",
   "metadata": {},
   "outputs": [
    {
     "ename": "KeyError",
     "evalue": "'foo'",
     "output_type": "error",
     "traceback": [
      "\u001b[1;31m---------------------------------------------------------------------------\u001b[0m",
      "\u001b[1;31mKeyError\u001b[0m                                  Traceback (most recent call last)",
      "Cell \u001b[1;32mIn[3], line 2\u001b[0m\n\u001b[0;32m      1\u001b[0m spam \u001b[38;5;241m=\u001b[39m {\u001b[38;5;124m'\u001b[39m\u001b[38;5;124mbar\u001b[39m\u001b[38;5;124m'\u001b[39m: \u001b[38;5;241m100\u001b[39m}\n\u001b[1;32m----> 2\u001b[0m value \u001b[38;5;241m=\u001b[39m \u001b[43mspam\u001b[49m\u001b[43m[\u001b[49m\u001b[38;5;124;43m'\u001b[39;49m\u001b[38;5;124;43mfoo\u001b[39;49m\u001b[38;5;124;43m'\u001b[39;49m\u001b[43m]\u001b[49m\n",
      "\u001b[1;31mKeyError\u001b[0m: 'foo'"
     ]
    }
   ],
   "source": [
    "spam = {'bar': 100}\n",
    "value = spam['foo']  # KeyError: 'foo'\n"
   ]
  },
  {
   "cell_type": "markdown",
   "id": "79ee3cab",
   "metadata": {},
   "source": [
    "# 5."
   ]
  },
  {
   "cell_type": "markdown",
   "id": "88e2008d",
   "metadata": {},
   "source": [
    "'cat' in spam:\n",
    "\n",
    "This expression checks if the key 'cat' exists directly within the dictionary spam.\n",
    "It directly checks the keys of the dictionary for membership.\n",
    "This operation is efficient because it utilizes the built-in hash table structure of dictionaries to quickly determine whether the key exists.\n",
    "If 'cat' is present as a key in spam, the expression evaluates to True; otherwise, it evaluates to False.\n",
    "\n",
    "'cat' in spam.keys():\n",
    "\n",
    "This expression first retrieves a list of all keys in the dictionary spam using the keys() method and then checks if 'cat' exists within that list.\n",
    "The keys() method returns a view object representing all the keys in the dictionary.\n",
    "Checking for membership in a list involves iterating through each element of the list until a match is found or the end of the list is reached.\n",
    "While this expression achieves the same result, it may be less efficient compared to 'cat' in spam because it involves creating an intermediate list of keys and iterating over it.\n",
    "If 'cat' is present as a key in spam, the expression evaluates to True; otherwise, it evaluates to False."
   ]
  },
  {
   "cell_type": "markdown",
   "id": "d72317dd",
   "metadata": {},
   "source": [
    "# 6."
   ]
  },
  {
   "cell_type": "markdown",
   "id": "def4fd67",
   "metadata": {},
   "source": [
    "'cat' in spam:\n",
    "\n",
    "This expression checks if the value 'cat' exists as a key in the dictionary spam.\n",
    "It directly checks the keys of the dictionary for membership.\n",
    "If 'cat' is present as a key in spam, the expression evaluates to True; otherwise, it evaluates to False.\n",
    "'\n",
    "\n",
    "cat' in spam.values():\n",
    "\n",
    "This expression checks if the value 'cat' exists in any of the values associated with the keys in the dictionary spam.\n",
    "It retrieves a view object representing all the values in the dictionary using the values() method and then checks if 'cat' exists within that view.\n",
    "Checking for membership in a view object involves iterating through each value until a match is found or the end of the view is reached.\n",
    "If 'cat' is present as a value associated with any key in spam, the expression evaluates to True; otherwise, it evaluates to False"
   ]
  },
  {
   "cell_type": "markdown",
   "id": "57da8905",
   "metadata": {},
   "source": [
    "# 7."
   ]
  },
  {
   "cell_type": "markdown",
   "id": "079d0cf9",
   "metadata": {},
   "source": [
    "Here's the shortcut using setdefault():"
   ]
  },
  {
   "cell_type": "code",
   "execution_count": 5,
   "id": "196c1c94",
   "metadata": {},
   "outputs": [
    {
     "data": {
      "text/plain": [
       "'black'"
      ]
     },
     "execution_count": 5,
     "metadata": {},
     "output_type": "execute_result"
    }
   ],
   "source": [
    "spam.setdefault('color', 'black')\n"
   ]
  },
  {
   "cell_type": "markdown",
   "id": "5a5683cf",
   "metadata": {},
   "source": [
    "# 8."
   ]
  },
  {
   "cell_type": "code",
   "execution_count": 6,
   "id": "e2a76ee6",
   "metadata": {},
   "outputs": [
    {
     "name": "stdout",
     "output_type": "stream",
     "text": [
      "{'bar': {'baz': [1, 2, 3]}, 'foo': 42}\n"
     ]
    }
   ],
   "source": [
    "import pprint\n",
    "\n",
    "my_dict = {'foo': 42, 'bar': {'baz': [1, 2, 3]}}\n",
    "\n",
    "pprint.pprint(my_dict)\n"
   ]
  },
  {
   "cell_type": "code",
   "execution_count": null,
   "id": "e77c9a3e",
   "metadata": {},
   "outputs": [],
   "source": []
  }
 ],
 "metadata": {
  "kernelspec": {
   "display_name": "Python 3 (ipykernel)",
   "language": "python",
   "name": "python3"
  },
  "language_info": {
   "codemirror_mode": {
    "name": "ipython",
    "version": 3
   },
   "file_extension": ".py",
   "mimetype": "text/x-python",
   "name": "python",
   "nbconvert_exporter": "python",
   "pygments_lexer": "ipython3",
   "version": "3.10.9"
  }
 },
 "nbformat": 4,
 "nbformat_minor": 5
}
