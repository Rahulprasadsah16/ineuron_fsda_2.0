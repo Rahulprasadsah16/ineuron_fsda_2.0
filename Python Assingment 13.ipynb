{
 "cells": [
  {
   "cell_type": "markdown",
   "id": "0aecf76b",
   "metadata": {},
   "source": [
    "# 1."
   ]
  },
  {
   "cell_type": "markdown",
   "id": "e6f9c9b4",
   "metadata": {},
   "source": [
    "Excel spreadsheets have several advantages over CSV (Comma-Separated Values) spreadsheets:\n",
    "\n",
    "Formatting: Excel allows for more complex formatting options such as cell styles, font styles, colors, borders, and conditional formatting. This makes it easier to create visually appealing and structured spreadsheets.\n",
    "\n",
    "Formulas and Functions: Excel supports a wide range of built-in formulas and functions for performing calculations, data analysis, and manipulation. Users can leverage these formulas to automate tasks and perform complex calculations directly within the spreadsheet.\n",
    "\n",
    "Charts and Graphs: Excel provides built-in charting tools that allow users to create various types of charts and graphs to visualize data trends, patterns, and relationships.\n",
    "\n",
    "Data Validation: Excel offers data validation features that enable users to define rules and constraints for data entry, ensuring data accuracy and consistency.\n",
    "\n",
    "Data Analysis: Excel includes features for data analysis such as sorting, filtering, pivot tables, and data visualization tools, which facilitate data exploration and analysis.\n",
    "\n",
    "Multiple Sheets: Excel workbooks can contain multiple sheets, allowing users to organize and manage related data in separate tabs within the same file.\n",
    "\n",
    "Cell Comments and Notes: Excel allows users to add comments and notes to cells, providing additional context or instructions related to the data.\n",
    "\n",
    "Integration with Other Microsoft Office Applications: Excel seamlessly integrates with other Microsoft Office applications such as Word and PowerPoint, enabling users to easily import/export data, create reports, and generate presentations.\n",
    "\n",
    "Data Protection and Security: Excel offers features for password protection, encryption, and access control to secure sensitive data and prevent unauthorized access or modification.\n",
    "\n",
    "Advanced Features: Excel includes advanced features such as macros, VBA (Visual Basic for Applications) scripting, and add-ins, which allow users to automate tasks, customize functionality, and extend the capabilities of the spreadsheet application."
   ]
  },
  {
   "cell_type": "markdown",
   "id": "df9c5081",
   "metadata": {},
   "source": [
    "# 2."
   ]
  },
  {
   "cell_type": "markdown",
   "id": "242a5188",
   "metadata": {},
   "source": [
    "To create reader and writer objects using the csv.reader() and csv.writer() functions in Python's csv module, you pass file objects as arguments. These file objects represent the CSV files you want to read from or write to."
   ]
  },
  {
   "cell_type": "markdown",
   "id": "a09b5506",
   "metadata": {},
   "source": [
    "csv.reader():\n",
    "\n",
    "Pass a file object opened in read mode ('r') as an argument to csv.reader() to create a reader object. This reader object is used to read data from the CSV file.\n",
    "\n",
    "csv.writer():\n",
    "\n",
    "Pass a file object opened in write mode ('w') as an argument to csv.writer() to create a writer object. This writer object is used to write data to the CSV file.\n",
    "\n"
   ]
  },
  {
   "cell_type": "markdown",
   "id": "ecfabf08",
   "metadata": {},
   "source": [
    "# 3."
   ]
  },
  {
   "cell_type": "markdown",
   "id": "6ec3a9bd",
   "metadata": {},
   "source": [
    "For creating reader and writer objects using the csv.reader() and csv.writer() functions in Python's csv module, the file objects need to be opened in the following modes:\n",
    "\n",
    "csv.reader():\n",
    "\n",
    "The file object for the reader object needs to be opened in read mode ('r') or text mode ('rt').\n",
    "\n",
    "csv.writer():\n",
    "\n",
    "The file object for the writer object needs to be opened in write mode ('w') or text mode ('wt')."
   ]
  },
  {
   "cell_type": "raw",
   "id": "952fcc5a",
   "metadata": {},
   "source": [
    "import csv\n",
    "\n",
    "with open('example.csv', 'r') as file:\n",
    "    reader = csv.reader(file)\n"
   ]
  },
  {
   "cell_type": "raw",
   "id": "8639eee5",
   "metadata": {},
   "source": [
    "import csv\n",
    "\n",
    "with open('example.csv', 'w', newline='') as file:\n",
    "    writer = csv.writer(file)\n"
   ]
  },
  {
   "cell_type": "markdown",
   "id": "6c95c9b9",
   "metadata": {},
   "source": [
    "# 4."
   ]
  },
  {
   "cell_type": "markdown",
   "id": "a536b62b",
   "metadata": {},
   "source": [
    "The method that takes a list argument and writes it to a CSV file in Python's csv module is the writerow() method of the csv.writer() object."
   ]
  },
  {
   "cell_type": "raw",
   "id": "f8fdc187",
   "metadata": {},
   "source": [
    "import csv\n",
    "\n",
    "# Open the CSV file in write mode ('w') with newline=''\n",
    "with open('example.csv', 'w', newline='') as file:\n",
    "    # Create a writer object\n",
    "    writer = csv.writer(file)\n",
    "    \n",
    "    # List to be written to the CSV file\n",
    "    data = ['Name', 'Age', 'Location']\n",
    "    \n",
    "    # Write the list as a single row in the CSV file\n",
    "    writer.writerow(data)\n"
   ]
  },
  {
   "cell_type": "markdown",
   "id": "7809b2d1",
   "metadata": {},
   "source": [
    "# 5."
   ]
  },
  {
   "cell_type": "markdown",
   "id": "d570086c",
   "metadata": {},
   "source": [
    "delimiter:\n",
    "\n",
    "The delimiter keyword argument specifies the character used to separate fields in a CSV file. By default, the delimiter is a comma (,), but you can specify a different delimiter character if your CSV file uses a different delimiter, such as a semicolon (;) or a tab (\\t).\n",
    "When writing to a CSV file, the delimiter argument specifies the character used to separate fields in each row.\n",
    "When reading from a CSV file, the delimiter argument specifies the character used to split the input lines into fields.\n",
    "\n",
    "lineterminator:\n",
    "\n",
    "The lineterminator keyword argument specifies the character sequence used to terminate lines in a CSV file. By default, the line terminator is the platform-specific line terminator (e.g., '\\n' on Unix-like systems or '\\r\\n' on Windows), but you can specify a different line terminator character sequence if needed.\n",
    "When writing to a CSV file, the lineterminator argument specifies the character sequence used to terminate each row.\n",
    "When reading from a CSV file, the lineterminator argument specifies the character sequence used to recognize the end of each input line."
   ]
  },
  {
   "cell_type": "markdown",
   "id": "24b58155",
   "metadata": {},
   "source": [
    "# 6."
   ]
  },
  {
   "cell_type": "markdown",
   "id": "de95c410",
   "metadata": {},
   "source": [
    "The function that takes a string of JSON data and returns a Python data structure is json.loads()."
   ]
  },
  {
   "cell_type": "code",
   "execution_count": 5,
   "id": "880ad5e9",
   "metadata": {},
   "outputs": [
    {
     "name": "stdout",
     "output_type": "stream",
     "text": [
      "{'name': 'John', 'age': 30, 'city': 'New York'}\n",
      "<class 'dict'>\n"
     ]
    }
   ],
   "source": [
    "import json\n",
    "\n",
    "# JSON data as a string\n",
    "json_data = '{\"name\": \"John\", \"age\": 30, \"city\": \"New York\"}'\n",
    "\n",
    "# Convert JSON data to a Python data structure (dictionary)\n",
    "python_data = json.loads(json_data)\n",
    "\n",
    "print(python_data)  \n",
    "print(type(python_data))  \n"
   ]
  },
  {
   "cell_type": "markdown",
   "id": "76bf2d0d",
   "metadata": {},
   "source": [
    "# 7."
   ]
  },
  {
   "cell_type": "markdown",
   "id": "964ba487",
   "metadata": {},
   "source": [
    "The function that takes a Python data structure and returns a string of JSON data is json.dumps()."
   ]
  },
  {
   "cell_type": "code",
   "execution_count": 7,
   "id": "7d5bd481",
   "metadata": {},
   "outputs": [
    {
     "name": "stdout",
     "output_type": "stream",
     "text": [
      "{\"name\": \"John\", \"age\": 30, \"city\": \"New York\"}\n",
      "<class 'str'>\n"
     ]
    }
   ],
   "source": [
    "import json\n",
    "\n",
    "# Python dictionary\n",
    "python_data = {'name': 'John', 'age': 30, 'city': 'New York'}\n",
    "\n",
    "# Convert Python data structure to JSON string\n",
    "json_data = json.dumps(python_data)\n",
    "\n",
    "print(json_data)  \n",
    "print(type(json_data))  \n"
   ]
  },
  {
   "cell_type": "code",
   "execution_count": null,
   "id": "f2f7cd12",
   "metadata": {},
   "outputs": [],
   "source": []
  }
 ],
 "metadata": {
  "kernelspec": {
   "display_name": "Python 3 (ipykernel)",
   "language": "python",
   "name": "python3"
  },
  "language_info": {
   "codemirror_mode": {
    "name": "ipython",
    "version": 3
   },
   "file_extension": ".py",
   "mimetype": "text/x-python",
   "name": "python",
   "nbconvert_exporter": "python",
   "pygments_lexer": "ipython3",
   "version": "3.10.9"
  }
 },
 "nbformat": 4,
 "nbformat_minor": 5
}
