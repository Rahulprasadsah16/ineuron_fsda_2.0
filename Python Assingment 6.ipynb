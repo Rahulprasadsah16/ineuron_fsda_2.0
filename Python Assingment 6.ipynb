{
 "cells": [
  {
   "cell_type": "markdown",
   "id": "977a3b28",
   "metadata": {},
   "source": [
    "# 1."
   ]
  },
  {
   "cell_type": "markdown",
   "id": "a33c3a9a",
   "metadata": {},
   "source": [
    "Escape characters in programming are special characters that are preceded by a backslash (\\). They are used to represent characters that are difficult or impossible to type directly into a string or character literal. Escape characters are used in various programming languages, including Python, to include special characters within strings, format strings, or represent characters that have special meanings."
   ]
  },
  {
   "cell_type": "code",
   "execution_count": 1,
   "id": "d6bdef07",
   "metadata": {},
   "outputs": [
    {
     "name": "stdout",
     "output_type": "stream",
     "text": [
      "First line\n",
      "Second line\n"
     ]
    }
   ],
   "source": [
    "print(\"First line\\nSecond line\")\n"
   ]
  },
  {
   "cell_type": "code",
   "execution_count": 2,
   "id": "0c7f10b4",
   "metadata": {},
   "outputs": [
    {
     "name": "stdout",
     "output_type": "stream",
     "text": [
      "First\tSecond\n"
     ]
    }
   ],
   "source": [
    "print(\"First\\tSecond\")\n"
   ]
  },
  {
   "cell_type": "code",
   "execution_count": 3,
   "id": "a4108726",
   "metadata": {},
   "outputs": [
    {
     "name": "stdout",
     "output_type": "stream",
     "text": [
      "This is a backslash: \\\n"
     ]
    }
   ],
   "source": [
    "print(\"This is a backslash: \\\\\")\n"
   ]
  },
  {
   "cell_type": "code",
   "execution_count": 4,
   "id": "cd312b03",
   "metadata": {},
   "outputs": [
    {
     "name": "stdout",
     "output_type": "stream",
     "text": [
      "It's raining\n"
     ]
    }
   ],
   "source": [
    "print('It\\'s raining')\n"
   ]
  },
  {
   "cell_type": "code",
   "execution_count": 5,
   "id": "9eda680f",
   "metadata": {},
   "outputs": [
    {
     "name": "stdout",
     "output_type": "stream",
     "text": [
      "She said, \"Hello!\"\n"
     ]
    }
   ],
   "source": [
    "print(\"She said, \\\"Hello!\\\"\")\n"
   ]
  },
  {
   "cell_type": "code",
   "execution_count": 6,
   "id": "428630d3",
   "metadata": {},
   "outputs": [
    {
     "name": "stdout",
     "output_type": "stream",
     "text": [
      "World\n"
     ]
    }
   ],
   "source": [
    "print(\"Hello\\rWorld\")\n"
   ]
  },
  {
   "cell_type": "code",
   "execution_count": 7,
   "id": "6eb9a1d0",
   "metadata": {},
   "outputs": [
    {
     "name": "stdout",
     "output_type": "stream",
     "text": [
      "C:\\path\\to\\file.txt\n"
     ]
    }
   ],
   "source": [
    "print(r\"C:\\path\\to\\file.txt\")\n"
   ]
  },
  {
   "cell_type": "code",
   "execution_count": 8,
   "id": "7471dd8f",
   "metadata": {},
   "outputs": [
    {
     "name": "stdout",
     "output_type": "stream",
     "text": [
      "Hello\u0000World\n"
     ]
    }
   ],
   "source": [
    "print(\"Hello\\0World\")\n"
   ]
  },
  {
   "cell_type": "markdown",
   "id": "69b35348",
   "metadata": {},
   "source": [
    "# 2."
   ]
  },
  {
   "cell_type": "markdown",
   "id": "83f38893",
   "metadata": {},
   "source": [
    "\\n: Newline character. It is used to insert a new line in a string. When encountered in a string, it signifies the end of the current line and the beginning of a new line.\n",
    "\n",
    "\\t: Tab character. It is used to insert a horizontal tab or tabulation in a string. When encountered in a string, it signifies a tabular space or indentation."
   ]
  },
  {
   "cell_type": "markdown",
   "id": "724150dd",
   "metadata": {},
   "source": [
    "# 3."
   ]
  },
  {
   "cell_type": "markdown",
   "id": "99edfd57",
   "metadata": {},
   "source": [
    "In Python, to include a backslash character (\\) in a string, you can use the escape character \\ itself. This means you need to use a double backslash \\\\ to represent a single backslash within a string."
   ]
  },
  {
   "cell_type": "code",
   "execution_count": 9,
   "id": "e69a99ec",
   "metadata": {},
   "outputs": [
    {
     "name": "stdout",
     "output_type": "stream",
     "text": [
      "This is a backslash: \\\n"
     ]
    }
   ],
   "source": [
    "my_string = \"This is a backslash: \\\\\"\n",
    "print(my_string)\n"
   ]
  },
  {
   "cell_type": "markdown",
   "id": "6dacacf8",
   "metadata": {},
   "source": [
    "# 4."
   ]
  },
  {
   "cell_type": "markdown",
   "id": "fcbe5777",
   "metadata": {},
   "source": [
    "In the string \"Howl's Moving Castle\", the single quote within the word \"Howl's\" is perfectly valid because the entire string is enclosed within double quotes. This means Python interprets the single quote as part of the string literal and not as the end of the string. Therefore, there's no need to escape the single quote in this context.\n",
    "\n",
    "Similarly, if you were to enclose the string within single quotes, like 'Howl\\'s Moving Castle', the backslash would be used to escape the single quote to ensure it's interpreted as part of the string literal."
   ]
  },
  {
   "cell_type": "markdown",
   "id": "da73b7eb",
   "metadata": {},
   "source": [
    "# 5."
   ]
  },
  {
   "cell_type": "code",
   "execution_count": 10,
   "id": "388a3ebc",
   "metadata": {},
   "outputs": [],
   "source": [
    "multiline_string = '''This is a multiline string.\n",
    "It spans across multiple lines.\n",
    "Each line is terminated by pressing Enter.'''\n"
   ]
  },
  {
   "cell_type": "markdown",
   "id": "9478861d",
   "metadata": {},
   "source": [
    "# 6."
   ]
  },
  {
   "cell_type": "code",
   "execution_count": 12,
   "id": "8f700cc1",
   "metadata": {},
   "outputs": [
    {
     "data": {
      "text/plain": [
       "'e'"
      ]
     },
     "execution_count": 12,
     "metadata": {},
     "output_type": "execute_result"
    }
   ],
   "source": [
    "'Hello, world!'[1]"
   ]
  },
  {
   "cell_type": "code",
   "execution_count": 17,
   "id": "9b43896d",
   "metadata": {},
   "outputs": [
    {
     "data": {
      "text/plain": [
       "'Hello'"
      ]
     },
     "execution_count": 17,
     "metadata": {},
     "output_type": "execute_result"
    }
   ],
   "source": [
    "'Hello, world!'[0:5]"
   ]
  },
  {
   "cell_type": "code",
   "execution_count": 16,
   "id": "5f473d2a",
   "metadata": {},
   "outputs": [
    {
     "data": {
      "text/plain": [
       "'Hello'"
      ]
     },
     "execution_count": 16,
     "metadata": {},
     "output_type": "execute_result"
    }
   ],
   "source": [
    "'Hello, world!'[:5]"
   ]
  },
  {
   "cell_type": "code",
   "execution_count": 15,
   "id": "20274cab",
   "metadata": {},
   "outputs": [
    {
     "data": {
      "text/plain": [
       "'lo, world!'"
      ]
     },
     "execution_count": 15,
     "metadata": {},
     "output_type": "execute_result"
    }
   ],
   "source": [
    "'Hello, world!'[3:]"
   ]
  },
  {
   "cell_type": "markdown",
   "id": "8bceb31e",
   "metadata": {},
   "source": [
    "# 7."
   ]
  },
  {
   "cell_type": "code",
   "execution_count": 18,
   "id": "3c7b06af",
   "metadata": {},
   "outputs": [
    {
     "data": {
      "text/plain": [
       "'HELLO'"
      ]
     },
     "execution_count": 18,
     "metadata": {},
     "output_type": "execute_result"
    }
   ],
   "source": [
    "'Hello'.upper()"
   ]
  },
  {
   "cell_type": "code",
   "execution_count": 19,
   "id": "a89367ba",
   "metadata": {},
   "outputs": [
    {
     "data": {
      "text/plain": [
       "True"
      ]
     },
     "execution_count": 19,
     "metadata": {},
     "output_type": "execute_result"
    }
   ],
   "source": [
    "'Hello'.upper().isupper()"
   ]
  },
  {
   "cell_type": "code",
   "execution_count": 20,
   "id": "9bbb761b",
   "metadata": {},
   "outputs": [
    {
     "data": {
      "text/plain": [
       "'hello'"
      ]
     },
     "execution_count": 20,
     "metadata": {},
     "output_type": "execute_result"
    }
   ],
   "source": [
    "'Hello'.upper().lower()"
   ]
  },
  {
   "cell_type": "markdown",
   "id": "e6ba7487",
   "metadata": {},
   "source": [
    "# 8."
   ]
  },
  {
   "cell_type": "code",
   "execution_count": 21,
   "id": "1f5d27c8",
   "metadata": {},
   "outputs": [
    {
     "data": {
      "text/plain": [
       "'There-can-only-one.'"
      ]
     },
     "execution_count": 21,
     "metadata": {},
     "output_type": "execute_result"
    }
   ],
   "source": [
    "'Remember, remember, the fifth of July.'.split()\n",
    "'-'.join('There can only one.'.split())\n"
   ]
  },
  {
   "cell_type": "markdown",
   "id": "b5bb0ec9",
   "metadata": {},
   "source": [
    "# 9."
   ]
  },
  {
   "cell_type": "markdown",
   "id": "0347d268",
   "metadata": {},
   "source": [
    "Right-justifying a string: The rjust() method is used to right-align a string within a specified width by padding it with spaces on the left."
   ]
  },
  {
   "cell_type": "code",
   "execution_count": 22,
   "id": "dac408ac",
   "metadata": {},
   "outputs": [
    {
     "name": "stdout",
     "output_type": "stream",
     "text": [
      "     hello\n"
     ]
    }
   ],
   "source": [
    "string = \"hello\"\n",
    "width = 10\n",
    "right_justified = string.rjust(width)\n",
    "print(right_justified) \n"
   ]
  },
  {
   "cell_type": "markdown",
   "id": "4c3da709",
   "metadata": {},
   "source": [
    "Left-justifying a string: The ljust() method is used to left-align a string within a specified width by padding it with spaces on the right."
   ]
  },
  {
   "cell_type": "code",
   "execution_count": 24,
   "id": "86763192",
   "metadata": {},
   "outputs": [
    {
     "name": "stdout",
     "output_type": "stream",
     "text": [
      "hello     \n"
     ]
    }
   ],
   "source": [
    "string = \"hello\"\n",
    "width = 10\n",
    "left_justified = string.ljust(width)\n",
    "print(left_justified)    "
   ]
  },
  {
   "cell_type": "markdown",
   "id": "f543a084",
   "metadata": {},
   "source": [
    "Centering a string: The center() method is used to center-align a string within a specified width by padding it with spaces on both sides."
   ]
  },
  {
   "cell_type": "code",
   "execution_count": 25,
   "id": "515b070f",
   "metadata": {},
   "outputs": [
    {
     "name": "stdout",
     "output_type": "stream",
     "text": [
      "  hello   \n"
     ]
    }
   ],
   "source": [
    "string = \"hello\"\n",
    "width = 10\n",
    "centered = string.center(width)\n",
    "print(centered)  \n"
   ]
  },
  {
   "cell_type": "markdown",
   "id": "97446313",
   "metadata": {},
   "source": [
    "# 10."
   ]
  },
  {
   "cell_type": "markdown",
   "id": "c75bda09",
   "metadata": {},
   "source": [
    "The best way to remove whitespace characters from the start or end of a string in Python is by using the strip() method. This method removes leading (at the start) and trailing (at the end) whitespace characters such as spaces, tabs, and newline characters."
   ]
  },
  {
   "cell_type": "code",
   "execution_count": 26,
   "id": "8f8011b3",
   "metadata": {},
   "outputs": [
    {
     "name": "stdout",
     "output_type": "stream",
     "text": [
      "Hello, world!\n"
     ]
    }
   ],
   "source": [
    "my_string = \"   Hello, world!   \"\n",
    "stripped_string = my_string.strip()\n",
    "print(stripped_string)  \n"
   ]
  },
  {
   "cell_type": "code",
   "execution_count": null,
   "id": "4d4ebc4b",
   "metadata": {},
   "outputs": [],
   "source": []
  }
 ],
 "metadata": {
  "kernelspec": {
   "display_name": "Python 3 (ipykernel)",
   "language": "python",
   "name": "python3"
  },
  "language_info": {
   "codemirror_mode": {
    "name": "ipython",
    "version": 3
   },
   "file_extension": ".py",
   "mimetype": "text/x-python",
   "name": "python",
   "nbconvert_exporter": "python",
   "pygments_lexer": "ipython3",
   "version": "3.10.9"
  }
 },
 "nbformat": 4,
 "nbformat_minor": 5
}
