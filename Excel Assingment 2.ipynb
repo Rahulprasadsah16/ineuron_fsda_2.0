{
 "cells": [
  {
   "cell_type": "markdown",
   "id": "2aeed201",
   "metadata": {},
   "source": [
    "# 1."
   ]
  },
  {
   "cell_type": "markdown",
   "id": "6996f862",
   "metadata": {},
   "source": [
    "In Excel, the dollar sign ($) is used as an indicator to create absolute cell references or mixed cell references in formulas. \n",
    "\n",
    "Absolute Cell Reference:\n",
    "    \n",
    "When you use a dollar sign before the column letter and/or row number in a cell reference (e.g., $A$1), it creates an absolute cell reference. Absolute references do not change when the formula is copied or filled to other cells. Both the column and row references remain fixed.\n",
    "\n",
    "Mixed Cell Reference - Absolute Column Reference:\n",
    "    \n",
    "If you use a dollar sign only before the column letter (e.g., $A1), it creates a mixed cell reference with an absolute column reference. In this case, the column reference remains fixed when the formula is copied or filled to other cells, but the row reference adjusts relative to the position of the formula.\n",
    "\n",
    "Mixed Cell Reference - Absolute Row Reference:\n",
    "    \n",
    "If you use a dollar sign only before the row number (e.g., A$1), it creates a mixed cell reference with an absolute row reference. In this case, the row reference remains fixed when the formula is copied or filled to other cells, but the column reference adjusts relative to the position of the formula.\n",
    "\n",
    "No Dollar Sign - Relative Cell Reference:\n",
    "    \n",
    "If you do not use any dollar signs in a cell reference (e.g., A1), it creates a relative cell reference. Relative references adjust automatically when the formula is copied or filled to other cells. Both the column and row references change relative to the position of the formula."
   ]
  },
  {
   "cell_type": "markdown",
   "id": "12ff91de",
   "metadata": {},
   "source": [
    "# 2."
   ]
  },
  {
   "cell_type": "markdown",
   "id": "5c3fdc3a",
   "metadata": {},
   "source": [
    "To change a cell reference from relative to absolute or mixed in Excel, you can manually edit the cell reference in a formula or use keyboard shortcuts to toggle between reference types.\n",
    "\n",
    "Manually Changing Cell References:\n",
    "    \n",
    "\n",
    "Absolute Cell Reference:\n",
    "    \n",
    "To change a relative reference to an absolute reference (e.g., from A1 to $A$1):\n",
    "\n",
    "Select the cell containing the formula.\n",
    "Click inside the formula bar where the reference appears.\n",
    "Move the cursor to the reference you want to change.\n",
    "Press the F4 key on your keyboard. This will toggle between different absolute reference options (e.g., $A$1, A$1, $A1).\n",
    "\n",
    "Mixed Cell Reference:\n",
    "    \n",
    "To change a relative reference to a mixed reference (e.g., from A1 to $A1 or A$1):\n",
    "\n",
    "Follow the same steps as above to select the cell containing the formula and click inside the formula bar.\n",
    "Move the cursor to the reference you want to change.\n",
    "Press the F4 key on your keyboard once to toggle between different mixed reference options.\n",
    "\n",
    "Using Keyboard Shortcuts:\n",
    "    \n",
    "\n",
    "Absolute Reference Shortcut:\n",
    "    \n",
    "To quickly change a reference to absolute (e.g., from A1 to $A$1):\n",
    "\n",
    "Select the cell containing the formula.\n",
    "Press the F4 key on your keyboard. This will toggle between different absolute reference options (e.g., $A$1, A$1, $A1).\n",
    "\n",
    "Mixed Reference Shortcut:\n",
    "    \n",
    "To quickly change a reference to mixed (e.g., from A1 to $A1 or A$1):\n",
    "\n",
    "Select the cell containing the formula.\n",
    "Press the F4 key on your keyboard once to toggle between different mixed reference options.\n"
   ]
  },
  {
   "cell_type": "markdown",
   "id": "7b8bbe74",
   "metadata": {},
   "source": [
    "# 3."
   ]
  },
  {
   "cell_type": "markdown",
   "id": "b535cd75",
   "metadata": {},
   "source": [
    "The order of operations in Excel follows the standard mathematical rules:\n",
    "\n",
    "Parentheses ():\n",
    "    \n",
    "Operations inside parentheses are always performed first. You can use parentheses to specify the order in which operations are evaluated.\n",
    "\n",
    "Exponents (^):\n",
    "    \n",
    "Exponentiation is performed next. For example, in the expression 2^3, Excel will calculate 2 raised to the power of 3, resulting in 8.\n",
    "\n",
    "Multiplication (*) and Division (/):\n",
    "    \n",
    "Multiplication and division are performed next, from left to right. If a formula contains both multiplication and division, Excel evaluates them in the order they appear.\n",
    "\n",
    "Addition (+) and Subtraction (-):\n",
    "    \n",
    "Addition and subtraction are performed last, from left to right. If a formula contains both addition and subtraction, Excel evaluates them in the order they appear.\n",
    "\n",
    "Concatenation (&):\n",
    "    \n",
    "If the formula involves concatenating strings of text using the ampersand (&) operator, this operation is performed after all other arithmetic and logical operations.\n",
    "\n",
    "Comparison Operators (>, <, >=, <=, =, <>):\n",
    "    \n",
    "Comparison operators are evaluated last. They are used to compare values and return a TRUE or FALSE result. Excel evaluates comparison operators after performing all arithmetic and logical operations."
   ]
  },
  {
   "cell_type": "markdown",
   "id": "50737e42",
   "metadata": {},
   "source": [
    "# 4."
   ]
  },
  {
   "cell_type": "markdown",
   "id": "d7bda582",
   "metadata": {},
   "source": [
    "VLOOKUP: Searches for a value in the first column of a table and returns a value in the same row from another column.\n",
    "\n",
    "=VLOOKUP(lookup_value, table_array, col_index_num, [range_lookup])\n"
   ]
  },
  {
   "cell_type": "markdown",
   "id": "4e62b4ae",
   "metadata": {},
   "source": [
    "SUM: Adds up all the numbers in a range of cells.\n",
    "    \n",
    "=SUM(number1, [number2], ...)\n"
   ]
  },
  {
   "cell_type": "markdown",
   "id": "00aa7dab",
   "metadata": {},
   "source": [
    "IF: Performs a logical test and returns one value if the condition is true and another value if the condition is false."
   ]
  },
  {
   "cell_type": "markdown",
   "id": "d9f0ea64",
   "metadata": {},
   "source": [
    "INDEX/MATCH: Returns the value of a cell in a specific row and column of a range, using the row and column numbers as inputs."
   ]
  },
  {
   "cell_type": "markdown",
   "id": "1c09283b",
   "metadata": {},
   "source": [
    "AVERAGE: Calculates the average (arithmetic mean) of the values in a range of cells."
   ]
  },
  {
   "cell_type": "markdown",
   "id": "90d499d7",
   "metadata": {},
   "source": [
    "# 5."
   ]
  },
  {
   "cell_type": "markdown",
   "id": "41a1dc74",
   "metadata": {},
   "source": [
    "The SUBTOTAL function in Excel is typically used when you need to perform calculations on a range of data while excluding other SUBTOTAL or manually filtered-out values. It's particularly useful in scenarios where you have a dataset with subtotals or groups, and you want to calculate totals or perform other functions within those groups while ignoring any intermediate subtotal values."
   ]
  },
  {
   "cell_type": "markdown",
   "id": "f0c6d504",
   "metadata": {},
   "source": [
    "Working with Filtered Data:\n",
    "    \n",
    "When you have a dataset with filters applied, and you want to perform calculations or aggregate functions (like SUM, AVERAGE, COUNT, etc.) on the visible data after applying the filter. SUBTOTAL automatically takes into account only the visible cells after applying the filter and excludes any manually hidden or filtered-out rows.\n",
    "\n",
    "Grouped Data:\n",
    "    \n",
    "When you have grouped data or subtotal rows in your dataset, and you want to calculate totals or other functions within each group while ignoring the subtotal rows. SUBTOTAL can be used to perform calculations within each group and exclude the subtotal rows from the calculation.\n",
    "\n",
    "Nested Subtotal Functions:\n",
    "    \n",
    "You can also use SUBTOTAL within nested formulas or functions to perform more complex calculations. For example, you might use SUBTOTAL within a formula that calculates percentages or ratios based on subtotal or grouped data.\n",
    "\n",
    "Dynamic Range Calculations:\n",
    "    \n",
    "When you want to create dynamic range calculations that adjust automatically when new data is added or filtered, SUBTOTAL can be used in conjunction with Excel's Table feature or dynamic named ranges to calculate totals or other functions based on the visible data.\n",
    "\n",
    "Totaling Multiple Columns:\n",
    "    \n",
    "SUBTOTAL can be used to calculate totals across multiple columns of data, taking into account only the visible cells in each column after applying filters or other visibility settings."
   ]
  },
  {
   "cell_type": "markdown",
   "id": "cc45e7b4",
   "metadata": {},
   "source": [
    "# 6."
   ]
  },
  {
   "cell_type": "markdown",
   "id": "bbe06754",
   "metadata": {},
   "source": [
    "=VLOOKUP(lookup_value, table_array, col_index_num, [range_lookup])\n",
    "\n",
    "lookup_value: \n",
    "\n",
    "This is the value that you want to search for in the first column of the table_array. It can be a value, a reference, or a text string.\n",
    "\n",
    "table_array: \n",
    "\n",
    "This is the range of cells that contains the data you want to search through. It should include the column that contains the value you want to return, as well as the column(s) that you want to search for the lookup_value. The first column in the table_array is where Excel searches for the lookup_value.\n",
    "\n",
    "col_index_num: \n",
    "\n",
    "This is the column number in the table_array from which you want to return a value. For example, if you want to return a value from the third column of the table_array, you would specify 3 as the col_index_num.\n",
    "\n",
    "[range_lookup]: \n",
    "\n",
    "This is an optional argument that specifies whether you want an exact match or an approximate match for the lookup_value. If set to TRUE or omitted, Excel will perform an approximate match, meaning it will find the closest match to the lookup_value that is less than or equal to the lookup_value. If set to FALSE, Excel will perform an exact match, meaning it will only return a value if it finds an exact match for the lookup_value in the first column of the table_array."
   ]
  },
  {
   "cell_type": "code",
   "execution_count": null,
   "id": "babee84a",
   "metadata": {},
   "outputs": [],
   "source": []
  }
 ],
 "metadata": {
  "kernelspec": {
   "display_name": "Python 3 (ipykernel)",
   "language": "python",
   "name": "python3"
  },
  "language_info": {
   "codemirror_mode": {
    "name": "ipython",
    "version": 3
   },
   "file_extension": ".py",
   "mimetype": "text/x-python",
   "name": "python",
   "nbconvert_exporter": "python",
   "pygments_lexer": "ipython3",
   "version": "3.10.9"
  }
 },
 "nbformat": 4,
 "nbformat_minor": 5
}
