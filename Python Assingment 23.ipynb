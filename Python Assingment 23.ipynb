{
 "cells": [
  {
   "cell_type": "markdown",
   "id": "519de2a2",
   "metadata": {},
   "source": [
    "# 1."
   ]
  },
  {
   "cell_type": "code",
   "execution_count": 3,
   "id": "ce99ed07",
   "metadata": {},
   "outputs": [
    {
     "name": "stdout",
     "output_type": "stream",
     "text": [
      "1 2 8\n"
     ]
    }
   ],
   "source": [
    "def func(a, b=6, c=8):\n",
    "    print(a, b, c)\n",
    "func(1, 2)"
   ]
  },
  {
   "cell_type": "markdown",
   "id": "878c870b",
   "metadata": {},
   "source": [
    "Explanation:\n",
    "\n",
    "We define a function func() that takes three parameters a, b, and c, with default values of 6 for b and 8 for c.\n",
    "\n",
    "When we call func(1, 2), we pass 1 as the value for a and 2 as the value for b. Since we don't provide a value for c, it takes its default value of 8.\n",
    "\n",
    "Inside the function, print(a, b, c) prints the values of a, b, and c, which are 1, 2, and 8 respectively."
   ]
  },
  {
   "cell_type": "markdown",
   "id": "75c89534",
   "metadata": {},
   "source": [
    "# 2."
   ]
  },
  {
   "cell_type": "code",
   "execution_count": 7,
   "id": "473fc23b",
   "metadata": {},
   "outputs": [
    {
     "name": "stdout",
     "output_type": "stream",
     "text": [
      "1 2 3\n"
     ]
    }
   ],
   "source": [
    "def func(a, b, c=5):\n",
    "    print(a, b, c)\n",
    "func(1, c=3, b=2)"
   ]
  },
  {
   "cell_type": "markdown",
   "id": "d8c4e275",
   "metadata": {},
   "source": [
    "Explanation:\n",
    "\n",
    "We define a function func() that takes three parameters a, b, and c, with a default value of 5 for c.\n",
    "\n",
    "When we call func(1, c=3, b=2), we pass 1 as the value for a, 2 as the value for b, and 3 as the value for c. We specify the values for b and c using keyword arguments, so their order can be different from the parameter order in the function definition.\n",
    "\n",
    "Inside the function, print(a, b, c) prints the values of a, b, and c, which are 1, 2, and 3 respectively."
   ]
  },
  {
   "cell_type": "markdown",
   "id": "a11bff9e",
   "metadata": {},
   "source": [
    "# 3."
   ]
  },
  {
   "cell_type": "code",
   "execution_count": 14,
   "id": "d71de897",
   "metadata": {},
   "outputs": [
    {
     "name": "stdout",
     "output_type": "stream",
     "text": [
      "1 (2, 3)\n"
     ]
    }
   ],
   "source": [
    "def func(a, *pargs):\n",
    "    print(a, pargs)\n",
    "func(1, 2, 3)"
   ]
  },
  {
   "cell_type": "markdown",
   "id": "2cf1780d",
   "metadata": {},
   "source": [
    "Explanation:\n",
    "\n",
    "We define a function func() that takes at least one argument a and collects any additional positional arguments into a tuple named pargs using the * syntax (*pargs is called \"gather\" syntax or \"variadic positional arguments\").\n",
    "\n",
    "When we call func(1, 2, 3), 1 is passed as the value for a, and 2 and 3 are passed as additional positional arguments.\n",
    "\n",
    "Inside the function, print(a, pargs) prints the value of a, which is 1, and the tuple pargs containing the additional positional arguments (2, 3). The values 2 and 3 are collected into the tuple pargs."
   ]
  },
  {
   "cell_type": "markdown",
   "id": "f7672211",
   "metadata": {},
   "source": [
    "# 4."
   ]
  },
  {
   "cell_type": "code",
   "execution_count": 17,
   "id": "ba237ab5",
   "metadata": {},
   "outputs": [
    {
     "name": "stdout",
     "output_type": "stream",
     "text": [
      "1 {'c': 3, 'b': 2}\n"
     ]
    }
   ],
   "source": [
    "def func(a, **kargs):\n",
    "    print(a, kargs)\n",
    "func(a=1, c=3, b=2)"
   ]
  },
  {
   "cell_type": "markdown",
   "id": "2f362cb5",
   "metadata": {},
   "source": [
    "Explanation:\n",
    "\n",
    "We define a function func() that takes at least one argument a and collects any additional keyword arguments into a dictionary named kargs using the ** syntax (**kargs is called \"keyword argument packing\").\n",
    "\n",
    "When we call func(a=1, c=3, b=2), a is passed as a keyword argument with a value of 1, and c and b are also passed as keyword arguments with values of 3 and 2 respectively.\n",
    "\n",
    "Inside the function, print(a, kargs) prints the value of a, which is 1, and the dictionary kargs containing the additional keyword arguments {'c': 3, 'b': 2}. The keyword arguments c and b, along with their respective values, are collected into the dictionary kargs."
   ]
  },
  {
   "cell_type": "markdown",
   "id": "95fbfd63",
   "metadata": {},
   "source": [
    "# 5."
   ]
  },
  {
   "cell_type": "code",
   "execution_count": 18,
   "id": "663fe127",
   "metadata": {},
   "outputs": [
    {
     "name": "stdout",
     "output_type": "stream",
     "text": [
      "1 5 6 5\n"
     ]
    }
   ],
   "source": [
    "def func(a, b, c=8, d=5): print(a, b, c, d)\n",
    "func(1, *(5, 6))\n"
   ]
  },
  {
   "cell_type": "markdown",
   "id": "01f3f85f",
   "metadata": {},
   "source": [
    "Explanation:\n",
    "\n",
    "We define a function func() that takes four parameters a, b, c, and d, with default values of 8 for c and 5 for d. The function prints the values of these parameters.\n",
    "\n",
    "\n",
    "When we call func(1, *(5, 6)), the arguments 1 and the elements of the tuple (5, 6) are unpacked and passed to the function func().\n",
    "\n",
    "\n",
    "The value 1 is assigned to parameter a, and the values 5 and 6 are assigned to parameters b and c, respectively, due to the positional unpacking *(5, 6).\n",
    "\n",
    "\n",
    "Since no value is provided for parameter d, it takes its default value of 5.\n",
    "\n",
    "The function func() prints the values of a, b, c, and d, which are 1, 5, 6, and 5, respectively."
   ]
  },
  {
   "cell_type": "markdown",
   "id": "2860b572",
   "metadata": {},
   "source": [
    "# 6."
   ]
  },
  {
   "cell_type": "code",
   "execution_count": 25,
   "id": "c0cc5cbf",
   "metadata": {},
   "outputs": [
    {
     "data": {
      "text/plain": [
       "(1, ['x'], {'a': 'y'})"
      ]
     },
     "execution_count": 25,
     "metadata": {},
     "output_type": "execute_result"
    }
   ],
   "source": [
    "def func(a, b, c): a = 2; b[0] = 'x'; c['a'] = 'y'\n",
    "l=1; m=[1]; n={'a':0}\n",
    "func(l, m, n)\n",
    "l, m, n\n",
    "\n"
   ]
  },
  {
   "cell_type": "markdown",
   "id": "b3fa40a8",
   "metadata": {},
   "source": [
    "Explanation:\n",
    "\n",
    "We define a function func(a, b, c) that takes three parameters a, b, and c. Inside this function:\n",
    "\n",
    "a is assigned the value 2, but this assignment has no effect outside the function because a is a local variable.\n",
    "\n",
    "b[0] is assigned the value 'x'. Since b is a mutable object (list), this assignment modifies the list m (passed as argument b).\n",
    "\n",
    "c['a'] is assigned the value 'y'. Since c is a mutable object (dictionary), this assignment modifies the dictionary n (passed as argument c).\n",
    "\n",
    "Outside the function:\n",
    "\n",
    "l remains 1 because it was passed as a primitive type (int), and changes to local variables inside the function do not affect variables in the calling scope.\n",
    "\n",
    "m is modified to ['x'] because it was passed as a mutable object (list) and was modified inside the function.\n",
    "\n",
    "n is modified to {'a': 'y'} because it was passed as a mutable object (dictionary) and was modified inside the function."
   ]
  },
  {
   "cell_type": "code",
   "execution_count": null,
   "id": "1838e827",
   "metadata": {},
   "outputs": [],
   "source": []
  }
 ],
 "metadata": {
  "kernelspec": {
   "display_name": "Python 3 (ipykernel)",
   "language": "python",
   "name": "python3"
  },
  "language_info": {
   "codemirror_mode": {
    "name": "ipython",
    "version": 3
   },
   "file_extension": ".py",
   "mimetype": "text/x-python",
   "name": "python",
   "nbconvert_exporter": "python",
   "pygments_lexer": "ipython3",
   "version": "3.10.9"
  }
 },
 "nbformat": 4,
 "nbformat_minor": 5
}
