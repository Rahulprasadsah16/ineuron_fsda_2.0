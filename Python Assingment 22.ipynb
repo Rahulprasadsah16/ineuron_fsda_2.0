{
 "cells": [
  {
   "cell_type": "markdown",
   "id": "d5543919",
   "metadata": {},
   "source": [
    "# 1."
   ]
  },
  {
   "cell_type": "code",
   "execution_count": 1,
   "id": "577f2479",
   "metadata": {},
   "outputs": [
    {
     "name": "stdout",
     "output_type": "stream",
     "text": [
      "iNeuron\n"
     ]
    }
   ],
   "source": [
    "X = 'iNeuron'\n",
    "\n",
    "def func():\n",
    "    print(X)\n",
    "\n",
    "func()\n"
   ]
  },
  {
   "cell_type": "markdown",
   "id": "1f66e9c7",
   "metadata": {},
   "source": [
    "Explanation:\n",
    "\n",
    "We first define a variable X with the string value 'iNeuron'.\n",
    "\n",
    "Then, we define a function func() that prints the value of the variable X.\n",
    "\n",
    "When we call the function func() at the end of the script, it prints the value of X, which is 'iNeuron'."
   ]
  },
  {
   "cell_type": "markdown",
   "id": "33988101",
   "metadata": {},
   "source": [
    "# 2."
   ]
  },
  {
   "cell_type": "code",
   "execution_count": 6,
   "id": "a62d55c0",
   "metadata": {},
   "outputs": [
    {
     "name": "stdout",
     "output_type": "stream",
     "text": [
      "iNeuron\n"
     ]
    }
   ],
   "source": [
    "X = 'iNeuron'\n",
    "\n",
    "def func():\n",
    "    X = 'NI!'\n",
    "\n",
    "func()\n",
    "print(X)\n"
   ]
  },
  {
   "cell_type": "markdown",
   "id": "85cd41b3",
   "metadata": {},
   "source": [
    "Explanation:\n",
    "\n",
    "First, a global variable X is defined with the value 'iNeuron'.\n",
    "\n",
    "Then, a function func() is defined, but it doesn't contain any executable code (i.e., no statements within its body).\n",
    "\n",
    "When the func() function is called, it doesn't modify the global variable X, but instead, it defines a local variable X with the value 'NI!'. This local variable X only exists within the scope of the func() function.\n",
    "\n",
    "After calling func(), when print(X) is executed, it prints the value of the global variable X, which remains 'iNeuron' and was not affected by the local variable X defined within the func() function."
   ]
  },
  {
   "cell_type": "markdown",
   "id": "12049a75",
   "metadata": {},
   "source": [
    "# 3."
   ]
  },
  {
   "cell_type": "code",
   "execution_count": 12,
   "id": "4c935bdf",
   "metadata": {},
   "outputs": [
    {
     "name": "stdout",
     "output_type": "stream",
     "text": [
      "iNeuron\n",
      "iNeuron\n"
     ]
    }
   ],
   "source": [
    "X = 'iNeuron'\n",
    "def func():\n",
    "    X = 'NI'\n",
    "print(X)\n",
    "\n",
    "\n",
    "func()\n",
    "print(X)"
   ]
  },
  {
   "cell_type": "markdown",
   "id": "d5161281",
   "metadata": {},
   "source": [
    "Explanation:\n",
    "\n",
    "The global variable X is assigned the value 'iNeuron'.\n",
    "\n",
    "Inside the func() function, no action is performed that would change the value of X. Therefore, when print(X) is called within the function, it prints the value of the global variable X, which is 'iNeuron'.\n",
    "\n",
    "The func() function is called, but it doesn't affect the value of X.\n",
    "\n",
    "Finally, print(X) outside the function prints the value of the global variable X, which remains 'iNeuron'."
   ]
  },
  {
   "cell_type": "markdown",
   "id": "084a0e84",
   "metadata": {},
   "source": [
    "# 4."
   ]
  },
  {
   "cell_type": "code",
   "execution_count": 17,
   "id": "93c06547",
   "metadata": {},
   "outputs": [
    {
     "name": "stdout",
     "output_type": "stream",
     "text": [
      "NI\n"
     ]
    }
   ],
   "source": [
    " X = 'iNeuron'\n",
    "def func():\n",
    "    global X\n",
    "X = 'NI'\n",
    "\n",
    "\n",
    "func()\n",
    "print(X)"
   ]
  },
  {
   "cell_type": "markdown",
   "id": "72471a5e",
   "metadata": {},
   "source": [
    "Explanation:\n",
    "\n",
    "We first define a global variable X with the value 'iNeuron'.\n",
    "\n",
    "Then, we define a function func() where we declare the variable X as global using the global keyword. This means that within the function, any assignments to X will affect the global variable X declared outside the function.\n",
    "\n",
    "Inside the func() function, X is assigned the value 'NI'.\n",
    "\n",
    "When the func() function is called, it changes the value of the global variable X from 'iNeuron' to 'NI'.\n",
    "\n",
    "After calling func(), we print the value of the global variable X, which has been modified by the function to 'NI'. Therefore, print(X) outputs 'NI'."
   ]
  },
  {
   "cell_type": "markdown",
   "id": "8fdb3c1e",
   "metadata": {},
   "source": [
    "# 5."
   ]
  },
  {
   "cell_type": "code",
   "execution_count": 36,
   "id": "9f05901b",
   "metadata": {},
   "outputs": [
    {
     "name": "stdout",
     "output_type": "stream",
     "text": [
      "iNeuron\n"
     ]
    },
    {
     "data": {
      "text/plain": [
       "'iNeuron'"
      ]
     },
     "execution_count": 36,
     "metadata": {},
     "output_type": "execute_result"
    }
   ],
   "source": [
    "X = 'iNeuron'\n",
    "def func():\n",
    "    X = 'NI'\n",
    "def nested():\n",
    "    print(X)\n",
    "nested()\n",
    "\n",
    "\n",
    "func()\n",
    "X"
   ]
  },
  {
   "cell_type": "markdown",
   "id": "365c7676",
   "metadata": {},
   "source": [
    "Explanation:\n",
    "\n",
    "We first define a global variable X with the value 'iNeuron'.\n",
    "\n",
    "Then, we define a function func() where a local variable X is defined with the value 'NI'. This local variable X exists only within the scope of the func() function.\n",
    "\n",
    "Inside the func() function, no action is performed with the local variable X. It is defined but not used.\n",
    "\n",
    "We define another function nested() within the global scope that prints the value of X.\n",
    "\n",
    "When the nested() function is called, it prints the value of the global variable X, which is 'iNeuron'.\n",
    "\n",
    "After calling nested() function within the global scope, execution returns to the main code.\n",
    "\n",
    "The func() function is called, but it doesn't affect the value of the global variable X.\n",
    "\n",
    "Finally, the last line X in the global scope just returns the value of the global variable X, which is 'iNeuron'."
   ]
  },
  {
   "cell_type": "markdown",
   "id": "35ada5c9",
   "metadata": {},
   "source": [
    "# 6."
   ]
  },
  {
   "cell_type": "code",
   "execution_count": 37,
   "id": "3547f8d8",
   "metadata": {},
   "outputs": [
    {
     "name": "stdout",
     "output_type": "stream",
     "text": [
      "Spam\n"
     ]
    }
   ],
   "source": [
    "def func():\n",
    "    X = 'NI'\n",
    "    def nested():\n",
    "        nonlocal X\n",
    "        X = 'Spam'\n",
    "    nested()\n",
    "    print(X)\n",
    "\n",
    "func()\n"
   ]
  },
  {
   "cell_type": "markdown",
   "id": "dca49753",
   "metadata": {},
   "source": [
    "Explanation:\n",
    "\n",
    "The func() function defines a local variable X with the value 'NI'.\n",
    "\n",
    "Inside the func() function, the nested() function is defined.\n",
    "\n",
    "The nonlocal keyword inside the nested() function is used to indicate that the variable X is defined in the enclosing scope (func()), not locally within nested().\n",
    "Inside nested(), X is assigned the value 'Spam'.\n",
    "\n",
    "After calling nested(), the value of X within func() has been modified to 'Spam', so print(X) outputs 'Spam'."
   ]
  },
  {
   "cell_type": "code",
   "execution_count": null,
   "id": "4531281a",
   "metadata": {},
   "outputs": [],
   "source": []
  }
 ],
 "metadata": {
  "kernelspec": {
   "display_name": "Python 3 (ipykernel)",
   "language": "python",
   "name": "python3"
  },
  "language_info": {
   "codemirror_mode": {
    "name": "ipython",
    "version": 3
   },
   "file_extension": ".py",
   "mimetype": "text/x-python",
   "name": "python",
   "nbconvert_exporter": "python",
   "pygments_lexer": "ipython3",
   "version": "3.10.9"
  }
 },
 "nbformat": 4,
 "nbformat_minor": 5
}
