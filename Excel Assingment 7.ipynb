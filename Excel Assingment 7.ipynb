{
 "cells": [
  {
   "cell_type": "markdown",
   "id": "07783c4e",
   "metadata": {},
   "source": [
    "# 1."
   ]
  },
  {
   "cell_type": "markdown",
   "id": "f9ff3439",
   "metadata": {},
   "source": [
    "AutoSum:\n",
    "\n",
    "Sum: =SUM(A1:A10) - Adds up the values in cells A1 through A10.\n",
    "Average: =AVERAGE(B1:B5) - Calculates the average of values in cells B1 through B5.\n",
    "Count: =COUNT(C1:C100) - Counts the number of cells in the range C1 through C100 that contain numbers.\n",
    "\n",
    "Recently Used:\n",
    "\n",
    "If you've recently used a function, it will appear in this dropdown for easy access based on your recent activity.\n",
    "\n",
    "Math & Trig:\n",
    "\n",
    "ABS: =ABS(-5) - Returns the absolute value of a number, in this case, 5.\n",
    "PI: =PI() - Returns the value of pi (π), which is approximately 3.14159.\n",
    "\n",
    "Text:\n",
    "\n",
    "LEN: =LEN(\"Hello\") - Returns the number of characters in a text string, in this case, 5.\n",
    "CONCATENATE: =CONCATENATE(\"Hello \", \"World\") - Joins multiple text strings into one, resulting in \"Hello World\".\n",
    "\n",
    "Date & Time:\n",
    "\n",
    "TODAY: =TODAY() - Returns the current date.\n",
    "YEAR: =YEAR(\"1/1/2024\") - Returns the year from a given date, in this case, 2024.\n",
    "\n",
    "Lookup & Reference:\n",
    "\n",
    "VLOOKUP: =VLOOKUP(A2, B2:D10, 3, FALSE) - Looks for a value in the first column of a table and returns a value in the same row from a column you specify.\n",
    "INDEX: =INDEX(A1:A10, 5) - Returns the value of a cell in a specific row and column of a range.\n",
    "\n",
    "Logical:\n",
    "\n",
    "IF: =IF(A1>10, \"Yes\", \"No\") - Checks whether a condition is met, and returns one value if true and another value if false.\n",
    "AND: =AND(A1>10, B1<20) - Checks if all arguments are true, in this case, if A1 is greater than 10 and B1 is less than 20.\n",
    "\n",
    "Engineering:\n",
    "\n",
    "DEC2BIN: =DEC2BIN(10) - Converts a decimal number to binary, resulting in \"1010\".\n",
    "BITAND: =BITAND(5, 3) - Performs a bitwise AND operation, in this case, 1 (because 101 & 011 = 001)."
   ]
  },
  {
   "cell_type": "markdown",
   "id": "a016ccda",
   "metadata": {},
   "source": [
    "# 2."
   ]
  },
  {
   "cell_type": "markdown",
   "id": "db0f8f1b",
   "metadata": {},
   "source": [
    "In Microsoft Excel, there are several ways to select columns and rows:\n",
    "\n",
    "Selecting a Single Column or Row:\n",
    "\n",
    "To select a single column, click on the column header. For example, click on \"A\" to select column A.\n",
    "To select a single row, click on the row number. For example, click on \"1\" to select row 1.\n",
    "\n",
    "Selecting Multiple Columns or Rows:\n",
    "\n",
    "To select multiple adjacent columns or rows, click and drag across the column headers or row numbers. For example, click on column \"A\" and drag to column \"C\" to select columns A, B, and C.\n",
    "To select multiple non-adjacent columns or rows, hold down the Ctrl key (Command key on Mac) and click on the column headers or row numbers you want to select.\n",
    "\n",
    "Selecting Entire Columns or Rows:\n",
    "\n",
    "To select an entire column, click on the column header. For example, click on \"A\" to select the entire column A.\n",
    "To select an entire row, click on the row number. For example, click on \"1\" to select the entire row 1.\n",
    "To select all columns or rows in the worksheet, click on the intersection of the row numbers and column letters (the \"Select All\" button), or press Ctrl + A.\n",
    "\n",
    "Selecting Using Keyboard Shortcuts:\n",
    "\n",
    "To select an entire column, press Ctrl + Spacebar.\n",
    "To select an entire row, press Shift + Spacebar.\n",
    "\n",
    "Selecting Dynamic Ranges:\n",
    "\n",
    "You can also select dynamic ranges using keyboard shortcuts or by clicking and dragging while holding down the Shift key. For example, click on a cell, then hold down Shift while using the arrow keys to expand the selection."
   ]
  },
  {
   "cell_type": "markdown",
   "id": "2fbef095",
   "metadata": {},
   "source": [
    "# 3."
   ]
  },
  {
   "cell_type": "markdown",
   "id": "5e7ea6d6",
   "metadata": {},
   "source": [
    "AutoFit is a feature in Microsoft Excel that automatically adjusts the width of columns or the height of rows to accommodate the content within them. "
   ]
  },
  {
   "cell_type": "markdown",
   "id": "7749a9a4",
   "metadata": {},
   "source": [
    "AutoFit Columns: Excel adjusts the width of the selected column(s) to fit the widest cell content within that column. This means if you have long text or numbers in a cell, AutoFit will adjust the column width so that all the content is visible without wrapping or truncating.\n",
    "\n",
    "AutoFit Rows: Excel adjusts the height of the selected row(s) to fit the tallest content within that row. This ensures that all content within the cells in the row is visible without any text being cut off.\n",
    "\n",
    "We use the AutoFit feature for several reasons:\n",
    "\n",
    "Improved Readability: AutoFitting columns and rows ensures that all content within cells is visible, which improves readability and comprehension of the data.\n",
    "\n",
    "Professional Appearance: By adjusting column widths and row heights to fit the content precisely, your Excel spreadsheet looks more polished and professional.\n",
    "\n",
    "Efficiency: AutoFit saves time by automatically adjusting the column widths and row heights rather than manually adjusting them one by one.\n",
    "\n",
    "Consistency: It helps maintain consistent formatting throughout the spreadsheet by ensuring that all similar data is displayed uniformly."
   ]
  },
  {
   "cell_type": "markdown",
   "id": "6a5332d8",
   "metadata": {},
   "source": [
    "# 4."
   ]
  },
  {
   "cell_type": "markdown",
   "id": "7d2a5e85",
   "metadata": {},
   "source": [
    "In Microsoft Excel, you can insert new rows and columns into an existing table using several methods:\n",
    "\n",
    "Inserting Rows:\n",
    "\n",
    "\n",
    "Insert Button:\n",
    "\n",
    "Select the row below where you want to insert the new row.\n",
    "Go to the \"Home\" tab on the ribbon.\n",
    "In the \"Cells\" group, click on the \"Insert\" dropdown arrow.\n",
    "Select \"Insert Sheet Rows.\" This will insert a new row above the selected row.\n",
    "\n",
    "Right-click Menu:\n",
    "\n",
    "Right-click on the row below where you want to insert the new row.\n",
    "From the context menu, select \"Insert\" > \"Entire Row.\" This will insert a new row above the selected row.\n",
    "\n",
    "Shortcut Key:\n",
    "\n",
    "Select the row below where you want to insert the new row.\n",
    "Press Ctrl + Shift + \"+\" (plus sign). This will insert a new row above the selected row.\n",
    "\n",
    "\n",
    "Inserting Columns:\n",
    "\n",
    "\n",
    "Insert Button:\n",
    "\n",
    "Select the column to the right of where you want to insert the new column.\n",
    "Go to the \"Home\" tab on the ribbon.\n",
    "In the \"Cells\" group, click on the \"Insert\" dropdown arrow.\n",
    "Select \"Insert Sheet Columns.\" This will insert a new column to the left of the selected column.\n",
    "\n",
    "Right-click Menu:\n",
    "\n",
    "Right-click on the column to the right of where you want to insert the new column.\n",
    "From the context menu, select \"Insert\" > \"Entire Column.\" This will insert a new column to the left of the selected column.\n",
    "\n",
    "Shortcut Key:\n",
    "\n",
    "Select the column to the right of where you want to insert the new column.\n",
    "Press Ctrl + Shift + \"+\" (plus sign). This will insert a new column to the left of the selected column."
   ]
  },
  {
   "cell_type": "markdown",
   "id": "d6cf32d9",
   "metadata": {},
   "source": [
    "# 5."
   ]
  },
  {
   "cell_type": "markdown",
   "id": "a164533c",
   "metadata": {},
   "source": [
    "To hide and unhide columns in Excel, you can use the following steps:\n",
    "\n",
    "Hiding Columns:\n",
    "\n",
    "Select Columns: Click on the header of the column or columns you want to hide. To select multiple columns, click and drag across the column headers.\n",
    "\n",
    "Right-click Menu: Right-click on any selected column header.\n",
    "\n",
    "Hide Columns: In the context menu that appears, choose \"Hide.\" Alternatively, you can use the keyboard shortcut Ctrl + 0 (zero) to hide the selected columns.\n",
    "\n",
    "\n",
    "Unhiding Columns:\n",
    "\n",
    "Select Adjacent Columns: Click on the column headers to the left and right of the hidden columns. For example, if columns B and D are hidden, click on columns A and E.\n",
    "\n",
    "Right-click Menu: Right-click on any selected column header.\n",
    "\n",
    "Unhide Columns: In the context menu that appears, choose \"Unhide.\" Alternatively, you can use the keyboard shortcut Ctrl + Shift + 0 (zero) to unhide the selected columns."
   ]
  },
  {
   "cell_type": "markdown",
   "id": "60419fe2",
   "metadata": {},
   "source": [
    "# 6."
   ]
  },
  {
   "cell_type": "markdown",
   "id": "90fe5eb5",
   "metadata": {},
   "source": [
    "Open Excel:\n",
    "Open Microsoft Excel and create a new worksheet or open an existing one.\n",
    "\n",
    "Create a Table:\n",
    "Enter some sample data into the cells to create a table. For this example, let's create a table with the following data:"
   ]
  },
  {
   "cell_type": "raw",
   "id": "1b42a0eb",
   "metadata": {},
   "source": [
    "A         B         C\n"
   ]
  },
  {
   "cell_type": "raw",
   "id": "801a7b80",
   "metadata": {},
   "source": [
    "1 Quantity Price Total\n",
    "2 10 $5 Formula\n",
    "3 15 $7 Formula"
   ]
  },
  {
   "cell_type": "markdown",
   "id": "8c5a4213",
   "metadata": {},
   "source": [
    "\n",
    "3. **Calculate Total Using AutoSum:**\n",
    "    \n",
    "- Click on cell C2 (the cell where you want the total for the first row).\n",
    "- Go to the \"Home\" tab on the ribbon.\n",
    "- In the \"Editing\" group, click on the \"AutoSum\" button (Σ) to open the dropdown menu.\n",
    "- Choose the appropriate function from the dropdown menu. For example:\n",
    "  - **Sum**: Select \"Sum\" to calculate the total quantity in cell C2.\n",
    "  - **Average**: Select \"Average\" to calculate the average price in cell C2.\n",
    "  - **Count**: Select \"Count\" to count the number of values in cells C2.\n",
    "  - **Max**: Select \"Max\" to find the maximum value in cells C2.\n",
    "  - **Min**: Select \"Min\" to find the minimum value in cells C2.\n",
    "\n",
    "4. **Apply AutoSum to Remaining Rows:**\n",
    "    \n",
    "- After selecting the appropriate function for cell C2, press Enter to apply the function and calculate the total.\n",
    "- You can then use the fill handle (the small square at the bottom-right corner of the selected cell) to drag the formula down to apply the same function to other rows in column C.\n",
    "\n",
    "5. **Verify Results:**\n",
    "    \n",
    "- Once you apply the AutoSum function to other rows, verify that the calculations are correct by checking the totals in column C.\n",
    "\n",
    "By following these steps, you can create a table within an Excel worksheet and use different functions available in the AutoSum command to perform calculations based on the data in the table.\n"
   ]
  },
  {
   "cell_type": "code",
   "execution_count": null,
   "id": "9a0e0d08",
   "metadata": {},
   "outputs": [],
   "source": []
  }
 ],
 "metadata": {
  "kernelspec": {
   "display_name": "Python 3 (ipykernel)",
   "language": "python",
   "name": "python3"
  },
  "language_info": {
   "codemirror_mode": {
    "name": "ipython",
    "version": 3
   },
   "file_extension": ".py",
   "mimetype": "text/x-python",
   "name": "python",
   "nbconvert_exporter": "python",
   "pygments_lexer": "ipython3",
   "version": "3.10.9"
  }
 },
 "nbformat": 4,
 "nbformat_minor": 5
}
