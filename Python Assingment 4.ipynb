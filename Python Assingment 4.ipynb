{
 "cells": [
  {
   "cell_type": "markdown",
   "id": "7a81ba5f",
   "metadata": {},
   "source": [
    "# 1."
   ]
  },
  {
   "cell_type": "markdown",
   "id": "011a90b7",
   "metadata": {},
   "source": [
    "In Python, [ ] represents an empty list literal. It is used to create an empty list, which is a mutable, ordered collection of elements. A list is a versatile data structure in Python that can contain elements of different data types, and it allows for easy manipulation and iteration."
   ]
  },
  {
   "cell_type": "code",
   "execution_count": 1,
   "id": "816317e1",
   "metadata": {},
   "outputs": [],
   "source": [
    "empty_list = []\n"
   ]
  },
  {
   "cell_type": "code",
   "execution_count": 2,
   "id": "91a1f42e",
   "metadata": {},
   "outputs": [],
   "source": [
    "my_list = [1, 2, 3, 4, 5]\n"
   ]
  },
  {
   "cell_type": "markdown",
   "id": "b97f0d70",
   "metadata": {},
   "source": [
    "To assign the value 'hello' as the third value in a list stored in a variable called spam, you can use list indexing and assignment. In Python, list indexing starts from 0, so the third value would be at index 2."
   ]
  },
  {
   "cell_type": "markdown",
   "id": "598a1be5",
   "metadata": {},
   "source": [
    "# 2."
   ]
  },
  {
   "cell_type": "code",
   "execution_count": 12,
   "id": "4bae8da6",
   "metadata": {},
   "outputs": [
    {
     "name": "stdout",
     "output_type": "stream",
     "text": [
      "[2, 4, 'hello', 8, 10]\n"
     ]
    }
   ],
   "source": [
    "spam = [2, 4, 6, 8, 10]\n",
    "\n",
    "# Assign 'hello' as the third value (at index 2)\n",
    "spam[2] = 'hello'\n",
    "\n",
    "print(spam)  \n"
   ]
  },
  {
   "cell_type": "markdown",
   "id": "d3247586",
   "metadata": {},
   "source": [
    "# 3."
   ]
  },
  {
   "cell_type": "markdown",
   "id": "0207a76c",
   "metadata": {},
   "source": [
    "Let's break down the expression spam[int(int('3' * 2) / 11)] step by step:\n",
    "\n",
    "'3' * 2 evaluates to '33'.\n",
    "int('33') converts the string '33' to an integer, resulting in the integer 33.\n",
    "int('33') / 11 evaluates to 3.0 (since integer division 33 / 11 results in 3).\n",
    "int(3.0) converts the float 3.0 to an integer, resulting in the integer 3.\n",
    "So, the expression spam[int(int('3' * 2) / 11)] is equivalent to spam[3].\n",
    "\n",
    "Given that spam is [2, 4, 'hello', 8, 10], the value of spam[3] is 8.\n",
    "\n",
    "Therefore, the value of spam[int(int('3' * 2) / 11)] is 8. "
   ]
  },
  {
   "cell_type": "markdown",
   "id": "0129ef7e",
   "metadata": {},
   "source": [
    "# 4."
   ]
  },
  {
   "cell_type": "markdown",
   "id": "1f90a91e",
   "metadata": {},
   "source": [
    "\n",
    "In Python, negative indices are used to access elements from the end of a list. The index -1 refers to the last element of the list, -2 refers to the second-to-last element, and so on.\n",
    "\n",
    "Given the list spam = [2, 4, 'hello', 8, 10], the value of spam[-1] is the last element of the list, which is 10.\n",
    "\n",
    "So, the value of spam[-1] is 10."
   ]
  },
  {
   "cell_type": "markdown",
   "id": "a37b1270",
   "metadata": {},
   "source": [
    "# 5."
   ]
  },
  {
   "cell_type": "markdown",
   "id": "470c77ec",
   "metadata": {},
   "source": [
    "In Python, when using list slicing, the syntax spam[start:end] returns a new list containing elements from index start (inclusive) up to index end (exclusive). If start is omitted, it defaults to the beginning of the list, and if end is omitted, it defaults to the end of the list.\n",
    "\n",
    "Given the list spam = [2, 4, 'hello', 8, 10], spam[:2] will return a new list containing elements from the beginning of spam up to, but not including, the element at index 2.\n",
    "\n",
    "So, spam[:2] will return [2, 4]."
   ]
  },
  {
   "cell_type": "markdown",
   "id": "666a3ae0",
   "metadata": {},
   "source": [
    "# 6."
   ]
  },
  {
   "cell_type": "markdown",
   "id": "a6967371",
   "metadata": {},
   "source": [
    "The index() method in Python is used to find the index of the first occurrence of a specified value within a list. If the specified value is not found in the list, it raises a ValueError.\n",
    "\n",
    "However, since the variable bacon has not been defined in the context provided, it's not possible to determine the value of bacon.index('cat') without knowing the contents of the bacon list."
   ]
  },
  {
   "cell_type": "code",
   "execution_count": 11,
   "id": "9dfb1a08",
   "metadata": {},
   "outputs": [
    {
     "name": "stdout",
     "output_type": "stream",
     "text": [
      "1\n"
     ]
    }
   ],
   "source": [
    "bacon = ['dog', 'cat', 'rabbit']\n",
    "\n",
    "index_of_cat = bacon.index('cat')\n",
    "print(index_of_cat)  \n"
   ]
  },
  {
   "cell_type": "markdown",
   "id": "d483c94a",
   "metadata": {},
   "source": [
    "# 7."
   ]
  },
  {
   "cell_type": "markdown",
   "id": "af5bec3c",
   "metadata": {},
   "source": [
    "The append() method in Python is used to add an element to the end of a list. When you call bacon.append(99), it adds the value 99 to the end of the list bacon.\n",
    "\n",
    "For example, if bacon initially contains [2, 4, 'hello', 8, 10], calling bacon.append(99) will modify the list bacon to [2, 4, 'hello', 8, 10, 99].\n",
    "\n",
    "So, after calling bacon.append(99), the list bacon will look like [2, 4, 'hello', 8, 10, 99]."
   ]
  },
  {
   "cell_type": "markdown",
   "id": "4ba7e408",
   "metadata": {},
   "source": [
    "# 8."
   ]
  },
  {
   "cell_type": "markdown",
   "id": "1bd8206a",
   "metadata": {},
   "source": [
    "The remove() method in Python is used to remove the first occurrence of a specified value from a list. When you call bacon.remove('cat'), it removes the first occurrence of the value 'cat' from the list bacon.\n",
    "\n",
    "If 'cat' is present in the list bacon, it will be removed. If 'cat' is not present in the list, a ValueError will be raised.\n",
    "\n",
    "For example, if bacon initially contains ['dog', 'cat', 'rabbit'], calling bacon.remove('cat') will modify the list bacon to ['dog', 'rabbit'].\n",
    "\n",
    "So, after calling bacon.remove('cat'), the list bacon will look like ['dog', 'rabbit']. If 'cat' is not present in the list, calling bacon.remove('cat') will raise a ValueError."
   ]
  },
  {
   "cell_type": "markdown",
   "id": "2040b333",
   "metadata": {},
   "source": [
    "# 9."
   ]
  },
  {
   "cell_type": "markdown",
   "id": "9e650635",
   "metadata": {},
   "source": [
    "In Python, the list concatenation operator is +, and the list replication operator is *.\n",
    "\n",
    "List Concatenation Operator (+):\n",
    "\n",
    "The + operator is used to concatenate two lists, resulting in a new list that contains all the elements from both lists in the order they appear.\n",
    "Example:"
   ]
  },
  {
   "cell_type": "code",
   "execution_count": 10,
   "id": "c992c696",
   "metadata": {},
   "outputs": [
    {
     "name": "stdout",
     "output_type": "stream",
     "text": [
      "[1, 2, 3, 4, 5, 6]\n"
     ]
    }
   ],
   "source": [
    "list1 = [1, 2, 3]\n",
    "list2 = [4, 5, 6]\n",
    "concatenated_list = list1 + list2\n",
    "print(concatenated_list) "
   ]
  },
  {
   "cell_type": "markdown",
   "id": "d91cc852",
   "metadata": {},
   "source": [
    "List Replication Operator (*):\n",
    "\n",
    "The * operator is used to replicate a list multiple times, resulting in a new list that contains multiple copies of the original list concatenated together."
   ]
  },
  {
   "cell_type": "code",
   "execution_count": 13,
   "id": "63653456",
   "metadata": {},
   "outputs": [
    {
     "name": "stdout",
     "output_type": "stream",
     "text": [
      "[1, 2, 3, 1, 2, 3, 1, 2, 3]\n"
     ]
    }
   ],
   "source": [
    "original_list = [1, 2, 3]\n",
    "replicated_list = original_list * 3\n",
    "print(replicated_list)  \n"
   ]
  },
  {
   "cell_type": "markdown",
   "id": "014b541d",
   "metadata": {},
   "source": [
    "# 10."
   ]
  },
  {
   "cell_type": "markdown",
   "id": "2c15fe4f",
   "metadata": {},
   "source": [
    "append() Method:\n",
    "\n",
    "The append() method is used to add an element to the end of a list.\n",
    "Syntax: list.append(element)\n",
    "Example:"
   ]
  },
  {
   "cell_type": "code",
   "execution_count": 15,
   "id": "c7bd1dc7",
   "metadata": {},
   "outputs": [
    {
     "name": "stdout",
     "output_type": "stream",
     "text": [
      "[1, 2, 3, 4]\n"
     ]
    }
   ],
   "source": [
    "my_list = [1, 2, 3]\n",
    "my_list.append(4)\n",
    "print(my_list)  \n"
   ]
  },
  {
   "cell_type": "markdown",
   "id": "9e7436ff",
   "metadata": {},
   "source": [
    "The append() method always adds the element to the end of the list, regardless of the list's current length.\n",
    "insert() Method:\n",
    "\n",
    "The insert() method is used to insert an element at a specified index in the list.\n",
    "Syntax: list.insert(index, element)"
   ]
  },
  {
   "cell_type": "code",
   "execution_count": 16,
   "id": "6e37e9e1",
   "metadata": {},
   "outputs": [
    {
     "name": "stdout",
     "output_type": "stream",
     "text": [
      "[1, 'a', 2, 3]\n"
     ]
    }
   ],
   "source": [
    "my_list = [1, 2, 3]\n",
    "my_list.insert(1, 'a')\n",
    "print(my_list)  \n"
   ]
  },
  {
   "cell_type": "markdown",
   "id": "c49bb177",
   "metadata": {},
   "source": [
    "The insert() method takes two arguments: the index at which to insert the element and the element itself.\n",
    "The element is inserted at the specified index, and existing elements at or after the index are shifted to the right."
   ]
  },
  {
   "cell_type": "markdown",
   "id": "09edc9ec",
   "metadata": {},
   "source": [
    "# 11."
   ]
  },
  {
   "cell_type": "markdown",
   "id": "2cf8dd73",
   "metadata": {},
   "source": [
    "The two methods for removing items from a list in Python are:\n",
    "\n",
    "remove() Method:\n",
    "\n",
    "The remove() method is used to remove the first occurrence of a specified value from the list.\n",
    "Syntax: list.remove(value)"
   ]
  },
  {
   "cell_type": "code",
   "execution_count": 19,
   "id": "54f93b79",
   "metadata": {},
   "outputs": [
    {
     "name": "stdout",
     "output_type": "stream",
     "text": [
      "[1, 3, 4, 2]\n"
     ]
    }
   ],
   "source": [
    "my_list = [1, 2, 3, 4, 2]\n",
    "my_list.remove(2)\n",
    "print(my_list)  \n"
   ]
  },
  {
   "cell_type": "markdown",
   "id": "f3044e18",
   "metadata": {},
   "source": [
    "pop() Method:\n",
    "\n",
    "The pop() method is used to remove and return the element at a specified index from the list.\n",
    "Syntax: list.pop([index])\n",
    "Example:"
   ]
  },
  {
   "cell_type": "code",
   "execution_count": 21,
   "id": "ebc3787e",
   "metadata": {},
   "outputs": [
    {
     "name": "stdout",
     "output_type": "stream",
     "text": [
      "2\n",
      "[1, 3, 4]\n"
     ]
    }
   ],
   "source": [
    "my_list = [1, 2, 3, 4]\n",
    "popped_element = my_list.pop(1)\n",
    "print(popped_element)  \n",
    "print(my_list)         \n"
   ]
  },
  {
   "cell_type": "markdown",
   "id": "4075efa7",
   "metadata": {},
   "source": [
    "If no index is specified, the pop() method removes and returns the last element of the list.\n",
    "If the specified index is out of range, a IndexError is raised."
   ]
  },
  {
   "cell_type": "markdown",
   "id": "8e3bd2d2",
   "metadata": {},
   "source": [
    "# 12."
   ]
  },
  {
   "cell_type": "markdown",
   "id": "31672131",
   "metadata": {},
   "source": [
    "List values and string values in Python share several similarities, making them somewhat identical in certain aspects:\n",
    "\n",
    "Sequential Collection:\n",
    "\n",
    "Both lists and strings are sequential collections of elements.\n",
    "In a list, elements can be of any data type and can be modified (mutable).\n",
    "In a string, elements are characters, and strings are immutable (cannot be modified).\n",
    "Indexing:\n",
    "\n",
    "Both lists and strings support indexing and slicing operations.\n",
    "Individual elements in a list or string can be accessed using their respective indices.\n",
    "Slicing allows extracting a portion of the list or string by specifying a range of indices.\n",
    "Iteration:\n",
    "\n",
    "Both lists and strings can be iterated over using loops (e.g., for loops).\n",
    "Iterating over a list or string allows accessing each element sequentially.\n",
    "Concatenation:\n",
    "\n",
    "Both lists and strings support concatenation operations.\n",
    "Lists can be concatenated using the + operator, while strings can be concatenated using the + operator or string formatting methods.\n",
    "Length:\n",
    "\n",
    "Both lists and strings have a length, which can be obtained using the len() function.\n",
    "The length represents the number of elements in a list or the number of characters in a string."
   ]
  },
  {
   "cell_type": "markdown",
   "id": "a0add4f4",
   "metadata": {},
   "source": [
    "# 13."
   ]
  },
  {
   "cell_type": "markdown",
   "id": "ab1647c7",
   "metadata": {},
   "source": [
    "Tuples and lists are both data structures in Python used to store collections of elements, but they differ in several key aspects:\n",
    "\n",
    "Mutability:\n",
    "\n",
    "Lists are mutable, meaning their elements can be modified after creation. You can add, remove, or change elements in a list.\n",
    "Tuples are immutable, meaning their elements cannot be modified after creation. Once a tuple is created, its elements cannot be changed, added, or removed.\n",
    "Syntax:\n",
    "\n",
    "Lists are created using square brackets [ ].\n",
    "Tuples are created using parentheses ( ).\n",
    "Use Cases:\n",
    "\n",
    "Lists are typically used for collections of homogeneous elements where the order and mutability of the elements matter. They are useful when you need a collection that can be modified or extended.\n",
    "Tuples are often used for collections of heterogeneous elements where the order and immutability of the elements are important. They are useful for representing fixed collections of related data, such as coordinates, records, or settings.\n",
    "Performance:\n",
    "\n",
    "Due to their mutability, lists require more memory and may have slower performance when adding or removing elements compared to tuples.\n",
    "Tuples, being immutable, are more memory-efficient and may have slightly faster performance in certain scenarios.\n",
    "Operations:\n",
    "\n",
    "Lists support operations such as append, remove, and sort, which modify the list in place.\n",
    "Tuples support fewer operations compared to lists because they are immutable. However, they support operations such as indexing, slicing, and concatenation.\n",
    "Usage:\n",
    "\n",
    "Lists are more commonly used than tuples in Python code because of their flexibility and mutability.\n",
    "Tuples are often used in situations where immutability and element order are important, such as representing fixed collections of related data or as keys in dictionaries."
   ]
  },
  {
   "cell_type": "markdown",
   "id": "39e9d80a",
   "metadata": {},
   "source": [
    "# 14."
   ]
  },
  {
   "cell_type": "markdown",
   "id": "9adb6bbd",
   "metadata": {},
   "source": [
    "To create a tuple value that only contains the integer 42, you can enclose the integer 42 within parentheses ():"
   ]
  },
  {
   "cell_type": "code",
   "execution_count": 22,
   "id": "23d68d46",
   "metadata": {},
   "outputs": [],
   "source": [
    "my_tuple = (42,)\n"
   ]
  },
  {
   "cell_type": "markdown",
   "id": "acce326d",
   "metadata": {},
   "source": [
    "So, (42,) represents a tuple with a single element, the integer 42."
   ]
  },
  {
   "cell_type": "markdown",
   "id": "06acf1f2",
   "metadata": {},
   "source": [
    "# 15."
   ]
  },
  {
   "cell_type": "markdown",
   "id": "172f312e",
   "metadata": {},
   "source": [
    "To convert a list value to its tuple form, you can use the tuple() constructor. This function takes a list as an argument and returns a tuple containing the same elements as the list. Here's an example:"
   ]
  },
  {
   "cell_type": "code",
   "execution_count": 23,
   "id": "f7387a80",
   "metadata": {},
   "outputs": [
    {
     "name": "stdout",
     "output_type": "stream",
     "text": [
      "(1, 2, 3, 4)\n"
     ]
    }
   ],
   "source": [
    "my_list = [1, 2, 3, 4]\n",
    "my_tuple = tuple(my_list)\n",
    "print(my_tuple)  \n"
   ]
  },
  {
   "cell_type": "markdown",
   "id": "503c60f1",
   "metadata": {},
   "source": [
    "To convert a tuple value to its list form, you can use the list() constructor. This function takes a tuple as an argument and returns a list containing the same elements as the tuple. Here's an example:"
   ]
  },
  {
   "cell_type": "code",
   "execution_count": 24,
   "id": "cd6fa213",
   "metadata": {},
   "outputs": [
    {
     "name": "stdout",
     "output_type": "stream",
     "text": [
      "[1, 2, 3, 4]\n"
     ]
    }
   ],
   "source": [
    "my_tuple = (1, 2, 3, 4)\n",
    "my_list = list(my_tuple)\n",
    "print(my_list) \n"
   ]
  },
  {
   "cell_type": "markdown",
   "id": "b2fec250",
   "metadata": {},
   "source": [
    "# 16."
   ]
  },
  {
   "cell_type": "markdown",
   "id": "21d395b9",
   "metadata": {},
   "source": [
    "Variables that \"contain\" list values in Python do not actually contain the list itself, but rather a reference to the list. In Python, variables are like labels or names that point to objects in memory. When you assign a list to a variable, the variable holds a reference to the memory location where the list is stored.\n",
    "\n",
    "So, when you manipulate a list through a variable, you are actually manipulating the list object that the variable references. Multiple variables can reference the same list object, and changes made to the list through one variable will be reflected when accessing the list through another variable."
   ]
  },
  {
   "cell_type": "code",
   "execution_count": 25,
   "id": "ac4053f2",
   "metadata": {},
   "outputs": [
    {
     "name": "stdout",
     "output_type": "stream",
     "text": [
      "[1, 2, 3, 4]\n"
     ]
    }
   ],
   "source": [
    "list1 = [1, 2, 3]  # list1 references a list object [1, 2, 3]\n",
    "list2 = list1     # list2 now references the same list object as list1\n",
    "\n",
    "list1.append(4)   # Modifying the list through list1\n",
    "print(list2)      "
   ]
  },
  {
   "cell_type": "markdown",
   "id": "e8c4c8cc",
   "metadata": {},
   "source": [
    "# 17."
   ]
  },
  {
   "cell_type": "markdown",
   "id": "8536282c",
   "metadata": {},
   "source": [
    "In Python's copy module, the copy() function and the deepcopy() function are used to create shallow and deep copies of objects, respectively."
   ]
  },
  {
   "cell_type": "markdown",
   "id": "19dd81a0",
   "metadata": {},
   "source": [
    "copy.copy() (Shallow Copy):\n",
    "\n",
    "The copy.copy() function creates a shallow copy of an object. A shallow copy constructs a new compound object (e.g., list, dictionary, etc.) and then (to the extent possible) inserts references into it to the objects found in the original.\n",
    "If the original object contains references to other objects (e.g., nested lists or dictionaries), the shallow copy will only copy the references to those objects, not the objects themselves. Therefore, changes made to nested objects in the shallow copy will affect the original object and vice versa.\n",
    "Example:"
   ]
  },
  {
   "cell_type": "code",
   "execution_count": 27,
   "id": "59a5fca3",
   "metadata": {},
   "outputs": [
    {
     "name": "stdout",
     "output_type": "stream",
     "text": [
      "[1, ['a', 3], 4]\n",
      "[1, ['a', 3], 4]\n"
     ]
    }
   ],
   "source": [
    "import copy\n",
    "\n",
    "original_list = [1, [2, 3], 4]\n",
    "shallow_copy_list = copy.copy(original_list)\n",
    "\n",
    "# Modify the nested list in the shallow copy\n",
    "shallow_copy_list[1][0] = 'a'\n",
    "print(shallow_copy_list)    \n",
    "print(original_list)       \n"
   ]
  },
  {
   "cell_type": "markdown",
   "id": "47b4ccff",
   "metadata": {},
   "source": [
    "copy.deepcopy() (Deep Copy):\n",
    "\n",
    "The copy.deepcopy() function creates a deep copy of an object. A deep copy constructs a new compound object and then, recursively, inserts copies into it of the objects found in the original.\n",
    "Unlike shallow copy, a deep copy creates completely independent copies of all nested objects. Changes made to nested objects in the deep copy do not affect the original object, and vice versa.\n",
    "Example:"
   ]
  },
  {
   "cell_type": "code",
   "execution_count": 28,
   "id": "2f2207a3",
   "metadata": {},
   "outputs": [
    {
     "name": "stdout",
     "output_type": "stream",
     "text": [
      "[1, ['b', 3], 4]\n",
      "[1, [2, 3], 4]\n"
     ]
    }
   ],
   "source": [
    "import copy\n",
    "\n",
    "original_list = [1, [2, 3], 4]\n",
    "deep_copy_list = copy.deepcopy(original_list)\n",
    "\n",
    "# Modify the nested list in the deep copy\n",
    "deep_copy_list[1][0] = 'b'\n",
    "print(deep_copy_list)   \n",
    "print(original_list)     \n"
   ]
  },
  {
   "cell_type": "code",
   "execution_count": null,
   "id": "402f7713",
   "metadata": {},
   "outputs": [],
   "source": []
  }
 ],
 "metadata": {
  "kernelspec": {
   "display_name": "Python 3 (ipykernel)",
   "language": "python",
   "name": "python3"
  },
  "language_info": {
   "codemirror_mode": {
    "name": "ipython",
    "version": 3
   },
   "file_extension": ".py",
   "mimetype": "text/x-python",
   "name": "python",
   "nbconvert_exporter": "python",
   "pygments_lexer": "ipython3",
   "version": "3.10.9"
  }
 },
 "nbformat": 4,
 "nbformat_minor": 5
}
