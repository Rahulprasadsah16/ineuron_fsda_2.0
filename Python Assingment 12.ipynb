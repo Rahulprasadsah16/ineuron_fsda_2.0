{
 "cells": [
  {
   "cell_type": "markdown",
   "id": "d25fc455",
   "metadata": {},
   "source": [
    "# 1."
   ]
  },
  {
   "cell_type": "markdown",
   "id": "63bbd1e1",
   "metadata": {},
   "source": [
    "In Python's PyPDF2 library, which provides functionalities for working with PDF files, the PdfFileReader() and PdfFileWriter() classes are not opened with file modes like regular file objects. Instead, they are initialized with file-like objects that represent PDF files.\n",
    "\n",
    "PdfFileReader():\n",
    "\n",
    "You create a PdfFileReader object by passing a file-like object that represents a PDF file to its constructor. This file-like object can be opened in binary mode ('rb') using the built-in open() function or obtained from other sources such as a web response or an in-memory stream.\n",
    "\n",
    "PdfFileWriter():\n",
    "\n",
    "Similar to PdfFileReader(), you create a PdfFileWriter object by initializing it with a file-like object that represents a PDF file. The file-like object can be opened in binary write mode ('wb') using the built-in open() function."
   ]
  },
  {
   "cell_type": "markdown",
   "id": "f88df308",
   "metadata": {},
   "source": [
    "# 2."
   ]
  },
  {
   "cell_type": "markdown",
   "id": "7be4863d",
   "metadata": {},
   "source": [
    "To get a Page object for page 5 from a PdfFileReader object in the PyPDF2 library, you can use the getPage() method and pass the page index as an argument. Since page indexing starts from 0, you would pass 4 as the argument to getPage() to get the Page object for page 5."
   ]
  },
  {
   "cell_type": "raw",
   "id": "239e86a3",
   "metadata": {},
   "source": [
    "import PyPDF2\n",
    "\n",
    "# Open the PDF file\n",
    "with open('example.pdf', 'rb') as file:\n",
    "    # Create a PdfFileReader object\n",
    "    pdf_reader = PyPDF2.PdfFileReader(file)\n",
    "    \n",
    "    # Get the Page object for page 5 (index 4)\n",
    "    page_5 = pdf_reader.getPage(4)\n"
   ]
  },
  {
   "cell_type": "markdown",
   "id": "7468ccd8",
   "metadata": {},
   "source": [
    "# 3."
   ]
  },
  {
   "cell_type": "markdown",
   "id": "d95fad9a",
   "metadata": {},
   "source": [
    "In the PyPDF2 library, the numPages variable of a PdfFileReader object stores the number of pages in the PDF document. You can access this variable to determine the total number of pages in the PDF file.\n",
    "\n"
   ]
  },
  {
   "cell_type": "raw",
   "id": "6f196e87",
   "metadata": {},
   "source": [
    "import PyPDF2\n",
    "\n",
    "# Open the PDF file\n",
    "with open('example.pdf', 'rb') as file:\n",
    "    # Create a PdfFileReader object\n",
    "    pdf_reader = PyPDF2.PdfFileReader(file)\n",
    "    \n",
    "    # Get the number of pages in the PDF document\n",
    "    num_pages = pdf_reader.numPages\n",
    "    \n",
    "    print(f'The PDF document contains {num_pages} pages.')\n"
   ]
  },
  {
   "cell_type": "markdown",
   "id": "cad0758d",
   "metadata": {},
   "source": [
    "# 4."
   ]
  },
  {
   "cell_type": "markdown",
   "id": "057120cb",
   "metadata": {},
   "source": [
    "Open the PDF file with the correct file mode: Use the built-in open() function to open the PDF file in binary read mode ('rb').\n",
    "\n",
    "Create a PdfFileReader object: Initialize a PdfFileReader object with the file object obtained from opening the PDF file.\n",
    "\n",
    "Decrypt the PDF: Call the decrypt() method on the PdfFileReader object and provide the password \"swordfish\" as an argument.\n",
    "\n",
    "Access Page objects: Once the PDF is decrypted, you can obtain Page objects as usual using methods like getPage()."
   ]
  },
  {
   "cell_type": "raw",
   "id": "593ee5d3",
   "metadata": {},
   "source": [
    "import PyPDF2\n",
    "\n",
    "# Open the encrypted PDF file\n",
    "with open('encrypted_pdf.pdf', 'rb') as file:\n",
    "    # Create a PdfFileReader object\n",
    "    pdf_reader = PyPDF2.PdfFileReader(file)\n",
    "    \n",
    "    # Decrypt the PDF with the password \"swordfish\"\n",
    "    pdf_reader.decrypt('swordfish')\n",
    "    \n",
    "    # Access Page objects\n",
    "    page = pdf_reader.getPage(0)\n"
   ]
  },
  {
   "cell_type": "markdown",
   "id": "520421dd",
   "metadata": {},
   "source": [
    "# 5."
   ]
  },
  {
   "cell_type": "markdown",
   "id": "2baeeb7b",
   "metadata": {},
   "source": [
    "In PyPDF2 library, you can rotate a page using the rotateClockwise() or rotateCounterClockwise() methods of the PageObject class. These methods allow you to rotate a page clockwise or counterclockwise, respectively, by 90 degrees."
   ]
  },
  {
   "cell_type": "raw",
   "id": "a3774a94",
   "metadata": {},
   "source": [
    "rotateClockwise():\n",
    "\n",
    "This method rotates the page clockwise by 90 degrees.\n",
    "rotateCounterClockwise():\n",
    "\n",
    "This method rotates the page counterclockwise by 90 degrees."
   ]
  },
  {
   "cell_type": "markdown",
   "id": "ae539fd3",
   "metadata": {},
   "source": [
    "# 6."
   ]
  },
  {
   "cell_type": "markdown",
   "id": "3e05fc48",
   "metadata": {},
   "source": [
    "Run Object:\n",
    "\n",
    "A Run object represents a contiguous run of text within a paragraph that all shares the same set of properties, such as font size, style, color, and other formatting attributes.\n",
    "It is the smallest unit of text formatting in a Word document.\n",
    "Multiple Run objects can exist within a single Paragraph object if the text within the paragraph has different formatting properties at different points.\n",
    "\n",
    "Paragraph Object:\n",
    "\n",
    "A Paragraph object represents a paragraph of text within a document, which can consist of one or more Runs.\n",
    "It contains formatting properties that apply to the entire paragraph, such as alignment, indentation, spacing, and style.\n",
    "A Paragraph object is a higher-level container that encapsulates one or more Run objects and represents a cohesive unit of text content within the document."
   ]
  },
  {
   "cell_type": "markdown",
   "id": "5bae71e8",
   "metadata": {},
   "source": [
    "# 7."
   ]
  },
  {
   "cell_type": "markdown",
   "id": "6131cbb9",
   "metadata": {},
   "source": [
    "To obtain a list of Paragraph objects for a Document object stored in a variable named doc using the python-docx library, you can access the paragraphs attribute of the Document object. This attribute contains a list of Paragraph objects representing the paragraphs in the document."
   ]
  },
  {
   "cell_type": "raw",
   "id": "74637dfb",
   "metadata": {},
   "source": [
    "from docx import Document\n",
    "\n",
    "# Assuming 'doc' is a Document object\n",
    "paragraphs = doc.paragraphs\n"
   ]
  },
  {
   "cell_type": "markdown",
   "id": "0088b077",
   "metadata": {},
   "source": [
    "# 8."
   ]
  },
  {
   "cell_type": "markdown",
   "id": "173e5ee9",
   "metadata": {},
   "source": [
    "In the python-docx library, the object that has bold, underline, italic, strike, and outline variables is the Run object.\n",
    "\n",
    "The Run object represents a contiguous run of text within a paragraph in a Word document and is used to apply formatting to the text within the run. Each Run object can have its own formatting properties, such as font style, size, color, and various text effects."
   ]
  },
  {
   "cell_type": "raw",
   "id": "dc9efdc8",
   "metadata": {},
   "source": [
    "from docx import Document\n",
    "\n",
    "# Open a Word document\n",
    "doc = Document('example.docx')\n",
    "\n",
    "# Iterate through the paragraphs and runs\n",
    "for paragraph in doc.paragraphs:\n",
    "    for run in paragraph.runs:\n",
    "        # Check formatting properties\n",
    "        if run.bold:\n",
    "            print('Bold text:', run.text)\n",
    "        if run.underline:\n",
    "            print('Underlined text:', run.text)\n",
    "        if run.italic:\n",
    "            print('Italicized text:', run.text)\n",
    "        if run.strike:\n",
    "            print('Strikethrough text:', run.text)\n",
    "        if run.outline:\n",
    "            print('Outlined text:', run.text)\n"
   ]
  },
  {
   "cell_type": "markdown",
   "id": "15298c77",
   "metadata": {},
   "source": [
    "# 9."
   ]
  },
  {
   "cell_type": "markdown",
   "id": "7ff9caff",
   "metadata": {},
   "source": [
    "False:\n",
    "\n",
    "Indicates that the text within the run is not formatted as bold.\n",
    "When bold is False, the text within the run is displayed in the regular (non-bold) font style.\n",
    "True:\n",
    "\n",
    "Indicates that the text within the run is formatted as bold.\n",
    "When bold is True, the text within the run is displayed in a bold font style.\n",
    "None:\n",
    "\n",
    "Indicates that the bold formatting property is not explicitly set for the text within the run.\n",
    "When bold is None, the bold formatting of the text within the run is determined by the inherited formatting from the parent style or previous runs in the paragraph. If no explicit bold formatting is applied, the text is displayed using the default formatting (usually not bold)."
   ]
  },
  {
   "cell_type": "markdown",
   "id": "3782b7c4",
   "metadata": {},
   "source": [
    "# 10."
   ]
  },
  {
   "cell_type": "markdown",
   "id": "44022554",
   "metadata": {},
   "source": [
    "To create a Document object for a new Word document using the python-docx library, you can simply instantiate a new Document object. This creates a new, empty Word document in memory that you can then populate with content."
   ]
  },
  {
   "cell_type": "raw",
   "id": "2d05fba4",
   "metadata": {},
   "source": [
    "from docx import Document\n",
    "\n",
    "# Create a new Document object\n",
    "doc = Document()\n",
    "\n",
    "# Add content to the document (optional)\n",
    "doc.add_heading('Document Title', level=1)\n",
    "doc.add_paragraph('This is the first paragraph.')\n",
    "\n",
    "# Save the document to a file\n",
    "doc.save('new_document.docx')\n"
   ]
  },
  {
   "cell_type": "markdown",
   "id": "9626274a",
   "metadata": {},
   "source": [
    "# 11."
   ]
  },
  {
   "cell_type": "markdown",
   "id": "0a10dbaf",
   "metadata": {},
   "source": [
    "To add a paragraph with the text 'Hello, there!' to a Document object stored in a variable named doc using the python-docx library, you can use the add_paragraph() method of the Document object."
   ]
  },
  {
   "cell_type": "raw",
   "id": "318f763b",
   "metadata": {},
   "source": [
    "from docx import Document\n",
    "\n",
    "# Assuming 'doc' is a Document object\n",
    "doc.add_paragraph('Hello, there!')\n"
   ]
  },
  {
   "cell_type": "markdown",
   "id": "707923cf",
   "metadata": {},
   "source": [
    "# 12."
   ]
  },
  {
   "cell_type": "markdown",
   "id": "281d4994",
   "metadata": {},
   "source": [
    "In Word documents, the levels of headings are represented by integers that correspond to the hierarchy of headings. These integers typically range from 1 to 9, where:\n",
    "\n",
    "\n",
    "Heading level 1 is represented by the integer 1.\n",
    "\n",
    "Heading level 2 is represented by the integer 2.\n",
    "\n",
    "Heading level 3 is represented by the integer 3.\n",
    "...\n",
    "Heading level 9 is represented by the integer 9.\n",
    "\n",
    "\n",
    "These integers indicate the hierarchical structure of headings in a document, with lower integers representing higher-level headings and higher integers representing lower-level headings. For example, a heading with level 1 is a main or top-level heading, while a heading with level 2 is a subheading under level 1, and so on."
   ]
  },
  {
   "cell_type": "raw",
   "id": "c2376e06",
   "metadata": {},
   "source": [
    "from docx import Document\n",
    "\n",
    "# Assuming 'doc' is a Document object\n",
    "doc.add_heading('Heading Level 1', level=1)  # Main heading\n",
    "doc.add_heading('Heading Level 2', level=2)  # Subheading under level 1\n",
    "doc.add_heading('Heading Level 3', level=3)  # Subheading under level 2, and so on\n"
   ]
  },
  {
   "cell_type": "code",
   "execution_count": null,
   "id": "73131be0",
   "metadata": {},
   "outputs": [],
   "source": []
  }
 ],
 "metadata": {
  "kernelspec": {
   "display_name": "Python 3 (ipykernel)",
   "language": "python",
   "name": "python3"
  },
  "language_info": {
   "codemirror_mode": {
    "name": "ipython",
    "version": 3
   },
   "file_extension": ".py",
   "mimetype": "text/x-python",
   "name": "python",
   "nbconvert_exporter": "python",
   "pygments_lexer": "ipython3",
   "version": "3.10.9"
  }
 },
 "nbformat": 4,
 "nbformat_minor": 5
}
