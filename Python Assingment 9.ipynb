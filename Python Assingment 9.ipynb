{
 "cells": [
  {
   "cell_type": "markdown",
   "id": "3c67c443",
   "metadata": {},
   "source": [
    "# 1."
   ]
  },
  {
   "cell_type": "markdown",
   "id": "c9639897",
   "metadata": {},
   "source": [
    "A relative path in computing refers to a path that specifies the location of a file or directory relative to the current working directory or another specified directory. It doesn't include the complete path from the root directory of the file system."
   ]
  },
  {
   "cell_type": "markdown",
   "id": "3232065e",
   "metadata": {},
   "source": [
    "project/\n",
    "    ├── folder1/\n",
    "    │   └── file1.txt\n",
    "    ├── folder2/\n",
    "    │   └── file2.txt\n",
    "    └── script.py\n"
   ]
  },
  {
   "cell_type": "markdown",
   "id": "700c26c1",
   "metadata": {},
   "source": [
    "If script.py wants to access file1.txt, it can use the relative path folder1/file1.txt. This path is relative to the location of script.py.\n",
    "\n",
    "If script.py wants to access file2.txt, it can use the relative path folder2/file2.txt."
   ]
  },
  {
   "cell_type": "markdown",
   "id": "18375c26",
   "metadata": {},
   "source": [
    "# 2."
   ]
  },
  {
   "cell_type": "markdown",
   "id": "3aab5d91",
   "metadata": {},
   "source": [
    "In most operating systems, including Windows, macOS, and Unix-based systems (such as Linux), an absolute path starts with the root directory of the file system.\n",
    "\n",
    "On Windows systems, the root directory is typically represented by a drive letter followed by a colon (C: for example), followed by a backslash (\\). For example, C:\\ is the root directory of the C drive on a Windows system.\n",
    "\n",
    "On Unix-based systems (including macOS and Linux), the root directory is represented by a forward slash (/). For example, / is the root directory on Unix-based systems."
   ]
  },
  {
   "cell_type": "markdown",
   "id": "7827d9e5",
   "metadata": {},
   "source": [
    "# 3."
   ]
  },
  {
   "cell_type": "markdown",
   "id": "b20fa35e",
   "metadata": {},
   "source": [
    "os.getcwd(): This function returns the current working directory as a string. The current working directory is the directory from which the Python script is being executed or the directory from which the Python interpreter was started. It doesn't take any arguments."
   ]
  },
  {
   "cell_type": "markdown",
   "id": "3c281df6",
   "metadata": {},
   "source": [
    "os.chdir(path): This function changes the current working directory to the specified path. It takes one argument, path, which is a string representing the new directory path."
   ]
  },
  {
   "cell_type": "markdown",
   "id": "19d34524",
   "metadata": {},
   "source": [
    "# 4."
   ]
  },
  {
   "cell_type": "markdown",
   "id": "59c115e3",
   "metadata": {},
   "source": [
    ". (dot): This represents the current directory. When used in a file path, . refers to the directory in which the command or script is currently executing.\n",
    "\n",
    ".. (dot-dot): This represents the parent directory. When used in a file path, .. refers to the directory that contains the current directory."
   ]
  },
  {
   "cell_type": "markdown",
   "id": "4700647c",
   "metadata": {},
   "source": [
    "# 5."
   ]
  },
  {
   "cell_type": "markdown",
   "id": "42bcfe45",
   "metadata": {},
   "source": [
    "In the path C:\\bacon\\eggs\\spam.txt:\n",
    "\n",
    "The directory name (dir name) is C:\\bacon\\eggs.\n",
    "The base name is spam.txt."
   ]
  },
  {
   "cell_type": "markdown",
   "id": "babfd9b6",
   "metadata": {},
   "source": [
    "# 6."
   ]
  },
  {
   "cell_type": "markdown",
   "id": "a8565f91",
   "metadata": {},
   "source": [
    "In Python, the open() function is used to open files. It takes two main arguments: the file path and the mode. The mode argument specifies the purpose for which the file is being opened. \n",
    "\n",
    "Read Mode ('r'): This mode is used for reading from a file. It is the default mode if no mode is specified. If the file doesn't exist or cannot be opened for any reason, the operation will fail and raise an error.\n",
    "\n",
    "Write Mode ('w'): This mode is used for writing to a file. If the file already exists, it will be truncated (emptied) before writing. If the file doesn't exist, a new file will be created. Care should be taken when using this mode as it will overwrite the existing content of the file.\n",
    "\n",
    "Append Mode ('a'): This mode is used for appending data to the end of a file. If the file doesn't exist, a new file will be created. The data written to the file will be added to the end of the existing content, without truncating it."
   ]
  },
  {
   "cell_type": "markdown",
   "id": "29f5d6ce",
   "metadata": {},
   "source": [
    "# 7."
   ]
  },
  {
   "cell_type": "markdown",
   "id": "b94dc170",
   "metadata": {},
   "source": [
    "If an existing file is opened in write mode ('w') using the open() function in Python, the following will occur:\n",
    "\n",
    "If the file exists, its contents will be truncated (i.e., completely erased), and the file will be opened as an empty file for writing. Any existing data in the file will be lost.\n",
    "\n",
    "If the file does not exist, a new empty file will be created."
   ]
  },
  {
   "cell_type": "markdown",
   "id": "19bf258f",
   "metadata": {},
   "source": [
    "# 8."
   ]
  },
  {
   "cell_type": "markdown",
   "id": "ee7dbb8f",
   "metadata": {},
   "source": [
    "In Python, read() and readlines() are methods used with file objects to read content from a file, but they have different behaviors:\n",
    "\n",
    "read() method:\n",
    "\n",
    "It reads the entire content of the file as a single string.\n",
    "If you provide an optional argument size to read(size), it reads at most size characters.\n",
    "If size is not specified or is negative, it reads the entire content of the file.\n",
    "\n",
    "readlines() method:\n",
    "\n",
    "It reads all lines from the file and returns a list where each element is a line from the file.\n",
    "It includes the newline character ('\\n') at the end of each line unless the file ends without a newline.\n",
    "If you provide an optional argument size to readlines(size), it reads at most size bytes."
   ]
  },
  {
   "cell_type": "markdown",
   "id": "9f9e2799",
   "metadata": {},
   "source": [
    "# 9."
   ]
  },
  {
   "cell_type": "markdown",
   "id": "ccac2111",
   "metadata": {},
   "source": [
    "A shelf value in Python resembles a dictionary-like data structure. Specifically, it resembles a dictionary because it allows you to store and retrieve key-value pairs. However, unlike a standard dictionary, a shelf value is associated with a file on disk, providing persistent storage between program executions.\n",
    "\n",
    "In Python, the shelve module provides a persistent, dictionary-like interface for accessing data stored in files. When you open a shelf file using the shelve.open() function.\n",
    "\n"
   ]
  },
  {
   "cell_type": "markdown",
   "id": "ae264300",
   "metadata": {},
   "source": [
    "import shelve\n",
    "\n",
    "\n",
    "with shelve.open('mydata') as shelf:\n",
    "    # Store key-value pairs\n",
    "    shelf['key1'] = 'value1'\n",
    "    shelf['key2'] = 'value2'\n",
    "\n",
    "    # Retrieve values using keys\n",
    "    print(shelf['key1'])  # Output: value1\n",
    "\n",
    "    # Modify values\n",
    "    shelf['key1'] = 'new_value1'\n",
    "\n",
    "    # Iterate over keys and values\n",
    "    for key in shelf:\n",
    "        print(key, shelf[key])\n"
   ]
  },
  {
   "cell_type": "code",
   "execution_count": null,
   "id": "706c79a0",
   "metadata": {},
   "outputs": [],
   "source": []
  }
 ],
 "metadata": {
  "kernelspec": {
   "display_name": "Python 3 (ipykernel)",
   "language": "python",
   "name": "python3"
  },
  "language_info": {
   "codemirror_mode": {
    "name": "ipython",
    "version": 3
   },
   "file_extension": ".py",
   "mimetype": "text/x-python",
   "name": "python",
   "nbconvert_exporter": "python",
   "pygments_lexer": "ipython3",
   "version": "3.10.9"
  }
 },
 "nbformat": 4,
 "nbformat_minor": 5
}
