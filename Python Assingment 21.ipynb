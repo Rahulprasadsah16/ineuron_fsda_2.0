{
 "cells": [
  {
   "cell_type": "markdown",
   "id": "ed5a20e8",
   "metadata": {},
   "source": [
    "# 1."
   ]
  },
  {
   "cell_type": "code",
   "execution_count": 2,
   "id": "267f7c07",
   "metadata": {},
   "outputs": [],
   "source": [
    "from datetime import date\n",
    "\n",
    "# Get the current date\n",
    "current_date = date.today().strftime(\"%Y-%m-%d\")\n",
    "\n",
    "# Write the current date to the file\n",
    "with open(\"today.txt\", \"w\") as file:\n",
    "    file.write(current_date)\n"
   ]
  },
  {
   "cell_type": "markdown",
   "id": "a2209c9f",
   "metadata": {},
   "source": [
    "# 2.\n"
   ]
  },
  {
   "cell_type": "code",
   "execution_count": 3,
   "id": "21d21a0d",
   "metadata": {},
   "outputs": [
    {
     "name": "stdout",
     "output_type": "stream",
     "text": [
      "2024-02-13\n"
     ]
    }
   ],
   "source": [
    "# Read the content of today.txt into a string\n",
    "with open(\"today.txt\", \"r\") as file:\n",
    "    today_string = file.read()\n",
    "\n",
    "print(today_string)  # Display the content of today.txt as a string\n"
   ]
  },
  {
   "cell_type": "markdown",
   "id": "3b180a7e",
   "metadata": {},
   "source": [
    "# 3."
   ]
  },
  {
   "cell_type": "code",
   "execution_count": 4,
   "id": "c5651c4f",
   "metadata": {},
   "outputs": [
    {
     "name": "stdout",
     "output_type": "stream",
     "text": [
      "2024-02-13 00:00:00\n"
     ]
    }
   ],
   "source": [
    "from datetime import datetime\n",
    "\n",
    "# Assuming today_string contains a date in the format YYYY-MM-DD\n",
    "parsed_date = datetime.strptime(today_string, \"%Y-%m-%d\")\n",
    "\n",
    "print(parsed_date)  # Display the parsed date\n"
   ]
  },
  {
   "cell_type": "markdown",
   "id": "405c1bc2",
   "metadata": {},
   "source": [
    "# 4."
   ]
  },
  {
   "cell_type": "code",
   "execution_count": 5,
   "id": "bc252404",
   "metadata": {},
   "outputs": [
    {
     "name": "stdout",
     "output_type": "stream",
     "text": [
      "Files in the current directory:\n",
      ".conda\n",
      ".condarc\n",
      ".continuum\n",
      ".idlerc\n",
      ".ipynb_checkpoints\n",
      ".ipython\n",
      ".jupyter\n",
      ".matplotlib\n",
      ".ms-ad\n",
      ".vscode\n",
      "10th Feb Assingment.ipynb\n",
      "10th March Assingment.ipynb\n",
      "11th March Assingment.ipynb\n",
      "12th March Assingment.ipynb\n",
      "13th March Assingment (2).ipynb\n",
      "13th March Assingment.ipynb\n",
      "14th March Assingment.ipynb\n",
      "15th March Assingment.ipynb\n",
      "16th March Assingment.ipynb\n",
      "17th Feb Assingment.ipynb\n",
      "18th Feb Assingment.ipynb\n",
      "19th Feb Assingment.ipynb\n",
      "20th Feb Assingment.ipynb\n",
      "21 Feb Assingment.ipynb\n",
      "22 Feb Assingment.ipynb\n",
      "23 Feb Assingment.ipynb\n",
      "24th Feb Assingment.ipynb\n",
      "25th Feb Assingment.ipynb\n",
      "26th Feb Assingment.ipynb\n",
      "2nd March Assingment.ipynb\n",
      "3rd March Assingment .ipynb\n",
      "4th March Assingment.ipynb\n",
      "5th March Assingment .ipynb\n",
      "6th March Assingment.ipynb\n",
      "7th March Assingment.ipynb\n",
      "8th March Assingment.ipynb\n",
      "anaconda3\n",
      "AppData\n",
      "Application Data\n",
      "books.csv\n",
      "books.db\n",
      "Contacts\n",
      "Cookies\n",
      "data_scientist.txt\n",
      "Documents\n",
      "Downloads\n",
      "Exception Handling 2.ipynb\n",
      "Exception Handling Assignment.ipynb\n",
      "Favorites\n",
      "Flask.ipynb\n",
      "Links\n",
      "Local Settings\n",
      "Microsoft\n",
      "mongodb.ipynb\n",
      "Music\n",
      "My Documents\n",
      "Mysql.ipynb\n",
      "NetHood\n",
      "ntuser.dat\n",
      "ntuser.dat.log1\n",
      "ntuser.dat.log2\n",
      "NTUSER.DAT{0b7c833d-1234-11ee-bcfa-910e22902122}.TM.blf\n",
      "NTUSER.DAT{0b7c833d-1234-11ee-bcfa-910e22902122}.TMContainer00000000000000000001.regtrans-ms\n",
      "NTUSER.DAT{0b7c833d-1234-11ee-bcfa-910e22902122}.TMContainer00000000000000000002.regtrans-ms\n",
      "ntuser.dat{a3f34a4f-497b-11ee-bd13-a5b92cb78e36}.TM.blf\n",
      "ntuser.dat{a3f34a4f-497b-11ee-bd13-a5b92cb78e36}.TMContainer00000000000000000001.regtrans-ms\n",
      "ntuser.dat{a3f34a4f-497b-11ee-bd13-a5b92cb78e36}.TMContainer00000000000000000002.regtrans-ms\n",
      "ntuser.ini\n",
      "OneDrive\n",
      "Postman\n",
      "PrintHood\n",
      "Python Assingment 1.ipynb\n",
      "Python Assingment 10.ipynb\n",
      "Python Assingment 11.ipynb\n",
      "Python Assingment 12.ipynb\n",
      "Python Assingment 13.ipynb\n",
      "Python Assingment 14.ipynb\n",
      "Python Assingment 15.ipynb\n",
      "Python Assingment 16.ipynb\n",
      "Python Assingment 17.ipynb\n",
      "Python Assingment 18.ipynb\n",
      "Python Assingment 19.ipynb\n",
      "Python Assingment 2.ipynb\n",
      "Python Assingment 20.ipynb\n",
      "Python Assingment 21.ipynb\n",
      "Python Assingment 3.ipynb\n",
      "Python Assingment 4.ipynb\n",
      "Python Assingment 5.ipynb\n",
      "Python Assingment 6.ipynb\n",
      "Python Assingment 7.ipynb\n",
      "Python Assingment 8.ipynb\n",
      "Python Assingment 9.ipynb\n",
      "Recent\n",
      "Saved Games\n",
      "Searches\n",
      "SendTo\n",
      "Start Menu\n",
      "Statistics Assingment.ipynb\n",
      "Templates\n",
      "test.txt\n",
      "today.txt\n",
      "Videos\n"
     ]
    }
   ],
   "source": [
    "import os\n",
    "\n",
    "# Get the list of files in the current directory\n",
    "files = os.listdir()\n",
    "\n",
    "# Display the list of files\n",
    "print(\"Files in the current directory:\")\n",
    "for file in files:\n",
    "    print(file)\n"
   ]
  },
  {
   "cell_type": "markdown",
   "id": "bdefdb50",
   "metadata": {},
   "source": [
    "# 5."
   ]
  },
  {
   "cell_type": "code",
   "execution_count": 6,
   "id": "5aeb7548",
   "metadata": {},
   "outputs": [
    {
     "name": "stdout",
     "output_type": "stream",
     "text": [
      "Files in the parent directory:\n",
      "All Users\n",
      "Default\n",
      "Default User\n",
      "desktop.ini\n",
      "Public\n",
      "rsah4\n"
     ]
    }
   ],
   "source": [
    "import os\n",
    "\n",
    "# Get the parent directory\n",
    "parent_directory = os.path.dirname(os.getcwd())\n",
    "\n",
    "# Get the list of files in the parent directory\n",
    "files_in_parent_directory = os.listdir(parent_directory)\n",
    "\n",
    "# Display the list of files in the parent directory\n",
    "print(\"Files in the parent directory:\")\n",
    "for file in files_in_parent_directory:\n",
    "    print(file)\n"
   ]
  },
  {
   "cell_type": "markdown",
   "id": "839ed677",
   "metadata": {},
   "source": [
    "# 6."
   ]
  },
  {
   "cell_type": "code",
   "execution_count": 7,
   "id": "b29bfdca",
   "metadata": {},
   "outputs": [],
   "source": [
    "import multiprocessing\n",
    "import time\n",
    "import random\n",
    "from datetime import datetime\n",
    "\n",
    "def worker():\n",
    "    # Generate a random sleep time between 1 and 5 seconds\n",
    "    sleep_time = random.randint(1, 5)\n",
    "    \n",
    "    # Sleep for the generated time\n",
    "    time.sleep(sleep_time)\n",
    "    \n",
    "    # Print the current time\n",
    "    current_time = datetime.now().strftime(\"%Y-%m-%d %H:%M:%S\")\n",
    "    print(f\"Process {multiprocessing.current_process().name}: Current time is {current_time}\")\n",
    "    \n",
    "\n",
    "if __name__ == \"__main__\":\n",
    "    # Create three separate processes\n",
    "    processes = []\n",
    "    for i in range(3):\n",
    "        process = multiprocessing.Process(target=worker, name=f\"Process-{i+1}\")\n",
    "        processes.append(process)\n",
    "        process.start()\n",
    "    \n",
    "    # Wait for all processes to finish\n",
    "    for process in processes:\n",
    "        process.join()\n"
   ]
  },
  {
   "cell_type": "markdown",
   "id": "e10ac31f",
   "metadata": {},
   "source": [
    "# 7."
   ]
  },
  {
   "cell_type": "code",
   "execution_count": 9,
   "id": "73d33ed9",
   "metadata": {},
   "outputs": [
    {
     "name": "stdout",
     "output_type": "stream",
     "text": [
      "My date of birth: 1996-08-16\n"
     ]
    }
   ],
   "source": [
    "from datetime import date\n",
    "\n",
    "# Replace the year, month, and day with your own date of birth\n",
    "my_date_of_birth = date(1996, 8, 16)\n",
    "\n",
    "print(\"My date of birth:\", my_date_of_birth)\n"
   ]
  },
  {
   "cell_type": "markdown",
   "id": "f3c1e81e",
   "metadata": {},
   "source": [
    "# 8."
   ]
  },
  {
   "cell_type": "code",
   "execution_count": 13,
   "id": "2d8c3329",
   "metadata": {},
   "outputs": [
    {
     "name": "stdout",
     "output_type": "stream",
     "text": [
      "The day of the week for my date of birth is: Friday\n"
     ]
    }
   ],
   "source": [
    "from datetime import datetime\n",
    "\n",
    "# Replace the year, month, and day with your own date of birth\n",
    "date_of_birth = datetime(1996, 8, 16)\n",
    "\n",
    "# Determine the day of the week\n",
    "day_of_week = date_of_birth.strftime(\"%A\")\n",
    "\n",
    "print(\"The day of the week for my date of birth is:\", day_of_week)\n"
   ]
  },
  {
   "cell_type": "markdown",
   "id": "967187e5",
   "metadata": {},
   "source": [
    "# 9."
   ]
  },
  {
   "cell_type": "code",
   "execution_count": 14,
   "id": "703abda2",
   "metadata": {},
   "outputs": [
    {
     "name": "stdout",
     "output_type": "stream",
     "text": [
      "I will be (or I was) 10,000 days old on: 2051-07-01\n"
     ]
    }
   ],
   "source": [
    "from datetime import datetime, timedelta\n",
    "\n",
    "# Get the current date\n",
    "current_date = datetime.now()\n",
    "\n",
    "# Add 10,000 days to the current date\n",
    "future_date = current_date + timedelta(days=10000)\n",
    "\n",
    "print(\"I will be (or I was) 10,000 days old on:\", future_date.strftime(\"%Y-%m-%d\"))\n"
   ]
  },
  {
   "cell_type": "code",
   "execution_count": null,
   "id": "e1070a62",
   "metadata": {},
   "outputs": [],
   "source": []
  }
 ],
 "metadata": {
  "kernelspec": {
   "display_name": "Python 3 (ipykernel)",
   "language": "python",
   "name": "python3"
  },
  "language_info": {
   "codemirror_mode": {
    "name": "ipython",
    "version": 3
   },
   "file_extension": ".py",
   "mimetype": "text/x-python",
   "name": "python",
   "nbconvert_exporter": "python",
   "pygments_lexer": "ipython3",
   "version": "3.10.9"
  }
 },
 "nbformat": 4,
 "nbformat_minor": 5
}
