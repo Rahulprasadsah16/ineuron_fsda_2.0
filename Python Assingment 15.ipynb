{
 "cells": [
  {
   "cell_type": "markdown",
   "id": "b7ea6ed7",
   "metadata": {},
   "source": [
    "# 1."
   ]
  },
  {
   "cell_type": "markdown",
   "id": "1d955d9b",
   "metadata": {},
   "source": [
    "In the interactive interpreter, you can calculate the number of seconds in an hour by multiplying the number of seconds in a minute (60) by the number of minutes in an hour (60):"
   ]
  },
  {
   "cell_type": "code",
   "execution_count": 1,
   "id": "bc984720",
   "metadata": {},
   "outputs": [
    {
     "data": {
      "text/plain": [
       "3600"
      ]
     },
     "execution_count": 1,
     "metadata": {},
     "output_type": "execute_result"
    }
   ],
   "source": [
    "60*60"
   ]
  },
  {
   "cell_type": "markdown",
   "id": "02b7feb2",
   "metadata": {},
   "source": [
    "So, there are 3600 seconds in an hour."
   ]
  },
  {
   "cell_type": "markdown",
   "id": "5fd145cf",
   "metadata": {},
   "source": [
    "# 2."
   ]
  },
  {
   "cell_type": "code",
   "execution_count": 2,
   "id": "c4c6eeb2",
   "metadata": {},
   "outputs": [],
   "source": [
    "seconds_per_hour = 60 * 60\n"
   ]
  },
  {
   "cell_type": "code",
   "execution_count": 3,
   "id": "e1de7ba9",
   "metadata": {},
   "outputs": [
    {
     "data": {
      "text/plain": [
       "3600"
      ]
     },
     "execution_count": 3,
     "metadata": {},
     "output_type": "execute_result"
    }
   ],
   "source": [
    "seconds_per_hour"
   ]
  },
  {
   "cell_type": "markdown",
   "id": "375c9166",
   "metadata": {},
   "source": [
    "Now, the variable seconds_per_hour holds the value 3600, representing the number of seconds in an hour."
   ]
  },
  {
   "cell_type": "markdown",
   "id": "5d4ed5db",
   "metadata": {},
   "source": [
    "# 3."
   ]
  },
  {
   "cell_type": "code",
   "execution_count": 4,
   "id": "e8b5a004",
   "metadata": {},
   "outputs": [
    {
     "name": "stdout",
     "output_type": "stream",
     "text": [
      "Seconds in a day: 86400\n"
     ]
    }
   ],
   "source": [
    "seconds_per_hour = 3600\n",
    "hours_per_day = 24\n",
    "\n",
    "seconds_per_day = seconds_per_hour * hours_per_day\n",
    "print(\"Seconds in a day:\", seconds_per_day)\n"
   ]
  },
  {
   "cell_type": "markdown",
   "id": "94284697",
   "metadata": {},
   "source": [
    "# 4."
   ]
  },
  {
   "cell_type": "code",
   "execution_count": 5,
   "id": "c6cb7681",
   "metadata": {},
   "outputs": [
    {
     "name": "stdout",
     "output_type": "stream",
     "text": [
      "Seconds in a day: 86400\n"
     ]
    }
   ],
   "source": [
    "seconds_per_day = seconds_per_hour * 24\n",
    "print(\"Seconds in a day:\", seconds_per_day)"
   ]
  },
  {
   "cell_type": "markdown",
   "id": "c09ca220",
   "metadata": {},
   "source": [
    "# 5."
   ]
  },
  {
   "cell_type": "code",
   "execution_count": 6,
   "id": "da296326",
   "metadata": {},
   "outputs": [
    {
     "name": "stdout",
     "output_type": "stream",
     "text": [
      "Result: 24.0\n"
     ]
    }
   ],
   "source": [
    "seconds_per_day = 86400\n",
    "seconds_per_hour = 3600\n",
    "\n",
    "result = seconds_per_day / seconds_per_hour\n",
    "print(\"Result:\", result)\n"
   ]
  },
  {
   "cell_type": "markdown",
   "id": "3a116949",
   "metadata": {},
   "source": [
    "# 6."
   ]
  },
  {
   "cell_type": "code",
   "execution_count": 7,
   "id": "4a684a78",
   "metadata": {},
   "outputs": [
    {
     "name": "stdout",
     "output_type": "stream",
     "text": [
      "Result (Integer Division): 24\n"
     ]
    }
   ],
   "source": [
    "seconds_per_day = 86400\n",
    "seconds_per_hour = 3600\n",
    "\n",
    "result_integer_division = seconds_per_day // seconds_per_hour\n",
    "print(\"Result (Integer Division):\", result_integer_division)\n"
   ]
  },
  {
   "cell_type": "markdown",
   "id": "5e650771",
   "metadata": {},
   "source": [
    "# 7."
   ]
  },
  {
   "cell_type": "code",
   "execution_count": 8,
   "id": "19cc4a92",
   "metadata": {},
   "outputs": [
    {
     "name": "stdout",
     "output_type": "stream",
     "text": [
      "2\n",
      "3\n",
      "5\n",
      "7\n",
      "11\n",
      "13\n",
      "17\n",
      "19\n",
      "23\n",
      "29\n"
     ]
    }
   ],
   "source": [
    "def genPrimes():\n",
    "    # Start with the first prime number\n",
    "    prime = 2\n",
    "    while True:\n",
    "        # Check if prime is divisible by any number less than itself\n",
    "        for i in range(2, prime):\n",
    "            if prime % i == 0:\n",
    "                break\n",
    "        else:\n",
    "            # If prime is not divisible by any number less than itself, yield it\n",
    "            yield prime\n",
    "        # Move to the next number to check for primality\n",
    "        prime += 1\n",
    "\n",
    "# Create an instance of the generator\n",
    "primes_generator = genPrimes()\n",
    "\n",
    "# Test the generator by printing the first few prime numbers\n",
    "for _ in range(10):\n",
    "    print(next(primes_generator))\n"
   ]
  },
  {
   "cell_type": "code",
   "execution_count": null,
   "id": "c6f66a5c",
   "metadata": {},
   "outputs": [],
   "source": []
  }
 ],
 "metadata": {
  "kernelspec": {
   "display_name": "Python 3 (ipykernel)",
   "language": "python",
   "name": "python3"
  },
  "language_info": {
   "codemirror_mode": {
    "name": "ipython",
    "version": 3
   },
   "file_extension": ".py",
   "mimetype": "text/x-python",
   "name": "python",
   "nbconvert_exporter": "python",
   "pygments_lexer": "ipython3",
   "version": "3.10.9"
  }
 },
 "nbformat": 4,
 "nbformat_minor": 5
}
