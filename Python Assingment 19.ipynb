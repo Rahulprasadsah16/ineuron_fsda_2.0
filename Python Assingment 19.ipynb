{
 "cells": [
  {
   "cell_type": "markdown",
   "id": "2a9fc9cd",
   "metadata": {},
   "source": [
    "# 1."
   ]
  },
  {
   "cell_type": "code",
   "execution_count": 1,
   "id": "b79205a1",
   "metadata": {},
   "outputs": [
    {
     "name": "stdout",
     "output_type": "stream",
     "text": [
      "<class '__main__.Thing'>\n",
      "<__main__.Thing object at 0x000001FC4E1EA110>\n"
     ]
    }
   ],
   "source": [
    "# Define the Thing class with no contents\n",
    "class Thing:\n",
    "    pass\n",
    "\n",
    "# Print the Thing class\n",
    "print(Thing)\n",
    "\n",
    "# Create an object called example from the Thing class\n",
    "example = Thing()\n",
    "\n",
    "# Print the example object\n",
    "print(example)\n"
   ]
  },
  {
   "cell_type": "markdown",
   "id": "fe5b72a6",
   "metadata": {},
   "source": [
    "# 2."
   ]
  },
  {
   "cell_type": "code",
   "execution_count": 2,
   "id": "4c8d634f",
   "metadata": {},
   "outputs": [
    {
     "name": "stdout",
     "output_type": "stream",
     "text": [
      "abc\n"
     ]
    }
   ],
   "source": [
    "class Thing2:\n",
    "    letters = 'abc'\n",
    "\n",
    "print(Thing2.letters)\n"
   ]
  },
  {
   "cell_type": "markdown",
   "id": "a6544304",
   "metadata": {},
   "source": [
    "# 3."
   ]
  },
  {
   "cell_type": "code",
   "execution_count": 3,
   "id": "eec3b325",
   "metadata": {},
   "outputs": [
    {
     "name": "stdout",
     "output_type": "stream",
     "text": [
      "xyz\n"
     ]
    }
   ],
   "source": [
    "class Thing3:\n",
    "    def __init__(self):\n",
    "        self.letters = 'xyz'\n",
    "\n",
    "# Create an object (instance) of the Thing3 class\n",
    "obj = Thing3()\n",
    "\n",
    "# Print the letters instance attribute\n",
    "print(obj.letters)\n"
   ]
  },
  {
   "cell_type": "markdown",
   "id": "7658c8a1",
   "metadata": {},
   "source": [
    "# 4."
   ]
  },
  {
   "cell_type": "code",
   "execution_count": 4,
   "id": "b633c9c8",
   "metadata": {},
   "outputs": [
    {
     "name": "stdout",
     "output_type": "stream",
     "text": [
      "Name: Hydrogen\n",
      "Symbol: H\n",
      "Number: 1\n"
     ]
    }
   ],
   "source": [
    "class Element:\n",
    "    def __init__(self, name, symbol, number):\n",
    "        self.name = name\n",
    "        self.symbol = symbol\n",
    "        self.number = number\n",
    "\n",
    "# Create a class object with the values 'Hydrogen', 'H', and 1\n",
    "hydrogen = Element('Hydrogen', 'H', 1)\n",
    "\n",
    "# Access and print the instance attributes of the class object\n",
    "print(\"Name:\", hydrogen.name)\n",
    "print(\"Symbol:\", hydrogen.symbol)\n",
    "print(\"Number:\", hydrogen.number)\n"
   ]
  },
  {
   "cell_type": "markdown",
   "id": "3a57c550",
   "metadata": {},
   "source": [
    "# 5."
   ]
  },
  {
   "cell_type": "code",
   "execution_count": 5,
   "id": "a1379cbc",
   "metadata": {},
   "outputs": [
    {
     "name": "stdout",
     "output_type": "stream",
     "text": [
      "Name: Hydrogen\n",
      "Symbol: H\n",
      "Number: 1\n"
     ]
    }
   ],
   "source": [
    "class Element:\n",
    "    def __init__(self, name, symbol, number):\n",
    "        self.name = name\n",
    "        self.symbol = symbol\n",
    "        self.number = number\n",
    "\n",
    "# Create a dictionary with keys and values\n",
    "element_dict = {'name': 'Hydrogen', 'symbol': 'H', 'number': 1}\n",
    "\n",
    "# Create an object called hydrogen from the Element class using the dictionary\n",
    "hydrogen = Element(**element_dict)\n",
    "\n",
    "# Access and print the instance attributes of the object\n",
    "print(\"Name:\", hydrogen.name)\n",
    "print(\"Symbol:\", hydrogen.symbol)\n",
    "print(\"Number:\", hydrogen.number)\n"
   ]
  },
  {
   "cell_type": "markdown",
   "id": "5bdc6d75",
   "metadata": {},
   "source": [
    "# 6."
   ]
  },
  {
   "cell_type": "code",
   "execution_count": 6,
   "id": "b79b50d6",
   "metadata": {},
   "outputs": [
    {
     "name": "stdout",
     "output_type": "stream",
     "text": [
      "Name: Hydrogen\n",
      "Symbol: H\n",
      "Number: 1\n"
     ]
    }
   ],
   "source": [
    "class Element:\n",
    "    def __init__(self, name, symbol, number):\n",
    "        self.name = name\n",
    "        self.symbol = symbol\n",
    "        self.number = number\n",
    "    \n",
    "    def dump(self):\n",
    "        print(\"Name:\", self.name)\n",
    "        print(\"Symbol:\", self.symbol)\n",
    "        print(\"Number:\", self.number)\n",
    "\n",
    "# Create a dictionary with keys and values\n",
    "element_dict = {'name': 'Hydrogen', 'symbol': 'H', 'number': 1}\n",
    "\n",
    "# Create an object called hydrogen from the Element class using the dictionary\n",
    "hydrogen = Element(**element_dict)\n",
    "\n",
    "# Use the dump() method to print the attributes of the hydrogen object\n",
    "hydrogen.dump()\n"
   ]
  },
  {
   "cell_type": "markdown",
   "id": "c9df39ab",
   "metadata": {},
   "source": [
    "# 7."
   ]
  },
  {
   "cell_type": "code",
   "execution_count": 7,
   "id": "67f488c3",
   "metadata": {},
   "outputs": [
    {
     "name": "stdout",
     "output_type": "stream",
     "text": [
      "Name: Hydrogen, Symbol: H, Number: 1\n"
     ]
    }
   ],
   "source": [
    "class Element:\n",
    "    def __init__(self, name, symbol, number):\n",
    "        self.name = name\n",
    "        self.symbol = symbol\n",
    "        self.number = number\n",
    "    \n",
    "    def __str__(self):\n",
    "        return f\"Name: {self.name}, Symbol: {self.symbol}, Number: {self.number}\"\n",
    "\n",
    "# Create a dictionary with keys and values\n",
    "element_dict = {'name': 'Hydrogen', 'symbol': 'H', 'number': 1}\n",
    "\n",
    "# Create an object called hydrogen from the Element class using the dictionary\n",
    "hydrogen = Element(**element_dict)\n",
    "\n",
    "# Call print(hydrogen)\n",
    "print(hydrogen)\n"
   ]
  },
  {
   "cell_type": "markdown",
   "id": "29af645c",
   "metadata": {},
   "source": [
    "# 8."
   ]
  },
  {
   "cell_type": "code",
   "execution_count": 8,
   "id": "9dae5d8c",
   "metadata": {},
   "outputs": [
    {
     "name": "stdout",
     "output_type": "stream",
     "text": [
      "Name: Hydrogen\n",
      "Symbol: H\n",
      "Number: 1\n"
     ]
    }
   ],
   "source": [
    "class Element:\n",
    "    def __init__(self, name, symbol, number):\n",
    "        self.__name = name\n",
    "        self.__symbol = symbol\n",
    "        self.__number = number\n",
    "    \n",
    "    @property\n",
    "    def name(self):\n",
    "        return self.__name\n",
    "    \n",
    "    @property\n",
    "    def symbol(self):\n",
    "        return self.__symbol\n",
    "    \n",
    "    @property\n",
    "    def number(self):\n",
    "        return self.__number\n",
    "\n",
    "# Create a dictionary with keys and values\n",
    "element_dict = {'name': 'Hydrogen', 'symbol': 'H', 'number': 1}\n",
    "\n",
    "# Create an object called hydrogen from the Element class using the dictionary\n",
    "hydrogen = Element(**element_dict)\n",
    "\n",
    "# Access the attributes using the getter properties\n",
    "print(\"Name:\", hydrogen.name)\n",
    "print(\"Symbol:\", hydrogen.symbol)\n",
    "print(\"Number:\", hydrogen.number)\n"
   ]
  },
  {
   "cell_type": "markdown",
   "id": "a466b2a4",
   "metadata": {},
   "source": [
    "# 9."
   ]
  },
  {
   "cell_type": "code",
   "execution_count": 9,
   "id": "e716ce4a",
   "metadata": {},
   "outputs": [
    {
     "name": "stdout",
     "output_type": "stream",
     "text": [
      "Bear eats: berries\n",
      "Rabbit eats: clover\n",
      "Octothorpe eats: campers\n"
     ]
    }
   ],
   "source": [
    "class Bear:\n",
    "    def eats(self):\n",
    "        return 'berries'\n",
    "\n",
    "class Rabbit:\n",
    "    def eats(self):\n",
    "        return 'clover'\n",
    "\n",
    "class Octothorpe:\n",
    "    def eats(self):\n",
    "        return 'campers'\n",
    "\n",
    "# Create objects from each class\n",
    "bear = Bear()\n",
    "rabbit = Rabbit()\n",
    "octothorpe = Octothorpe()\n",
    "\n",
    "# Print what each object eats\n",
    "print(\"Bear eats:\", bear.eats())\n",
    "print(\"Rabbit eats:\", rabbit.eats())\n",
    "print(\"Octothorpe eats:\", octothorpe.eats())\n"
   ]
  },
  {
   "cell_type": "markdown",
   "id": "41bc4e77",
   "metadata": {},
   "source": [
    "# 10."
   ]
  },
  {
   "cell_type": "code",
   "execution_count": 10,
   "id": "78426008",
   "metadata": {},
   "outputs": [
    {
     "name": "stdout",
     "output_type": "stream",
     "text": [
      "Laser: disintegrate\n",
      "Claw: crush\n",
      "SmartPhone: ring\n"
     ]
    }
   ],
   "source": [
    "class Laser:\n",
    "    def does(self):\n",
    "        return 'disintegrate'\n",
    "\n",
    "class Claw:\n",
    "    def does(self):\n",
    "        return 'crush'\n",
    "\n",
    "class SmartPhone:\n",
    "    def does(self):\n",
    "        return 'ring'\n",
    "\n",
    "class Robot:\n",
    "    def __init__(self):\n",
    "        self.laser = Laser()\n",
    "        self.claw = Claw()\n",
    "        self.smartphone = SmartPhone()\n",
    "\n",
    "    def does(self):\n",
    "        print(\"Laser:\", self.laser.does())\n",
    "        print(\"Claw:\", self.claw.does())\n",
    "        print(\"SmartPhone:\", self.smartphone.does())\n",
    "\n",
    "# Create an object of the Robot class\n",
    "robot = Robot()\n",
    "\n",
    "# Call the does() method of the Robot object to print what its component objects do\n",
    "robot.does()\n"
   ]
  },
  {
   "cell_type": "code",
   "execution_count": null,
   "id": "ef04cbcf",
   "metadata": {},
   "outputs": [],
   "source": []
  }
 ],
 "metadata": {
  "kernelspec": {
   "display_name": "Python 3 (ipykernel)",
   "language": "python",
   "name": "python3"
  },
  "language_info": {
   "codemirror_mode": {
    "name": "ipython",
    "version": 3
   },
   "file_extension": ".py",
   "mimetype": "text/x-python",
   "name": "python",
   "nbconvert_exporter": "python",
   "pygments_lexer": "ipython3",
   "version": "3.10.9"
  }
 },
 "nbformat": 4,
 "nbformat_minor": 5
}
