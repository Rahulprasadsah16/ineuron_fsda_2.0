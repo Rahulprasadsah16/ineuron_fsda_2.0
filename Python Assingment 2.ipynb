{
 "cells": [
  {
   "cell_type": "markdown",
   "id": "1a7555d3",
   "metadata": {},
   "source": [
    "# 1."
   ]
  },
  {
   "cell_type": "markdown",
   "id": "67b0c88a",
   "metadata": {},
   "source": [
    "The Boolean data type has two values: True and False. These values represent the two possible states of logical truth in Python.\n",
    "\n",
    "True: Represents the logical truth value \"true\".\n",
    "False: Represents the logical truth value \"false\".\n",
    "In Python, these values are written exactly as shown, with the first letter capitalized: True and False."
   ]
  },
  {
   "cell_type": "markdown",
   "id": "a8a666bb",
   "metadata": {},
   "source": [
    "# 2."
   ]
  },
  {
   "cell_type": "markdown",
   "id": "a9bc4f98",
   "metadata": {},
   "source": [
    "Boolean operators are used to perform logical operations on Boolean values (True or False). There are three primary Boolean operators:\n",
    "\n",
    "AND Operator (and):\n",
    "\n",
    "The and operator returns True if both operands are True, otherwise it returns False.\n",
    "Example: True and False evaluates to False.\n",
    "    \n",
    "OR Operator (or):\n",
    "\n",
    "The or operator returns True if at least one of the operands is True, otherwise it returns False.\n",
    "Example: True or False evaluates to True.\n",
    "    \n",
    "NOT Operator (not):\n",
    "\n",
    "The not operator returns the negation of the operand. If the operand is True, it returns False, and if the operand is False, it returns True.\n",
    "Example: not True evaluates to False."
   ]
  },
  {
   "cell_type": "markdown",
   "id": "9765c966",
   "metadata": {},
   "source": [
    "# 3."
   ]
  },
  {
   "cell_type": "markdown",
   "id": "d0aa19a7",
   "metadata": {},
   "source": [
    "AND Operator (and):\n",
    "\n",
    "Operand 1\tOperand 2\tResult\n",
    "True\tTrue\tTrue\n",
    "True\tFalse\tFalse\n",
    "False\tTrue\tFalse\n",
    "False\tFalse\tFalse\n",
    "\n",
    "\n",
    "OR Operator (or):\n",
    "    \n",
    "Operand 1\tOperand 2\tResult\n",
    "True\tTrue\tTrue\n",
    "True\tFalse\tTrue\n",
    "False\tTrue\tTrue\n",
    "False\tFalse\tFalse\n",
    "\n",
    "\n",
    "NOT Operator (not):\n",
    "    \n",
    "Operand\tResult\n",
    "True\tFalse\n",
    "False\tTrue"
   ]
  },
  {
   "cell_type": "markdown",
   "id": "38c91523",
   "metadata": {},
   "source": [
    "# 4."
   ]
  },
  {
   "cell_type": "markdown",
   "id": "2d181ac6",
   "metadata": {},
   "source": [
    "(5 > 4) and (3 == 5):\n",
    "\n",
    "5 > 4 evaluates to True.\n",
    "3 == 5 evaluates to False.\n",
    "True and False evaluates to False.\n",
    "not (5 > 4):\n",
    "\n",
    "5 > 4 evaluates to True.\n",
    "not True evaluates to False.\n",
    "(5 > 4) or (3 == 5):\n",
    "\n",
    "5 > 4 evaluates to True.\n",
    "3 == 5 evaluates to False.\n",
    "True or False evaluates to True.\n",
    "not ((5 > 4) or (3 == 5)):\n",
    "\n",
    "(5 > 4) or (3 == 5) evaluates to True.\n",
    "not True evaluates to False.\n",
    "(True and True) and (True == False):\n",
    "\n",
    "True and True evaluates to True.\n",
    "True == False evaluates to False.\n",
    "True and False evaluates to False.\n",
    "(not False) or (not True):\n",
    "\n",
    "not False evaluates to True.\n",
    "not True evaluates to False.\n",
    "True or False evaluates to True.\n",
    "So, the values of the expressions are:\n",
    "\n",
    "False\n",
    "False\n",
    "True\n",
    "False\n",
    "False\n",
    "True"
   ]
  },
  {
   "cell_type": "markdown",
   "id": "92279cd4",
   "metadata": {},
   "source": [
    "# 5."
   ]
  },
  {
   "cell_type": "markdown",
   "id": "bcf85b25",
   "metadata": {},
   "source": [
    "The six comparison operators in Python are:\n",
    "\n",
    "Equal to (==):\n",
    "\n",
    "Checks if the values of two operands are equal.\n",
    "Example: 5 == 5 evaluates to True.\n",
    "Not equal to (!=):\n",
    "\n",
    "Checks if the values of two operands are not equal.\n",
    "Example: 5 != 3 evaluates to True.\n",
    "Greater than (>):\n",
    "\n",
    "Checks if the value of the left operand is greater than the value of the right operand.\n",
    "Example: 5 > 3 evaluates to True.\n",
    "Less than (<):\n",
    "\n",
    "Checks if the value of the left operand is less than the value of the right operand.\n",
    "Example: 3 < 5 evaluates to True.\n",
    "Greater than or equal to (>=):\n",
    "\n",
    "Checks if the value of the left operand is greater than or equal to the value of the right operand.\n",
    "Example: 5 >= 5 evaluates to True.\n",
    "Less than or equal to (<=):\n",
    "\n",
    "Checks if the value of the left operand is less than or equal to the value of the right operand.\n",
    "Example: 3 <= 5 evaluates to True."
   ]
  },
  {
   "cell_type": "markdown",
   "id": "e27d3d5c",
   "metadata": {},
   "source": [
    "# 6."
   ]
  },
  {
   "cell_type": "markdown",
   "id": "f0e14737",
   "metadata": {},
   "source": [
    "Equal to Operator (==):\n",
    "\n",
    "The equal to operator (==) is used to compare two values to check if they are equal.\n",
    "Example: x == y compares the values of x and y to determine if they are equal. If they are equal, the expression evaluates to True; otherwise, it evaluates to False.\n",
    "This operator is used in conditional statements, such as if statements, to perform actions based on whether certain conditions are met.\n",
    "Assignment Operator (=):\n",
    "\n",
    "The assignment operator (=) is used to assign a value to a variable.\n",
    "Example: x = 5 assigns the value 5 to the variable x.\n",
    "This operator is used when you want to store a value in a variable for later use.\n",
    "Condition Example:\n",
    "Suppose you want to compare two variables, x and y, and perform an action based on whether they are equal. You would use the equal to operator (==) in this scenario. For example:\n",
    "    \n"
   ]
  },
  {
   "cell_type": "code",
   "execution_count": 2,
   "id": "032b0c57",
   "metadata": {},
   "outputs": [
    {
     "name": "stdout",
     "output_type": "stream",
     "text": [
      "x is not equal to y\n"
     ]
    }
   ],
   "source": [
    "x = 5\n",
    "y = 7\n",
    "\n",
    "if x == y:\n",
    "    print(\"x is equal to y\")\n",
    "else:\n",
    "    print(\"x is not equal to y\")\n"
   ]
  },
  {
   "cell_type": "markdown",
   "id": "f288d8ba",
   "metadata": {},
   "source": [
    "# 7."
   ]
  },
  {
   "cell_type": "code",
   "execution_count": 3,
   "id": "e375f671",
   "metadata": {},
   "outputs": [
    {
     "name": "stdout",
     "output_type": "stream",
     "text": [
      "ham\n",
      "spam\n",
      "spam\n"
     ]
    }
   ],
   "source": [
    "# Block 1:\n",
    "\n",
    "spam = 0\n",
    "if spam == 10:\n",
    "    print('eggs')\n",
    "\n",
    "    \n",
    "# Block 2:\n",
    "    \n",
    "if spam > 5:\n",
    "    print('bacon')\n",
    "\n",
    "    \n",
    "# Block 3:\n",
    "    \n",
    "else:\n",
    "    print('ham')\n",
    "print('spam')\n",
    "print('spam')\n"
   ]
  },
  {
   "cell_type": "markdown",
   "id": "1d95b309",
   "metadata": {},
   "source": [
    "# 8."
   ]
  },
  {
   "cell_type": "code",
   "execution_count": 5,
   "id": "8be4eb59",
   "metadata": {},
   "outputs": [
    {
     "name": "stdout",
     "output_type": "stream",
     "text": [
      "Howdy\n"
     ]
    }
   ],
   "source": [
    "spam = 2\n",
    "\n",
    "if spam == 1:\n",
    "    print(\"Hello\")\n",
    "elif spam == 2:\n",
    "    print(\"Howdy\")\n",
    "else:\n",
    "    print(\"Greetings!\")\n"
   ]
  },
  {
   "cell_type": "markdown",
   "id": "4c35d40a",
   "metadata": {},
   "source": [
    "# 9."
   ]
  },
  {
   "cell_type": "markdown",
   "id": "7ebce271",
   "metadata": {},
   "source": [
    "If a program is stuck in an endless loop and you need to interrupt its execution, you can press the following key combination depending on your operating system:\n",
    "\n",
    "Windows: Press Ctrl + C.\n",
    "MacOS: Press Command + C.\n",
    "Linux/Unix: Press Ctrl + C."
   ]
  },
  {
   "cell_type": "markdown",
   "id": "69abba63",
   "metadata": {},
   "source": [
    "# 10."
   ]
  },
  {
   "cell_type": "markdown",
   "id": "4776fbc3",
   "metadata": {},
   "source": [
    "break statement:\n",
    "\n",
    "The break statement is used to exit or break out of the loop prematurely.\n",
    "When a break statement is encountered inside a loop, the loop is immediately terminated, and the program execution continues with the statement immediately following the loop.\n",
    "It is typically used to end the loop early based on certain conditions being met.\n"
   ]
  },
  {
   "cell_type": "code",
   "execution_count": 6,
   "id": "34b9bd2d",
   "metadata": {},
   "outputs": [
    {
     "name": "stdout",
     "output_type": "stream",
     "text": [
      "0\n",
      "1\n",
      "2\n"
     ]
    }
   ],
   "source": [
    "for i in range(5):\n",
    "    if i == 3:\n",
    "        break\n",
    "    print(i)\n"
   ]
  },
  {
   "cell_type": "markdown",
   "id": "47896fa5",
   "metadata": {},
   "source": [
    "continue statement:\n",
    "\n",
    "The continue statement is used to skip the rest of the code inside the loop for the current iteration and continue with the next iteration of the loop.\n",
    "When a continue statement is encountered inside a loop, the remaining code inside the loop for that iteration is skipped, and the loop proceeds with the next iteration.\n",
    "It is typically used to skip certain iterations of the loop based on certain conditions being met, without terminating the loop entirely."
   ]
  },
  {
   "cell_type": "code",
   "execution_count": 7,
   "id": "70322572",
   "metadata": {},
   "outputs": [
    {
     "name": "stdout",
     "output_type": "stream",
     "text": [
      "0\n",
      "1\n",
      "3\n",
      "4\n"
     ]
    }
   ],
   "source": [
    "for i in range(5):\n",
    "    if i == 2:\n",
    "        continue\n",
    "    print(i)\n"
   ]
  },
  {
   "cell_type": "markdown",
   "id": "f792ae9a",
   "metadata": {},
   "source": [
    "# 11."
   ]
  },
  {
   "cell_type": "markdown",
   "id": "52e50c20",
   "metadata": {},
   "source": [
    "range(10):\n",
    "\n",
    "This generates a sequence of numbers starting from 0 (default value for start) up to 10 (exclusive), with a default step size of 1.\n",
    "It is equivalent to range(0, 10, 1).\n",
    "Example usage:"
   ]
  },
  {
   "cell_type": "code",
   "execution_count": 9,
   "id": "ed4855d4",
   "metadata": {},
   "outputs": [
    {
     "name": "stdout",
     "output_type": "stream",
     "text": [
      "0\n",
      "1\n",
      "2\n",
      "3\n",
      "4\n",
      "5\n",
      "6\n",
      "7\n",
      "8\n",
      "9\n"
     ]
    }
   ],
   "source": [
    "for i in range(10):\n",
    "    print(i)\n"
   ]
  },
  {
   "cell_type": "markdown",
   "id": "22a72e2f",
   "metadata": {},
   "source": [
    "range(0, 10):\n",
    "\n",
    "This generates a sequence of numbers starting from 0 (explicitly specified start value) up to 10 (exclusive), with a default step size of 1.\n",
    "It is equivalent to range(0, 10, 1).\n",
    "Example usage:"
   ]
  },
  {
   "cell_type": "code",
   "execution_count": 10,
   "id": "676b6be9",
   "metadata": {},
   "outputs": [
    {
     "name": "stdout",
     "output_type": "stream",
     "text": [
      "0\n",
      "1\n",
      "2\n",
      "3\n",
      "4\n",
      "5\n",
      "6\n",
      "7\n",
      "8\n",
      "9\n"
     ]
    }
   ],
   "source": [
    "for i in range(0, 10):\n",
    "    print(i)\n"
   ]
  },
  {
   "cell_type": "markdown",
   "id": "58fa6f6c",
   "metadata": {},
   "source": [
    "range(0, 10, 1):\n",
    "\n",
    "This generates a sequence of numbers starting from 0 (explicitly specified start value) up to 10 (exclusive), with a step size of 1 (explicitly specified step value).\n",
    "It is explicitly specifying both the start, stop, and step values."
   ]
  },
  {
   "cell_type": "code",
   "execution_count": 11,
   "id": "8c5a7cc8",
   "metadata": {},
   "outputs": [
    {
     "name": "stdout",
     "output_type": "stream",
     "text": [
      "0\n",
      "1\n",
      "2\n",
      "3\n",
      "4\n",
      "5\n",
      "6\n",
      "7\n",
      "8\n",
      "9\n"
     ]
    }
   ],
   "source": [
    "for i in range(0, 10, 1):\n",
    "    print(i)\n"
   ]
  },
  {
   "cell_type": "markdown",
   "id": "258c9e55",
   "metadata": {},
   "source": [
    "# 12."
   ]
  },
  {
   "cell_type": "code",
   "execution_count": 12,
   "id": "dff98b0b",
   "metadata": {},
   "outputs": [
    {
     "name": "stdout",
     "output_type": "stream",
     "text": [
      "1\n",
      "2\n",
      "3\n",
      "4\n",
      "5\n",
      "6\n",
      "7\n",
      "8\n",
      "9\n",
      "10\n"
     ]
    }
   ],
   "source": [
    "# Using a for loop\n",
    "for i in range(1, 11):\n",
    "    print(i)\n"
   ]
  },
  {
   "cell_type": "code",
   "execution_count": 13,
   "id": "e29a4c9f",
   "metadata": {},
   "outputs": [
    {
     "name": "stdout",
     "output_type": "stream",
     "text": [
      "1\n",
      "2\n",
      "3\n",
      "4\n",
      "5\n",
      "6\n",
      "7\n",
      "8\n",
      "9\n",
      "10\n"
     ]
    }
   ],
   "source": [
    "# Using a while loop\n",
    "i = 1\n",
    "while i <= 10:\n",
    "    print(i)\n",
    "    i += 1\n"
   ]
  },
  {
   "cell_type": "markdown",
   "id": "dfa52a12",
   "metadata": {},
   "source": [
    "Both programs will produce the same output, printing the numbers 1 to 10. The for loop iterates over the range of numbers from 1 to 10, while the while loop iterates as long as i is less than or equal to 10, incrementing i by 1 in each iteration."
   ]
  },
  {
   "cell_type": "markdown",
   "id": "0d43d385",
   "metadata": {},
   "source": [
    "# 13."
   ]
  },
  {
   "cell_type": "markdown",
   "id": "31d3da66",
   "metadata": {},
   "source": [
    "After importing the module spam, you can call the function bacon() using the dot notation, which specifies the module name followed by the function name:"
   ]
  },
  {
   "cell_type": "code",
   "execution_count": null,
   "id": "fdcd8f37",
   "metadata": {},
   "outputs": [],
   "source": [
    "import spam\n",
    "\n",
    "# Call the function bacon() from the module spam\n",
    "spam.bacon()\n"
   ]
  },
  {
   "cell_type": "code",
   "execution_count": null,
   "id": "446e3596",
   "metadata": {},
   "outputs": [],
   "source": []
  }
 ],
 "metadata": {
  "kernelspec": {
   "display_name": "Python 3 (ipykernel)",
   "language": "python",
   "name": "python3"
  },
  "language_info": {
   "codemirror_mode": {
    "name": "ipython",
    "version": 3
   },
   "file_extension": ".py",
   "mimetype": "text/x-python",
   "name": "python",
   "nbconvert_exporter": "python",
   "pygments_lexer": "ipython3",
   "version": "3.10.9"
  }
 },
 "nbformat": 4,
 "nbformat_minor": 5
}
