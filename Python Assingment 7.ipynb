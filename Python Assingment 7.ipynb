{
 "cells": [
  {
   "cell_type": "markdown",
   "id": "c2cc05dd",
   "metadata": {},
   "source": [
    "# 1."
   ]
  },
  {
   "cell_type": "markdown",
   "id": "474f4fef",
   "metadata": {},
   "source": [
    "In Python, the feature responsible for generating regular expression (regex) objects is the re module, which provides support for working with regular expressions.\n",
    "\n",
    "The re.compile() function is specifically used to compile a regular expression pattern into a regex object, which can then be used for various operations such as matching, searching, and replacing text based on the pattern specified."
   ]
  },
  {
   "cell_type": "code",
   "execution_count": 1,
   "id": "c2a573d6",
   "metadata": {},
   "outputs": [],
   "source": [
    "import re\n",
    "\n",
    "pattern = re.compile(r'\\b\\w+\\b')  # Compile a regex pattern to match words\n"
   ]
  },
  {
   "cell_type": "markdown",
   "id": "ea63fff0",
   "metadata": {},
   "source": [
    "# 2."
   ]
  },
  {
   "cell_type": "markdown",
   "id": "d2c0943a",
   "metadata": {},
   "source": [
    "Raw strings are commonly used in regular expression (regex) objects in Python because they allow you to specify regular expression patterns without the need to escape backslashes (\\).\n",
    "\n",
    "In Python, backslashes are used as escape characters in string literals. However, in regular expressions, backslashes are also used as escape characters to represent special characters such as \\d (digit), \\w (word character), \\s (whitespace), etc.\n",
    "\n",
    "When you use a raw string (prefixing the string literal with r), Python treats backslashes as literal characters and does not interpret them as escape characters. This is particularly useful in regular expressions, where backslashes are frequently used to represent special characters."
   ]
  },
  {
   "cell_type": "code",
   "execution_count": 2,
   "id": "c5eb989f",
   "metadata": {},
   "outputs": [],
   "source": [
    "import re\n",
    "\n",
    "pattern = re.compile(r'\\b\\w+\\b')  # Using a raw string to specify the regex pattern\n"
   ]
  },
  {
   "cell_type": "markdown",
   "id": "721ccda8",
   "metadata": {},
   "source": [
    "# 3."
   ]
  },
  {
   "cell_type": "markdown",
   "id": "e48b726c",
   "metadata": {},
   "source": [
    "The search() method in Python's re module returns a match object if the pattern is found in the string being searched. If the pattern is not found, it returns None."
   ]
  },
  {
   "cell_type": "markdown",
   "id": "88d3a2f7",
   "metadata": {},
   "source": [
    "pattern: The regular expression pattern to search for.\n",
    "\n",
    "string: The string in which to search for the pattern."
   ]
  },
  {
   "cell_type": "code",
   "execution_count": 4,
   "id": "b019f337",
   "metadata": {},
   "outputs": [
    {
     "name": "stdout",
     "output_type": "stream",
     "text": [
      "Pattern found: fox\n"
     ]
    }
   ],
   "source": [
    "import re\n",
    "\n",
    "pattern = r'fox'\n",
    "string = 'The quick brown fox jumps over the lazy dog.'\n",
    "\n",
    "match_object = re.search(pattern, string)\n",
    "\n",
    "if match_object:\n",
    "    print('Pattern found:', match_object.group())  \n",
    "else:\n",
    "    print('Pattern not found')\n"
   ]
  },
  {
   "cell_type": "markdown",
   "id": "24d805b0",
   "metadata": {},
   "source": [
    "# 4."
   ]
  },
  {
   "cell_type": "code",
   "execution_count": 5,
   "id": "91a29a5d",
   "metadata": {},
   "outputs": [
    {
     "name": "stdout",
     "output_type": "stream",
     "text": [
      "Pattern found: fox\n"
     ]
    }
   ],
   "source": [
    "import re\n",
    "\n",
    "pattern = r'fox'\n",
    "string = 'The quick brown fox jumps over the lazy dog.'\n",
    "\n",
    "match_object = re.search(pattern, string)\n",
    "\n",
    "if match_object:\n",
    "    print('Pattern found:', match_object.group())  \n",
    "else:\n",
    "    print('Pattern not found')\n"
   ]
  },
  {
   "cell_type": "markdown",
   "id": "ba6c1344",
   "metadata": {},
   "source": [
    "If you have capturing groups in your regular expression pattern, you can also use group(n) to access the matched substring of a specific capturing group, where n is the index of the capturing group."
   ]
  },
  {
   "cell_type": "code",
   "execution_count": 6,
   "id": "366219d6",
   "metadata": {},
   "outputs": [
    {
     "name": "stdout",
     "output_type": "stream",
     "text": [
      "First name: John\n",
      "Last name: Doe\n"
     ]
    }
   ],
   "source": [
    "import re\n",
    "\n",
    "pattern = r'(\\w+)\\s(\\w+)'\n",
    "string = 'John Doe'\n",
    "\n",
    "match_object = re.search(pattern, string)\n",
    "\n",
    "if match_object:\n",
    "    print('First name:', match_object.group(1))  \n",
    "    print('Last name:', match_object.group(2))   \n",
    "else:\n",
    "    print('Pattern not found')\n"
   ]
  },
  {
   "cell_type": "markdown",
   "id": "f2a9ea50",
   "metadata": {},
   "source": [
    "# 5."
   ]
  },
  {
   "cell_type": "markdown",
   "id": "dd2b1136",
   "metadata": {},
   "source": [
    "In the regular expression r'(\\d\\d\\d)-(\\d\\d\\d-\\d\\d\\d\\d)', which contains two capturing groups denoted by parentheses, the groups are numbered based on the order of their opening parentheses from left to right."
   ]
  },
  {
   "cell_type": "code",
   "execution_count": 7,
   "id": "feba0329",
   "metadata": {},
   "outputs": [
    {
     "name": "stdout",
     "output_type": "stream",
     "text": [
      "Group 0 (entire match): 123-456-7890\n",
      "Group 1: 123\n",
      "Group 2: 456-7890\n"
     ]
    }
   ],
   "source": [
    "import re\n",
    "\n",
    "pattern = r'(\\d\\d\\d)-(\\d\\d\\d-\\d\\d\\d\\d)'\n",
    "string = '123-456-7890'\n",
    "\n",
    "match_object = re.search(pattern, string)\n",
    "\n",
    "if match_object:\n",
    "    print('Group 0 (entire match):', match_object.group(0))  \n",
    "    print('Group 1:', match_object.group(1))                \n",
    "    print('Group 2:', match_object.group(2))                \n",
    "    \n",
    "else:\n",
    "    print('Pattern not found')\n"
   ]
  },
  {
   "cell_type": "markdown",
   "id": "1c72d829",
   "metadata": {},
   "source": [
    "# 6."
   ]
  },
  {
   "cell_type": "markdown",
   "id": "4ba35ebe",
   "metadata": {},
   "source": [
    "In regular expressions, parentheses and periods have special meanings. If you want to match literal parentheses and periods in a regex pattern, you need to escape them using a backslash (\\). This tells the regex engine to treat them as literal characters rather than as part of the regex syntax.\n",
    "\n",
    "To match a literal parentheses, use \\( to match an opening parenthesis and \\) to match a closing parenthesis.\n",
    "\n",
    "To match a literal period, use \\.."
   ]
  },
  {
   "cell_type": "code",
   "execution_count": 8,
   "id": "db115619",
   "metadata": {},
   "outputs": [
    {
     "name": "stdout",
     "output_type": "stream",
     "text": [
      "Match found: (123).456\n"
     ]
    }
   ],
   "source": [
    "import re\n",
    "\n",
    "pattern = r'\\(123\\)\\.456'\n",
    "string = '(123).456'\n",
    "\n",
    "match_object = re.search(pattern, string)\n",
    "\n",
    "if match_object:\n",
    "    print('Match found:', match_object.group())  \n",
    "else:\n",
    "    print('Match not found')\n"
   ]
  },
  {
   "cell_type": "markdown",
   "id": "aeee36f5",
   "metadata": {},
   "source": [
    "# 7."
   ]
  },
  {
   "cell_type": "markdown",
   "id": "346148c3",
   "metadata": {},
   "source": [
    "The findall() method in Python's re module returns a list of strings when the regular expression pattern being searched for contains no capturing groups. It returns a list of tuples of strings when the pattern contains one or more capturing groups."
   ]
  },
  {
   "cell_type": "markdown",
   "id": "39c56933",
   "metadata": {},
   "source": [
    "No Capturing Groups:\n",
    "\n",
    "If the regular expression pattern passed to findall() does not contain any capturing groups (i.e., no parentheses), the method returns a list of strings.\n",
    "Each string in the list represents a non-overlapping match of the pattern within the searched string."
   ]
  },
  {
   "cell_type": "code",
   "execution_count": 11,
   "id": "5072e335",
   "metadata": {},
   "outputs": [
    {
     "name": "stdout",
     "output_type": "stream",
     "text": [
      "['123', '456', '789']\n"
     ]
    }
   ],
   "source": [
    "import re\n",
    "\n",
    "pattern = r'\\d+'  # Matches one or more digits\n",
    "string = '123 456 789'\n",
    "\n",
    "matches = re.findall(pattern, string)\n",
    "print(matches)  \n"
   ]
  },
  {
   "cell_type": "markdown",
   "id": "464827c0",
   "metadata": {},
   "source": [
    "With Capturing Groups:\n",
    "\n",
    "If the regular expression pattern contains one or more capturing groups (i.e., one or more pairs of parentheses), the findall() method returns a list of tuples of strings.\n",
    "Each tuple in the list represents a match of the entire pattern, and the strings within the tuple correspond to the substrings matched by the capturing groups."
   ]
  },
  {
   "cell_type": "code",
   "execution_count": 13,
   "id": "fe7fff10",
   "metadata": {},
   "outputs": [
    {
     "name": "stdout",
     "output_type": "stream",
     "text": [
      "[('123', '456'), ('789', '012')]\n"
     ]
    }
   ],
   "source": [
    "import re\n",
    "\n",
    "pattern = r'(\\d+)-(\\d+)'  # Matches two sequences of digits separated by a hyphen\n",
    "string = '123-456 789-012'\n",
    "\n",
    "matches = re.findall(pattern, string)\n",
    "print(matches)  \n"
   ]
  },
  {
   "cell_type": "markdown",
   "id": "73f821a4",
   "metadata": {},
   "source": [
    "# 8.                                                "
   ]
  },
  {
   "cell_type": "markdown",
   "id": "52324eba",
   "metadata": {},
   "source": [
    "In regular expressions, the | character, known as the \"pipe\" or \"alternation\" operator, is used to specify alternatives within a pattern. It allows you to match one of several possible patterns at a particular location in the input string."
   ]
  },
  {
   "cell_type": "markdown",
   "id": "718c48d6",
   "metadata": {},
   "source": [
    "# 9."
   ]
  },
  {
   "cell_type": "markdown",
   "id": "bf780d70",
   "metadata": {},
   "source": [
    "Regular expressions use various special characters, each with its own meaning and functionality.\n",
    "\n",
    ". (dot): Matches any single character except newline characters.\n",
    "^ (caret): Matches the start of the string.\n",
    "$ (dollar): Matches the end of the string.\n",
    "* (asterisk): Matches zero or more occurrences of the preceding character.\n",
    "+ (plus): Matches one or more occurrences of the preceding character.\n",
    "? (question mark): Matches zero or one occurrence of the preceding character (makes it optional).\n",
    "| (pipe): Alternation operator, matches either the pattern on its left or the pattern on its right.\n",
    "[ ] (square brackets): Character class, matches any one of the characters within the brackets.\n",
    "{ } (curly braces): Quantifiers, specify the number of occurrences of the preceding character or group."
   ]
  },
  {
   "cell_type": "markdown",
   "id": "72102853",
   "metadata": {},
   "source": [
    "# 10."
   ]
  },
  {
   "cell_type": "markdown",
   "id": "6a12613c",
   "metadata": {},
   "source": [
    "+ (plus):\n",
    "\n",
    "Matches one or more occurrences of the preceding character or group.\n",
    "The preceding character or group must appear at least once for the match to be successful.\n",
    "Example: a+ matches one or more occurrences of the character 'a'. It would match 'a', 'aa', 'aaa', and so on, but not an empty string.\n",
    "\n",
    "* (asterisk):\n",
    "\n",
    "Matches zero or more occurrences of the preceding character or group.\n",
    "The preceding character or group may appear zero or more times for the match to be successful.\n",
    "Example: a* matches zero or more occurrences of the character 'a'. It would match an empty string, 'a', 'aa', 'aaa', and so on."
   ]
  },
  {
   "cell_type": "markdown",
   "id": "bc3ccf36",
   "metadata": {},
   "source": [
    "# 11."
   ]
  },
  {
   "cell_type": "markdown",
   "id": "73e4bd53",
   "metadata": {},
   "source": [
    "In regular expressions, {4} and {4,5} are both quantifiers that specify the exact number of occurrences of the preceding character or group. However, they have different meanings:\n",
    "\n",
    "{4}: Matches exactly 4 occurrences of the preceding character or group.\n",
    "\n",
    "{4,5}: Matches between 4 and 5 occurrences (inclusive) of the preceding character or group."
   ]
  },
  {
   "cell_type": "markdown",
   "id": "7e3bebb8",
   "metadata": {},
   "source": [
    "# 12."
   ]
  },
  {
   "cell_type": "markdown",
   "id": "cf80237d",
   "metadata": {},
   "source": [
    "In regular expressions, shorthand character classes such as \\d, \\w, and \\s are used to represent certain types of characters. They are shortcuts that match specific character sets, making it easier to specify patterns in regular expressions."
   ]
  },
  {
   "cell_type": "markdown",
   "id": "55bf9a5f",
   "metadata": {},
   "source": [
    "\n",
    "In regular expressions, shorthand character classes such as \\d, \\w, and \\s are used to represent certain types of characters. They are shortcuts that match specific character sets, making it easier to specify patterns in regular expressions.\n",
    "\n",
    "Here's what each of these shorthand character classes signifies:\n",
    "\n",
    "\\d: Matches any digit character. Equivalent to the character range [0-9].\n",
    "\n",
    "\\w: Matches any alphanumeric character (i.e., letters, digits, or underscores). Equivalent to the character range [a-zA-Z0-9_].\n",
    "\n",
    "\\s: Matches any whitespace character (i.e., space, tab, newline, etc.)."
   ]
  },
  {
   "cell_type": "markdown",
   "id": "a20487ca",
   "metadata": {},
   "source": [
    "# 13."
   ]
  },
  {
   "cell_type": "markdown",
   "id": "0cbcb3f7",
   "metadata": {},
   "source": [
    "n regular expressions, the \\D, \\W, and \\S shorthand character classes are used to represent negated versions of the \\d, \\w, and \\s character classes, respectively. They match any character that is not in the specified character class.\n",
    "\n",
    "Here's what each of these shorthand character classes signifies:\n",
    "\n",
    "\\D: Matches any character that is not a digit. It is the negation of the \\d shorthand.\n",
    "    \n",
    "\\W: Matches any character that is not a word character (i.e., not alphanumeric or underscore). It is the negation of the \\w shorthand.\n",
    "    \n",
    "\\S: Matches any character that is not a whitespace character. It is the negation of the \\s shorthand."
   ]
  },
  {
   "cell_type": "markdown",
   "id": "33054e80",
   "metadata": {},
   "source": [
    "# 14."
   ]
  },
  {
   "cell_type": "markdown",
   "id": "31ad3403",
   "metadata": {},
   "source": [
    "In regular expressions, .*? and .*? are actually identical. Both patterns use the combination of .* and ? to create a non-greedy match for any character (except newline characters).\n",
    "\n",
    "Here's a breakdown of each part:\n",
    "\n",
    ".*: Matches zero or more occurrences of any character (except newline characters).\n",
    "    \n",
    "?: Modifies the behavior of .* to make it non-greedy, meaning it matches as few characters as possible while still allowing the overall pattern to match."
   ]
  },
  {
   "cell_type": "markdown",
   "id": "1cfe9082",
   "metadata": {},
   "source": [
    "# 15."
   ]
  },
  {
   "cell_type": "markdown",
   "id": "36a8ca63",
   "metadata": {},
   "source": [
    "To match both numbers and lowercase letters with a character class in a regular expression, you can use the character class [0-9a-z]. This character class matches any single character that is a digit (0-9) or a lowercase letter (a-z)"
   ]
  },
  {
   "cell_type": "markdown",
   "id": "f184e5bc",
   "metadata": {},
   "source": [
    "Combining them within a single character class [0-9a-z] creates a character class that matches any single character that is either a digit or a lowercase letter."
   ]
  },
  {
   "cell_type": "code",
   "execution_count": 14,
   "id": "799b32ef",
   "metadata": {},
   "outputs": [
    {
     "name": "stdout",
     "output_type": "stream",
     "text": [
      "['e', 'l', 'l', 'o', '1', '2', '3', 'o', 'r', 'l', 'd']\n"
     ]
    }
   ],
   "source": [
    "import re\n",
    "\n",
    "pattern = r'[0-9a-z]'\n",
    "string = 'Hello123World'\n",
    "\n",
    "matches = re.findall(pattern, string)\n",
    "print(matches)  \n"
   ]
  },
  {
   "cell_type": "markdown",
   "id": "78d62129",
   "metadata": {},
   "source": [
    "# 16."
   ]
  },
  {
   "cell_type": "markdown",
   "id": "5a3238c6",
   "metadata": {},
   "source": [
    "import the re module.\n",
    "\n",
    "Compile the regular expression pattern using re.compile() and pass re.IGNORECASE as the second argument.\n",
    "\n",
    "Use the resulting compiled pattern object or pass the re.IGNORECASE flag to the desired regex function."
   ]
  },
  {
   "cell_type": "code",
   "execution_count": 15,
   "id": "30911263",
   "metadata": {},
   "outputs": [
    {
     "name": "stdout",
     "output_type": "stream",
     "text": [
      "Pattern found: Hello\n"
     ]
    }
   ],
   "source": [
    "import re\n",
    "\n",
    "pattern = re.compile(r'hello', re.IGNORECASE)  # Compile the pattern with the IGNORECASE flag\n",
    "string = 'Hello World'\n",
    "\n",
    "match = pattern.search(string)  # Search for the pattern in the string (case insensitive)\n",
    "\n",
    "if match:\n",
    "    print('Pattern found:', match.group())  \n",
    "else:\n",
    "    print('Pattern not found')\n"
   ]
  },
  {
   "cell_type": "markdown",
   "id": "1e1eef1d",
   "metadata": {},
   "source": [
    "# 17."
   ]
  },
  {
   "cell_type": "markdown",
   "id": "74f67071",
   "metadata": {},
   "source": [
    "The . (dot) character normally matches any single character except newline characters (\\n).\n",
    "\n",
    "If re.DOTALL (or re.S) is passed as the second argument in re.compile(), the . (dot) character matches any character including newline characters (\\n)."
   ]
  },
  {
   "cell_type": "code",
   "execution_count": 18,
   "id": "5d368b5e",
   "metadata": {},
   "outputs": [
    {
     "name": "stdout",
     "output_type": "stream",
     "text": [
      "['a', 'b', 'c', 'd', 'e', 'f']\n"
     ]
    }
   ],
   "source": [
    " # Normal Behavior (without re.DOTALL):\n",
    "    \n",
    "import re\n",
    "\n",
    "pattern = re.compile(r'.')\n",
    "string = 'abc\\ndef'\n",
    "\n",
    "matches = pattern.findall(string)\n",
    "print(matches)  \n"
   ]
  },
  {
   "cell_type": "code",
   "execution_count": 19,
   "id": "0c8073ee",
   "metadata": {},
   "outputs": [
    {
     "name": "stdout",
     "output_type": "stream",
     "text": [
      "['a', 'b', 'c', '\\n', 'd', 'e', 'f']\n"
     ]
    }
   ],
   "source": [
    "# With re.DOTALL (or re.S):\n",
    "\n",
    "import re\n",
    "\n",
    "pattern = re.compile(r'.', re.DOTALL)\n",
    "string = 'abc\\ndef'\n",
    "\n",
    "matches = pattern.findall(string)\n",
    "print(matches) \n"
   ]
  },
  {
   "cell_type": "markdown",
   "id": "7e01c2ea",
   "metadata": {},
   "source": [
    "# 18."
   ]
  },
  {
   "cell_type": "markdown",
   "id": "dfc0bbb1",
   "metadata": {},
   "source": [
    "The numRegex.sub('X', '11 drummers, 10 pipers, five rings, 4 hen') statement will replace all sequences of digits with the letter 'X' in the input string."
   ]
  },
  {
   "cell_type": "markdown",
   "id": "2f63e12b",
   "metadata": {},
   "source": [
    "re.compile(r'\\d+'): This compiles a regular expression pattern \\d+, which matches one or more digits.\n",
    "sub('X', '11 drummers, 10 pipers, five rings, 4 hen'): This method replaces all matches of the pattern \\d+ in the input string with the replacement string 'X'.\n",
    "So, in the input string '11 drummers, 10 pipers, five rings, 4 hen', the following replacements will occur:\n",
    "\n",
    "'11' will be replaced with 'X'\n",
    "\n",
    "'10' will be replaced with 'X'\n",
    "\n",
    "'4' will be replaced with 'X'\n",
    "\n",
    "Therefore, the result of numRegex.sub('X', '11 drummers, 10 pipers, five rings, 4 hen') will be:"
   ]
  },
  {
   "cell_type": "markdown",
   "id": "dff77346",
   "metadata": {},
   "source": [
    "# 19."
   ]
  },
  {
   "cell_type": "markdown",
   "id": "4e6ed923",
   "metadata": {},
   "source": [
    "Passing re.VERBOSE as the second argument to re.compile() in Python allows you to write more readable and organized regular expressions by ignoring whitespace and adding comments within the pattern string. This flag enables \"verbose mode\" for the regular expression, which provides several benefits:\n",
    "\n",
    "Ignore Whitespace: Whitespace (spaces, tabs, and newline characters) in the pattern string is ignored, except when it is escaped or within a character class. This allows you to format the regular expression pattern more clearly, making it easier to read and maintain.\n",
    "\n",
    "Add Comments: You can add comments to the pattern string using the # character. Comments can be used to explain parts of the regular expression pattern, making it easier for others (and yourself) to understand its purpose and logic.\n",
    "\n",
    "Multiline Patterns: You can spread the regular expression pattern across multiple lines, making it easier to organize and visualize complex patterns."
   ]
  },
  {
   "cell_type": "markdown",
   "id": "e24e8761",
   "metadata": {},
   "source": [
    "# 20."
   ]
  },
  {
   "cell_type": "code",
   "execution_count": 20,
   "id": "6e133488",
   "metadata": {},
   "outputs": [
    {
     "name": "stdout",
     "output_type": "stream",
     "text": [
      "Match: 42\n",
      "Match: 1,234\n",
      "Match: 6,368,745\n",
      "No match: 12,34,567\n",
      "No match: 1234\n"
     ]
    }
   ],
   "source": [
    "import re\n",
    "\n",
    "pattern = re.compile(r'^\\d{1,3}(,\\d{3})*$')\n",
    "\n",
    "# Test cases\n",
    "strings = ['42', '1,234', '6,368,745', '12,34,567', '1234']\n",
    "\n",
    "for string in strings:\n",
    "    if pattern.match(string):\n",
    "        print(f\"Match: {string}\")\n",
    "    else:\n",
    "        print(f\"No match: {string}\")\n"
   ]
  },
  {
   "cell_type": "markdown",
   "id": "168d2995",
   "metadata": {},
   "source": [
    "# 21."
   ]
  },
  {
   "cell_type": "code",
   "execution_count": 21,
   "id": "d4da762d",
   "metadata": {},
   "outputs": [
    {
     "name": "stdout",
     "output_type": "stream",
     "text": [
      "Match: Haruto Watanabe\n",
      "Match: Alice Watanabe\n",
      "Match: RoboCop Watanabe\n",
      "No match: haruto Watanabe\n",
      "No match: Mr. Watanabe\n",
      "No match: Watanabe\n",
      "No match: Haruto watanabe\n"
     ]
    }
   ],
   "source": [
    "import re\n",
    "\n",
    "pattern = re.compile(r'^[A-Z][a-zA-Z]*\\sWatanabe$')\n",
    "\n",
    "# Test cases\n",
    "names = ['Haruto Watanabe', 'Alice Watanabe', 'RoboCop Watanabe',\n",
    "         'haruto Watanabe', 'Mr. Watanabe', 'Watanabe', 'Haruto watanabe']\n",
    "\n",
    "for name in names:\n",
    "    if pattern.match(name):\n",
    "        print(f\"Match: {name}\")\n",
    "    else:\n",
    "        print(f\"No match: {name}\")\n"
   ]
  },
  {
   "cell_type": "markdown",
   "id": "e8113621",
   "metadata": {},
   "source": [
    "# 22."
   ]
  },
  {
   "cell_type": "code",
   "execution_count": 22,
   "id": "a9dd1ba1",
   "metadata": {},
   "outputs": [
    {
     "name": "stdout",
     "output_type": "stream",
     "text": [
      "Match: Alice eats apples.\n",
      "Match: Bob pets cats.\n",
      "Match: Carol throws baseballs.\n",
      "Match: Alice throws Apples.\n",
      "Match: BOB EATS CATS.\n",
      "No match: RoboCop eats apples.\n",
      "No match: ALICE THROWS FOOTBALLS.\n",
      "No match: Carol eats 7 cats.\n"
     ]
    }
   ],
   "source": [
    "import re\n",
    "\n",
    "pattern = re.compile(r'^(Alice|Bob|Carol)\\s+(eats|pets|throws)\\s+(apples|cats|baseballs)\\.$', re.IGNORECASE)\n",
    "\n",
    "# Test cases\n",
    "sentences = [\n",
    "    'Alice eats apples.',\n",
    "    'Bob pets cats.',\n",
    "    'Carol throws baseballs.',\n",
    "    'Alice throws Apples.',\n",
    "    'BOB EATS CATS.',\n",
    "    'RoboCop eats apples.',\n",
    "    'ALICE THROWS FOOTBALLS.',\n",
    "    'Carol eats 7 cats.'\n",
    "]\n",
    "\n",
    "for sentence in sentences:\n",
    "    if pattern.match(sentence):\n",
    "        print(f\"Match: {sentence}\")\n",
    "    else:\n",
    "        print(f\"No match: {sentence}\")\n"
   ]
  },
  {
   "cell_type": "code",
   "execution_count": null,
   "id": "64646592",
   "metadata": {},
   "outputs": [],
   "source": []
  }
 ],
 "metadata": {
  "kernelspec": {
   "display_name": "Python 3 (ipykernel)",
   "language": "python",
   "name": "python3"
  },
  "language_info": {
   "codemirror_mode": {
    "name": "ipython",
    "version": 3
   },
   "file_extension": ".py",
   "mimetype": "text/x-python",
   "name": "python",
   "nbconvert_exporter": "python",
   "pygments_lexer": "ipython3",
   "version": "3.10.9"
  }
 },
 "nbformat": 4,
 "nbformat_minor": 5
}
