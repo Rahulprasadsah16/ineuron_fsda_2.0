{
 "cells": [
  {
   "cell_type": "markdown",
   "id": "8b7e0666",
   "metadata": {},
   "source": [
    "# 1."
   ]
  },
  {
   "cell_type": "markdown",
   "id": "88d8d688",
   "metadata": {},
   "source": [
    "Cell Value: Format cells based on their numeric, text, or date values.\n",
    "    \n",
    "Specific Text: Format cells containing specific text or a specific range of text.\n",
    "    \n",
    "Dates Occurring: Format cells based on dates occurring today, in the past, or in the future.\n",
    "    \n",
    "Duplicate Values: Format cells that contain duplicate values.\n",
    "    \n",
    "Unique Values: Format cells that contain unique values.\n",
    "    \n",
    "Top/Bottom Rules: Format the top or bottom \"N\" items from a range of values.\n",
    "    \n",
    "Above/Below Average: Format cells above or below the average value in a range.\n",
    "    \n",
    "Data Bars: Display data bars proportional to the cell's value within the selected range.\n",
    "    \n",
    "Color Scales: Apply a color gradient based on cell values.\n",
    "    \n",
    "Icon Sets: Display icons (e.g., arrows, shapes) based on cell values."
   ]
  },
  {
   "cell_type": "markdown",
   "id": "b6581cba",
   "metadata": {},
   "source": [
    "# 2."
   ]
  },
  {
   "cell_type": "markdown",
   "id": "5eb7a559",
   "metadata": {},
   "source": [
    "To insert borders in Excel using the Format Cells dialog, follow these steps:\n",
    "\n",
    "Select Cells: First, select the cells or range of cells to which you want to apply the border.\n",
    "\n",
    "Open Format Cells Dialog: There are multiple ways to open the Format Cells dialog:\n",
    "\n",
    "Right-click on the selected cells and choose \"Format Cells\" from the context menu.\n",
    "Go to the Home tab on the Excel ribbon, click on the \"Format\" dropdown arrow in the \"Cells\" group, and select \"Format Cells.\"\n",
    "Alternatively, you can use the keyboard shortcut Ctrl + 1 (hold down the Ctrl key and press the number 1 key).\n",
    "\n",
    "Navigate to Border Tab: In the Format Cells dialog, navigate to the \"Border\" tab.\n",
    "\n",
    "Choose Border Style: In the \"Border\" tab, you'll see various border styles represented by icons. Click on the icons to choose the desired border style. You can choose from options like:\n",
    "\n",
    "Outline: Adds borders around the outside edges of the selected cells.\n",
    "Inside: Adds borders between the cells within the selection.\n",
    "Outside and Inside: Adds borders around the outside edges and between the cells within the selection.\n",
    "Specify Border Color and Line Style (Optional): You can further customize the border by selecting a specific color and line style using the options provided in the Format Cells dialog.\n",
    "\n",
    "Apply Borders: After selecting the desired border style, click the \"OK\" button to apply the borders to the selected cells."
   ]
  },
  {
   "cell_type": "markdown",
   "id": "cb80eb8b",
   "metadata": {},
   "source": [
    "# 3."
   ]
  },
  {
   "cell_type": "markdown",
   "id": "777efba7",
   "metadata": {},
   "source": [
    "To format numbers as currency in Excel, you can follow these steps:\n",
    "\n",
    "Select Cells: First, select the cells or range of cells that you want to format as currency.\n",
    "\n",
    "Open Format Cells Dialog: There are multiple ways to open the Format Cells dialog:\n",
    "\n",
    "Right-click on the selected cells and choose \"Format Cells\" from the context menu.\n",
    "Go to the Home tab on the Excel ribbon, click on the \"Format\" dropdown arrow in the \"Number\" group, and select \"Format Cells.\"\n",
    "Alternatively, you can use the keyboard shortcut Ctrl + 1 (hold down the Ctrl key and press the number 1 key).\n",
    "\n",
    "Navigate to Number Tab: In the Format Cells dialog, navigate to the \"Number\" tab.\n",
    "\n",
    "Select Currency Category: In the \"Category\" list on the left side of the dialog, select \"Currency.\"\n",
    "\n",
    "Choose Currency Symbol: Under the \"Symbol\" section, you can choose the currency symbol you want to use from the dropdown list. You can also customize the currency symbol if necessary.\n",
    "\n",
    "Adjust Decimal Places (Optional): You can specify the number of decimal places to display by adjusting the value in the \"Decimal places\" field.\n",
    "\n",
    "Negative Numbers: You can choose how negative numbers are displayed under the \"Negative numbers\" section. Options include displaying negatives in red or using parentheses.\n",
    "\n",
    "Click OK: After customizing the currency format as desired, click the \"OK\" button to apply the currency format to the selected cells."
   ]
  },
  {
   "cell_type": "markdown",
   "id": "9e6ca3ed",
   "metadata": {},
   "source": [
    "# 4."
   ]
  },
  {
   "cell_type": "markdown",
   "id": "4d33c9d5",
   "metadata": {},
   "source": [
    "To format numbers in Excel with the Percent style, follow these steps:\n",
    "\n",
    "Select Cells: First, select the cells or range of cells that you want to format as percentages.\n",
    "\n",
    "Open Format Cells Dialog: There are multiple ways to open the Format Cells dialog:\n",
    "\n",
    "Right-click on the selected cells and choose \"Format Cells\" from the context menu.\n",
    "Go to the Home tab on the Excel ribbon, click on the \"Format\" dropdown arrow in the \"Number\" group, and select \"Format Cells.\"\n",
    "Alternatively, you can use the keyboard shortcut Ctrl + 1 (hold down the Ctrl key and press the number 1 key).\n",
    "\n",
    "Navigate to Number Tab: In the Format Cells dialog, navigate to the \"Number\" tab.\n",
    "\n",
    "Select Percent Category: In the \"Category\" list on the left side of the dialog, select \"Percentage.\"\n",
    "\n",
    "Adjust Decimal Places (Optional): You can specify the number of decimal places to display by adjusting the value in the \"Decimal places\" field.\n",
    "\n",
    "Click OK: After selecting the percent format and customizing the decimal places as desired, click the \"OK\" button to apply the percent format to the selected cells."
   ]
  },
  {
   "cell_type": "markdown",
   "id": "a5a98990",
   "metadata": {},
   "source": [
    "# 5."
   ]
  },
  {
   "cell_type": "markdown",
   "id": "4cb894c2",
   "metadata": {},
   "source": [
    "Concatenation: Concatenation allows you to combine multiple text strings into one. To concatenate text strings in Excel, you can use the ampersand (&) operator or the CONCATENATE function. For example:\n",
    "    "
   ]
  },
  {
   "cell_type": "raw",
   "id": "f3579c3a",
   "metadata": {},
   "source": [
    "=A1 & \" \" & B1\n"
   ]
  },
  {
   "cell_type": "markdown",
   "id": "985ff5a6",
   "metadata": {},
   "source": [
    "Text Functions: \n",
    "Excel provides several text functions that allow you to manipulate text strings in various ways. Some commonly used text functions include:\n",
    "\n",
    "LEFT: Returns the leftmost characters from a text string.\n",
    "\n",
    "RIGHT: Returns the rightmost characters from a text string.\n",
    "\n",
    "MID: Returns a specific number of characters from a text string, starting at a specified position.\n",
    "\n",
    "LEN: Returns the length of a text string (number of characters).\n",
    "\n",
    "FIND: Finds the position of a specific character or text string within another text string.\n",
    "\n",
    "Text to Columns: This feature allows you to split a single column of text into multiple columns based on a delimiter (such as a comma or space). To use Text to Columns:\n",
    "\n",
    "Select the column containing the text you want to split.\n",
    "Go to the \"Data\" tab on the Excel ribbon.\n",
    "Click on the \"Text to Columns\" button.\n",
    "Follow the instructions in the Text to Columns Wizard to specify the delimiter and adjust other settings as needed.\n",
    "\n",
    "Flash Fill: Flash Fill is a feature in Excel that automatically fills in values based on patterns it detects in adjacent cells. It can be particularly useful for formatting and extracting text data. To use Flash Fill:\n",
    "\n",
    "Enter an example of the desired pattern in a column adjacent to your text data.\n",
    "Excel will automatically detect the pattern and suggest the remaining values. Press Ctrl + E or click on the Flash Fill button in the Data Tools group on the Data tab to fill in the remaining values."
   ]
  },
  {
   "cell_type": "markdown",
   "id": "3a3035d5",
   "metadata": {},
   "source": [
    "# 6."
   ]
  },
  {
   "cell_type": "markdown",
   "id": "35c35c5d",
   "metadata": {},
   "source": [
    "In Excel, you can merge two or more cells into a single larger cell using the following shortcut:\n",
    "\n",
    "Select Cells: First, select the cells you want to merge. These cells should form a rectangular shape.\n",
    "\n",
    "Merge Cells Shortcut: Once the cells are selected, use the keyboard shortcut Alt + H, then M, then M again (Alt + H, M, M) sequentially. This shortcut sequence will merge the selected cells into one.\n",
    "\n",
    "Alternatively, you can follow these steps:\n",
    "\n",
    "Go to the \"Home\" tab on the Excel ribbon.\n",
    "In the \"Alignment\" group, you'll find the \"Merge & Center\" dropdown button. Click on the dropdown arrow.\n",
    "From the dropdown menu, select \"Merge & Center\" to merge the selected cells into one."
   ]
  },
  {
   "cell_type": "code",
   "execution_count": null,
   "id": "47225933",
   "metadata": {},
   "outputs": [],
   "source": []
  }
 ],
 "metadata": {
  "kernelspec": {
   "display_name": "Python 3 (ipykernel)",
   "language": "python",
   "name": "python3"
  },
  "language_info": {
   "codemirror_mode": {
    "name": "ipython",
    "version": 3
   },
   "file_extension": ".py",
   "mimetype": "text/x-python",
   "name": "python",
   "nbconvert_exporter": "python",
   "pygments_lexer": "ipython3",
   "version": "3.10.9"
  }
 },
 "nbformat": 4,
 "nbformat_minor": 5
}
