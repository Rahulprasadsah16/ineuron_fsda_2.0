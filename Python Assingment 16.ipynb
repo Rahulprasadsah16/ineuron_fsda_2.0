{
 "cells": [
  {
   "cell_type": "markdown",
   "id": "d9045e77",
   "metadata": {},
   "source": [
    "# 1."
   ]
  },
  {
   "cell_type": "code",
   "execution_count": 1,
   "id": "527e065f",
   "metadata": {},
   "outputs": [
    {
     "name": "stdout",
     "output_type": "stream",
     "text": [
      "[1990, 1991, 1992, 1993, 1994]\n"
     ]
    }
   ],
   "source": [
    "birth_year = 1990  # Change this to your birth year\n",
    "years_list = list(range(birth_year, birth_year + 5))\n",
    "print(years_list)\n"
   ]
  },
  {
   "cell_type": "markdown",
   "id": "18ac18ff",
   "metadata": {},
   "source": [
    "# 2."
   ]
  },
  {
   "cell_type": "code",
   "execution_count": 3,
   "id": "cbe676b9",
   "metadata": {},
   "outputs": [
    {
     "name": "stdout",
     "output_type": "stream",
     "text": [
      "Year of your third birthday: 1998\n"
     ]
    }
   ],
   "source": [
    "birth_year = 1995  # Change this to your birth year\n",
    "years_list = list(range(birth_year, birth_year + 5))\n",
    "\n",
    "third_birthday_year = years_list[3]\n",
    "print(\"Year of your third birthday:\", third_birthday_year)\n"
   ]
  },
  {
   "cell_type": "markdown",
   "id": "38718104",
   "metadata": {},
   "source": [
    "# 3."
   ]
  },
  {
   "cell_type": "code",
   "execution_count": 4,
   "id": "0c993f8c",
   "metadata": {},
   "outputs": [
    {
     "name": "stdout",
     "output_type": "stream",
     "text": [
      "Year when you were the oldest: 1994\n"
     ]
    }
   ],
   "source": [
    "birth_year = 1990  # Change this to your birth year\n",
    "years_list = list(range(birth_year, birth_year + 5))\n",
    "\n",
    "oldest_year = years_list[-1]\n",
    "print(\"Year when you were the oldest:\", oldest_year)\n"
   ]
  },
  {
   "cell_type": "markdown",
   "id": "d01e31ec",
   "metadata": {},
   "source": [
    "# 4."
   ]
  },
  {
   "cell_type": "code",
   "execution_count": 5,
   "id": "967fff2f",
   "metadata": {},
   "outputs": [
    {
     "name": "stdout",
     "output_type": "stream",
     "text": [
      "['mozzarella', 'cinderella', 'salmonella']\n"
     ]
    }
   ],
   "source": [
    "things = [\"mozzarella\", \"cinderella\", \"salmonella\"]\n",
    "print(things)\n"
   ]
  },
  {
   "cell_type": "markdown",
   "id": "eef7c538",
   "metadata": {},
   "source": [
    "# 5."
   ]
  },
  {
   "cell_type": "code",
   "execution_count": 6,
   "id": "669f2fa8",
   "metadata": {},
   "outputs": [
    {
     "name": "stdout",
     "output_type": "stream",
     "text": [
      "['mozzarella', 'Cinderella', 'salmonella']\n"
     ]
    }
   ],
   "source": [
    "things = [\"mozzarella\", \"cinderella\", \"salmonella\"]\n",
    "person_index = things.index(\"cinderella\")  # Get the index of the element referring to a person\n",
    "things[person_index] = things[person_index].capitalize()  # Capitalize the element\n",
    "print(things)\n"
   ]
  },
  {
   "cell_type": "markdown",
   "id": "ff29877a",
   "metadata": {},
   "source": [
    "# 6."
   ]
  },
  {
   "cell_type": "code",
   "execution_count": 7,
   "id": "6e224c1a",
   "metadata": {},
   "outputs": [
    {
     "name": "stdout",
     "output_type": "stream",
     "text": [
      "['Groucho', 'Chico', 'Harpo']\n"
     ]
    }
   ],
   "source": [
    "surprise = [\"Groucho\", \"Chico\", \"Harpo\"]\n",
    "print(surprise)\n"
   ]
  },
  {
   "cell_type": "markdown",
   "id": "48419857",
   "metadata": {},
   "source": [
    "# 7."
   ]
  },
  {
   "cell_type": "code",
   "execution_count": 8,
   "id": "080bfd17",
   "metadata": {},
   "outputs": [
    {
     "name": "stdout",
     "output_type": "stream",
     "text": [
      "Oprah\n"
     ]
    }
   ],
   "source": [
    "surprise = [\"Groucho\", \"Chico\", \"Harpo\"]\n",
    "last_element = surprise[-1].lower()  # Lowercase the last element\n",
    "reversed_last_element = last_element[::-1]  # Reverse the last element\n",
    "capitalized_reversed_last_element = reversed_last_element.capitalize()  # Capitalize the reversed last element\n",
    "\n",
    "print(capitalized_reversed_last_element)\n"
   ]
  },
  {
   "cell_type": "markdown",
   "id": "21f0b4a6",
   "metadata": {},
   "source": [
    "# 8."
   ]
  },
  {
   "cell_type": "code",
   "execution_count": 9,
   "id": "916777ff",
   "metadata": {},
   "outputs": [
    {
     "name": "stdout",
     "output_type": "stream",
     "text": [
      "{'dog': 'chien', 'cat': 'chat', 'walrus': 'morse'}\n"
     ]
    }
   ],
   "source": [
    "e2f = {\n",
    "    'dog': 'chien',\n",
    "    'cat': 'chat',\n",
    "    'walrus': 'morse'\n",
    "}\n",
    "\n",
    "print(e2f)\n"
   ]
  },
  {
   "cell_type": "markdown",
   "id": "35a43952",
   "metadata": {},
   "source": [
    "# 9."
   ]
  },
  {
   "cell_type": "code",
   "execution_count": 10,
   "id": "ac48bdaa",
   "metadata": {},
   "outputs": [
    {
     "name": "stdout",
     "output_type": "stream",
     "text": [
      "French word for 'walrus': morse\n"
     ]
    }
   ],
   "source": [
    "e2f = {\n",
    "    'dog': 'chien',\n",
    "    'cat': 'chat',\n",
    "    'walrus': 'morse'\n",
    "}\n",
    "\n",
    "french_word_for_walrus = e2f['walrus']\n",
    "print(\"French word for 'walrus':\", french_word_for_walrus)\n"
   ]
  },
  {
   "cell_type": "markdown",
   "id": "bc32ea37",
   "metadata": {},
   "source": [
    "# 10."
   ]
  },
  {
   "cell_type": "code",
   "execution_count": 11,
   "id": "dc286c82",
   "metadata": {},
   "outputs": [
    {
     "name": "stdout",
     "output_type": "stream",
     "text": [
      "{'chien': 'dog', 'chat': 'cat', 'morse': 'walrus'}\n"
     ]
    }
   ],
   "source": [
    "# Existing English-to-French dictionary\n",
    "e2f = {\n",
    "    'dog': 'chien',\n",
    "    'cat': 'chat',\n",
    "    'walrus': 'morse'\n",
    "}\n",
    "\n",
    "# Create French-to-English dictionary from e2f\n",
    "f2e = {french: english for english, french in e2f.items()}\n",
    "\n",
    "print(f2e)\n"
   ]
  },
  {
   "cell_type": "markdown",
   "id": "abb4dbc4",
   "metadata": {},
   "source": [
    "# 11."
   ]
  },
  {
   "cell_type": "code",
   "execution_count": 12,
   "id": "8f066a48",
   "metadata": {},
   "outputs": [
    {
     "name": "stdout",
     "output_type": "stream",
     "text": [
      "English word for 'chien': dog\n"
     ]
    }
   ],
   "source": [
    "# French-to-English dictionary\n",
    "f2e = {\n",
    "    'chien': 'dog',\n",
    "    'chat': 'cat',\n",
    "    'morse': 'walrus'\n",
    "}\n",
    "\n",
    "# Print the English version of the French word \"chien\"\n",
    "english_word_for_chien = f2e['chien']\n",
    "print(\"English word for 'chien':\", english_word_for_chien)\n"
   ]
  },
  {
   "cell_type": "markdown",
   "id": "9be3d42b",
   "metadata": {},
   "source": [
    "# 12."
   ]
  },
  {
   "cell_type": "code",
   "execution_count": 13,
   "id": "22c9f9fc",
   "metadata": {},
   "outputs": [
    {
     "name": "stdout",
     "output_type": "stream",
     "text": [
      "Set of English words: {'dog', 'walrus', 'cat'}\n"
     ]
    }
   ],
   "source": [
    "# English-to-French dictionary\n",
    "e2f = {\n",
    "    'dog': 'chien',\n",
    "    'cat': 'chat',\n",
    "    'walrus': 'morse'\n",
    "}\n",
    "\n",
    "# Create a set of English words from the keys in e2f\n",
    "english_words_set = set(e2f.keys())\n",
    "\n",
    "# Print the set of English words\n",
    "print(\"Set of English words:\", english_words_set)\n"
   ]
  },
  {
   "cell_type": "markdown",
   "id": "b307f3d9",
   "metadata": {},
   "source": [
    "# 13."
   ]
  },
  {
   "cell_type": "code",
   "execution_count": 14,
   "id": "cae03734",
   "metadata": {},
   "outputs": [
    {
     "name": "stdout",
     "output_type": "stream",
     "text": [
      "{'animals': {'cats': ['Henri', 'Grumpy', 'Lucy'], 'octopi': {}, 'emus': {}}, 'plants': {}, 'other': {}}\n"
     ]
    }
   ],
   "source": [
    "life = {\n",
    "    'animals': {\n",
    "        'cats': ['Henri', 'Grumpy', 'Lucy'],\n",
    "        'octopi': {},\n",
    "        'emus': {}\n",
    "    },\n",
    "    'plants': {},\n",
    "    'other': {}\n",
    "}\n",
    "\n",
    "print(life)\n"
   ]
  },
  {
   "cell_type": "markdown",
   "id": "398bae97",
   "metadata": {},
   "source": [
    "# 14."
   ]
  },
  {
   "cell_type": "code",
   "execution_count": 15,
   "id": "e0afc081",
   "metadata": {},
   "outputs": [
    {
     "name": "stdout",
     "output_type": "stream",
     "text": [
      "Top-level keys of life: dict_keys(['animals', 'plants', 'other'])\n"
     ]
    }
   ],
   "source": [
    "life = {\n",
    "    'animals': {\n",
    "        'cats': ['Henri', 'Grumpy', 'Lucy'],\n",
    "        'octopi': {},\n",
    "        'emus': {}\n",
    "    },\n",
    "    'plants': {},\n",
    "    'other': {}\n",
    "}\n",
    "\n",
    "top_level_keys = life.keys()\n",
    "print(\"Top-level keys of life:\", top_level_keys)\n"
   ]
  },
  {
   "cell_type": "markdown",
   "id": "e7ec1d2f",
   "metadata": {},
   "source": [
    "# 15."
   ]
  },
  {
   "cell_type": "code",
   "execution_count": 16,
   "id": "19ebf9fd",
   "metadata": {},
   "outputs": [
    {
     "name": "stdout",
     "output_type": "stream",
     "text": [
      "Keys for life['animals']: dict_keys(['cats', 'octopi', 'emus'])\n"
     ]
    }
   ],
   "source": [
    "life = {\n",
    "    'animals': {\n",
    "        'cats': ['Henri', 'Grumpy', 'Lucy'],\n",
    "        'octopi': {},\n",
    "        'emus': {}\n",
    "    },\n",
    "    'plants': {},\n",
    "    'other': {}\n",
    "}\n",
    "\n",
    "animals_keys = life['animals'].keys()\n",
    "print(\"Keys for life['animals']:\", animals_keys)\n"
   ]
  },
  {
   "cell_type": "markdown",
   "id": "3ca99d8e",
   "metadata": {},
   "source": [
    "# 16."
   ]
  },
  {
   "cell_type": "code",
   "execution_count": 17,
   "id": "e58947a0",
   "metadata": {},
   "outputs": [
    {
     "name": "stdout",
     "output_type": "stream",
     "text": [
      "Values for life['animals']['cats']: ['Henri', 'Grumpy', 'Lucy']\n"
     ]
    }
   ],
   "source": [
    "life = {\n",
    "    'animals': {\n",
    "        'cats': ['Henri', 'Grumpy', 'Lucy'],\n",
    "        'octopi': {},\n",
    "        'emus': {}\n",
    "    },\n",
    "    'plants': {},\n",
    "    'other': {}\n",
    "}\n",
    "\n",
    "cats_values = life['animals']['cats']\n",
    "print(\"Values for life['animals']['cats']:\", cats_values)\n"
   ]
  },
  {
   "cell_type": "code",
   "execution_count": null,
   "id": "1e3764aa",
   "metadata": {},
   "outputs": [],
   "source": []
  }
 ],
 "metadata": {
  "kernelspec": {
   "display_name": "Python 3 (ipykernel)",
   "language": "python",
   "name": "python3"
  },
  "language_info": {
   "codemirror_mode": {
    "name": "ipython",
    "version": 3
   },
   "file_extension": ".py",
   "mimetype": "text/x-python",
   "name": "python",
   "nbconvert_exporter": "python",
   "pygments_lexer": "ipython3",
   "version": "3.10.9"
  }
 },
 "nbformat": 4,
 "nbformat_minor": 5
}
