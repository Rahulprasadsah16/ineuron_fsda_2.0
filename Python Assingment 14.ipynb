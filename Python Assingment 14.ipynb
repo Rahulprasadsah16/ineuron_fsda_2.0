{
 "cells": [
  {
   "cell_type": "markdown",
   "id": "1122dcbf",
   "metadata": {},
   "source": [
    "# 1."
   ]
  },
  {
   "cell_type": "markdown",
   "id": "7844a00d",
   "metadata": {},
   "source": [
    "RGBA stands for Red, Green, Blue, and Alpha. It is a color model used in digital imaging to define colors in terms of their red, green, and blue components, along with an alpha channel that represents the color's transparency or opacity."
   ]
  },
  {
   "cell_type": "markdown",
   "id": "53ae9fb5",
   "metadata": {},
   "source": [
    "# 2."
   ]
  },
  {
   "cell_type": "raw",
   "id": "dbcd1dd2",
   "metadata": {},
   "source": [
    "from PIL import Image\n",
    "\n",
    "# Open an image file\n",
    "image = Image.open(\"example.png\")\n",
    "\n",
    "# Get the width and height of the image\n",
    "width, height = image.size\n",
    "\n",
    "# Choose a pixel position (x, y) within the image\n",
    "x = 100\n",
    "y = 50\n",
    "\n",
    "# Get the RGBA value of the pixel at position (x, y)\n",
    "rgba = image.getpixel((x, y))\n",
    "\n",
    "print(\"RGBA value at position ({}, {}):\".format(x, y), rgba)\n"
   ]
  },
  {
   "cell_type": "markdown",
   "id": "97a8caea",
   "metadata": {},
   "source": [
    "# 3."
   ]
  },
  {
   "cell_type": "markdown",
   "id": "a246fff4",
   "metadata": {},
   "source": [
    "A \"box tuple\" refers to a tuple that represents a rectangular region in an image. This tuple typically contains four integer values: (left, upper, right, lower)."
   ]
  },
  {
   "cell_type": "markdown",
   "id": "97349730",
   "metadata": {},
   "source": [
    "This tuple defines a rectangular region within an image by specifying its bounding box. The box tuple is commonly used in Pillow functions and methods that deal with cropping, pasting, and manipulating regions of an image."
   ]
  },
  {
   "cell_type": "raw",
   "id": "09d8af16",
   "metadata": {},
   "source": [
    "from PIL import Image\n",
    "\n",
    "# Open an image\n",
    "image = Image.open(\"example.jpg\")\n",
    "\n",
    "# Define the box tuple for cropping\n",
    "box = (100, 100, 300, 300)  # (left, upper, right, lower)\n",
    "\n",
    "# Crop the image using the box tuple\n",
    "cropped_image = image.crop(box)\n",
    "\n",
    "# Display or save the cropped image\n",
    "cropped_image.show()\n",
    "cropped_image.save(\"cropped_example.jpg\")\n"
   ]
  },
  {
   "cell_type": "markdown",
   "id": "7717f7b3",
   "metadata": {},
   "source": [
    "# 4."
   ]
  },
  {
   "cell_type": "raw",
   "id": "4463937c",
   "metadata": {},
   "source": [
    "from PIL import Image\n",
    "\n",
    "# Open an image file\n",
    "image = Image.open(\"example.jpg\")\n",
    "\n",
    "# Get the width and height of the image\n",
    "width, height = image.size\n",
    "\n",
    "print(\"Width:\", width)\n",
    "print(\"Height:\", height)\n"
   ]
  },
  {
   "cell_type": "markdown",
   "id": "867858f9",
   "metadata": {},
   "source": [
    "# 5."
   ]
  },
  {
   "cell_type": "raw",
   "id": "3d9aaa49",
   "metadata": {},
   "source": [
    "from PIL import Image\n",
    "\n",
    "# Open an image file\n",
    "image = Image.open(\"example.jpg\")\n",
    "\n",
    "# Define the box tuple for cropping (100x100 region excluding the lower-left quarter)\n",
    "box = (0, 50, 50, 100)  # (left, upper, right, lower)\n",
    "\n",
    "# Crop the image using the box tuple\n",
    "cropped_image = image.crop(box)\n",
    "\n",
    "# Display or save the cropped image\n",
    "cropped_image.show()\n",
    "cropped_image.save(\"cropped_example.jpg\")\n"
   ]
  },
  {
   "cell_type": "markdown",
   "id": "1ec67314",
   "metadata": {},
   "source": [
    "# 6."
   ]
  },
  {
   "cell_type": "raw",
   "id": "d872188f",
   "metadata": {},
   "source": [
    "from PIL import Image\n",
    "\n",
    "# Open an image file\n",
    "image = Image.open(\"example.jpg\")\n",
    "\n",
    "# Make changes to the image object (e.g., crop, resize, etc.)\n",
    "# For example, let's crop the image to a 100x100 region excluding the lower-left quarter\n",
    "box = (0, 50, 50, 100)  # (left, upper, right, lower)\n",
    "cropped_image = image.crop(box)\n",
    "\n",
    "# Save the modified image to a file\n",
    "cropped_image.save(\"cropped_example.jpg\")\n"
   ]
  },
  {
   "cell_type": "markdown",
   "id": "1da00e66",
   "metadata": {},
   "source": [
    "# 7."
   ]
  },
  {
   "cell_type": "raw",
   "id": "2214eb7a",
   "metadata": {},
   "source": [
    "from PIL import Image, ImageDraw\n",
    "\n",
    "# Open an image file\n",
    "image = Image.open(\"example.jpg\")\n",
    "\n",
    "# Create an ImageDraw object\n",
    "draw = ImageDraw.Draw(image)\n",
    "\n",
    "# Draw a red rectangle on the image\n",
    "draw.rectangle([(100, 100), (200, 200)], outline=\"red\")\n",
    "\n",
    "# Draw a blue ellipse on the image\n",
    "draw.ellipse([(50, 50), (150, 100)], outline=\"blue\")\n",
    "\n",
    "# Save the modified image\n",
    "image.save(\"drawn_example.jpg\")\n"
   ]
  },
  {
   "cell_type": "markdown",
   "id": "056e60b4",
   "metadata": {},
   "source": [
    "# 8."
   ]
  },
  {
   "cell_type": "markdown",
   "id": "21ab9467",
   "metadata": {},
   "source": [
    "To get an ImageDraw object, you need to call the ImageDraw.Draw() function and pass the Image object as an argument. This function returns an ImageDraw object that you can use to draw on the image"
   ]
  },
  {
   "cell_type": "raw",
   "id": "80492e11",
   "metadata": {},
   "source": [
    "from PIL import Image, ImageDraw\n",
    "\n",
    "# Open an image file\n",
    "image = Image.open(\"example.jpg\")\n",
    "\n",
    "# Get an ImageDraw object\n",
    "draw = ImageDraw.Draw(image)\n",
    "\n",
    "# Use drawing methods on the ImageDraw object\n",
    "draw.rectangle([(100, 100), (200, 200)], outline=\"red\")\n",
    "draw.ellipse([(50, 50), (150, 100)], outline=\"blue\")\n",
    "\n",
    "# Save the modified image\n",
    "image.save(\"drawn_example.jpg\")\n"
   ]
  },
  {
   "cell_type": "code",
   "execution_count": null,
   "id": "8bb334ff",
   "metadata": {},
   "outputs": [],
   "source": []
  }
 ],
 "metadata": {
  "kernelspec": {
   "display_name": "Python 3 (ipykernel)",
   "language": "python",
   "name": "python3"
  },
  "language_info": {
   "codemirror_mode": {
    "name": "ipython",
    "version": 3
   },
   "file_extension": ".py",
   "mimetype": "text/x-python",
   "name": "python",
   "nbconvert_exporter": "python",
   "pygments_lexer": "ipython3",
   "version": "3.10.9"
  }
 },
 "nbformat": 4,
 "nbformat_minor": 5
}
