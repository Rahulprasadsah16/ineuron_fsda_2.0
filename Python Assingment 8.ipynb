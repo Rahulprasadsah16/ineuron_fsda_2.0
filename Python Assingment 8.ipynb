{
 "cells": [
  {
   "cell_type": "markdown",
   "id": "fb40e4bf",
   "metadata": {},
   "source": [
    "# 1."
   ]
  },
  {
   "cell_type": "markdown",
   "id": "95aa6c75",
   "metadata": {},
   "source": [
    "No, PyInputPlus is a separate Python library that is not part of the Python Standard Library. PyInputPlus is a third-party library designed to simplify user input validation in Python programs, particularly in command-line applications. While it provides functionality for accepting various types of input and validating them according to specified criteria, it is not included in the Python Standard Library by default. "
   ]
  },
  {
   "cell_type": "markdown",
   "id": "8367569d",
   "metadata": {},
   "source": [
    "# 2."
   ]
  },
  {
   "cell_type": "markdown",
   "id": "d6ee95f6",
   "metadata": {},
   "source": [
    "The common practice of importing PyInputPlus as pypi (or sometimes pyip) is simply a convention followed by many developers for brevity and convenience. When importing a library or module in Python, developers often use an alias to shorten the name and make it easier to reference throughout the code.\n"
   ]
  },
  {
   "cell_type": "markdown",
   "id": "d2bc8e25",
   "metadata": {},
   "source": [
    "import pyinputplus as pypi\n",
    "\n",
    "response = pypi.inputInt(prompt=\"Enter an integer: \")\n",
    "print(\"You entered:\", response)\n"
   ]
  },
  {
   "cell_type": "markdown",
   "id": "581e3701",
   "metadata": {},
   "source": [
    "# 3."
   ]
  },
  {
   "cell_type": "markdown",
   "id": "5693e0b8",
   "metadata": {},
   "source": [
    "In PyInputPlus, the functions inputInt() and inputFloat() are used to prompt the user for input and ensure that the input provided is either an integer or a floating-point number, respectively."
   ]
  },
  {
   "cell_type": "markdown",
   "id": "226a602b",
   "metadata": {},
   "source": [
    "inputInt(): This function prompts the user to enter an integer value. If the user enters a non-integer value or leaves the input blank, PyInputPlus will continue to prompt the user until a valid integer is provided."
   ]
  },
  {
   "cell_type": "markdown",
   "id": "4d08b0f6",
   "metadata": {},
   "source": [
    "inputFloat(): This function prompts the user to enter a floating-point number. Similar to inputInt(), it will continue to prompt the user until a valid floating-point number is provided."
   ]
  },
  {
   "cell_type": "markdown",
   "id": "156879f4",
   "metadata": {},
   "source": [
    "# 4."
   ]
  },
  {
   "cell_type": "markdown",
   "id": "c2ca52a4",
   "metadata": {},
   "source": [
    "To ensure that the user enters a whole number between 0 and 99 using PyInputPlus, you can use the inputInt() function along with the min and max parameters to specify the acceptable range."
   ]
  },
  {
   "cell_type": "markdown",
   "id": "2875f6e3",
   "metadata": {},
   "source": [
    "import pyinputplus as pyip\n",
    "\n",
    "Prompt the user for input within the specified range\n",
    "number = pyip.inputInt(prompt=\"Please enter a number between 0 and 99: \", min=0, max=99)\n",
    "\n",
    "print(\"You entered:\", number)\n"
   ]
  },
  {
   "cell_type": "markdown",
   "id": "f0ccd0b0",
   "metadata": {},
   "source": [
    "# 5."
   ]
  },
  {
   "cell_type": "markdown",
   "id": "d24bba3e",
   "metadata": {},
   "source": [
    "In PyInputPlus, the allowRegexes and blockRegexes keyword arguments are used to specify regular expressions that define patterns for input validation. These keyword arguments allow you to customize the input validation behavior based on regular expression patterns.\n",
    "\n",
    "allowRegexes: This keyword argument accepts a list of regular expressions. If provided, PyInputPlus will only accept input that matches one of the regular expressions in this list. It effectively allows specific patterns of input while blocking all others.\n",
    "\n",
    "blockRegexes: This keyword argument also accepts a list of regular expressions. If provided, PyInputPlus will reject any input that matches one of the regular expressions in this list. It effectively blocks specific patterns of input while allowing all others.\n",
    "\n"
   ]
  },
  {
   "cell_type": "markdown",
   "id": "dc584a95",
   "metadata": {},
   "source": [
    "import pyinputplus as pyip\n",
    "\n",
    "input_text = pyip.inputStr(prompt=\"Enter lowercase letters only: \", allowRegexes=[r'^[a-z]+$'])\n"
   ]
  },
  {
   "cell_type": "markdown",
   "id": "1b493ff3",
   "metadata": {},
   "source": [
    "# 6.\n"
   ]
  },
  {
   "cell_type": "markdown",
   "id": "98d4ff53",
   "metadata": {},
   "source": [
    "In PyInputPlus, when you use the inputStr() function with the limit parameter set to 3, it means that the function will allow the user to input a string value, but if the user enters a blank input (an empty string) three times consecutively, PyInputPlus will raise a pyinputplus.RetryLimitException."
   ]
  },
  {
   "cell_type": "markdown",
   "id": "7074c01c",
   "metadata": {},
   "source": [
    "import pyinputplus as pyip\n",
    "\n",
    "input_text = pyip.inputStr(prompt=\"Enter something: \", limit=3)\n"
   ]
  },
  {
   "cell_type": "markdown",
   "id": "76c796fc",
   "metadata": {},
   "source": [
    "# 7."
   ]
  },
  {
   "cell_type": "markdown",
   "id": "cade12ba",
   "metadata": {},
   "source": [
    "If you use inputStr() with the limit parameter set to 3 and the default parameter set to 'hello', it means that if the user enters a blank input (an empty string) three times consecutively, PyInputPlus will return the default value 'hello' instead of raising a pyinputplus.RetryLimitException."
   ]
  },
  {
   "cell_type": "markdown",
   "id": "22bb8db9",
   "metadata": {},
   "source": [
    "import pyinputplus as pyip\n",
    "\n",
    "input_text = pyip.inputStr(prompt=\"Enter something: \", limit=3, default='hello')\n"
   ]
  }
 ],
 "metadata": {
  "kernelspec": {
   "display_name": "Python 3 (ipykernel)",
   "language": "python",
   "name": "python3"
  },
  "language_info": {
   "codemirror_mode": {
    "name": "ipython",
    "version": 3
   },
   "file_extension": ".py",
   "mimetype": "text/x-python",
   "name": "python",
   "nbconvert_exporter": "python",
   "pygments_lexer": "ipython3",
   "version": "3.10.9"
  }
 },
 "nbformat": 4,
 "nbformat_minor": 5
}
