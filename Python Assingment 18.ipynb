{
 "cells": [
  {
   "cell_type": "markdown",
   "id": "2dbfcc60",
   "metadata": {},
   "source": [
    "# 1."
   ]
  },
  {
   "cell_type": "markdown",
   "id": "e546b2c4",
   "metadata": {},
   "source": [
    "o accomplish this task, you need to create a Python file named zoo.py and define the hours() function inside it. Then, you can use the interactive interpreter to import the zoo module and call its hours() function."
   ]
  },
  {
   "cell_type": "raw",
   "id": "442bf8eb",
   "metadata": {},
   "source": [
    "Create a file named zoo.py with the following content:"
   ]
  },
  {
   "cell_type": "raw",
   "id": "93296f6b",
   "metadata": {},
   "source": [
    "# zoo.py\n",
    "\n",
    "def hours():\n",
    "    print('Open 9-5 daily')\n"
   ]
  },
  {
   "cell_type": "raw",
   "id": "b6bbd895",
   "metadata": {},
   "source": [
    "Save the file zoo.py.\n",
    "\n",
    "Use the interactive interpreter to import the zoo module and call its hours() function:"
   ]
  },
  {
   "cell_type": "raw",
   "id": "2c14cf1d",
   "metadata": {},
   "source": [
    "import zoo\n",
    "\n",
    "zoo.hours()\n"
   ]
  },
  {
   "cell_type": "raw",
   "id": "3fe04d6c",
   "metadata": {},
   "source": [
    "When you run this code in the interactive interpreter, it will output:"
   ]
  },
  {
   "cell_type": "markdown",
   "id": "87f8ecf0",
   "metadata": {},
   "source": [
    "Open 9-5 daily\n"
   ]
  },
  {
   "cell_type": "markdown",
   "id": "980d1eeb",
   "metadata": {},
   "source": [
    "# 2."
   ]
  },
  {
   "cell_type": "raw",
   "id": "b539a93e",
   "metadata": {},
   "source": [
    "In the interactive interpreter, you can import the zoo module as menagerie and then call its hours() function like this:"
   ]
  },
  {
   "cell_type": "raw",
   "id": "158e7d00",
   "metadata": {},
   "source": [
    "import zoo as menagerie\n",
    "\n",
    "menagerie.hours()\n"
   ]
  },
  {
   "cell_type": "markdown",
   "id": "108c9d1e",
   "metadata": {},
   "source": [
    "# 3."
   ]
  },
  {
   "cell_type": "markdown",
   "id": "25c3c318",
   "metadata": {},
   "source": [
    "You can explicitly import the hours() function from the zoo module and then call it in the interactive interpreter like this:"
   ]
  },
  {
   "cell_type": "markdown",
   "id": "c2ef8c3b",
   "metadata": {},
   "source": [
    "from zoo import hours\n",
    "\n",
    "hours()\n"
   ]
  },
  {
   "cell_type": "markdown",
   "id": "b003cad7",
   "metadata": {},
   "source": [
    "# 4."
   ]
  },
  {
   "cell_type": "raw",
   "id": "b070019f",
   "metadata": {},
   "source": [
    "from zoo import hours as info\n",
    "\n",
    "info()\n"
   ]
  },
  {
   "cell_type": "markdown",
   "id": "97a26e8d",
   "metadata": {},
   "source": [
    "# 5."
   ]
  },
  {
   "cell_type": "code",
   "execution_count": 3,
   "id": "ca808c67",
   "metadata": {},
   "outputs": [
    {
     "name": "stdout",
     "output_type": "stream",
     "text": [
      "{'a': 1, 'b': 2, 'c': 3}\n"
     ]
    }
   ],
   "source": [
    "plain_dict = {'a': 1, 'b': 2, 'c': 3}\n",
    "print(plain_dict)\n"
   ]
  },
  {
   "cell_type": "markdown",
   "id": "77d9a58a",
   "metadata": {},
   "source": [
    "# 6."
   ]
  },
  {
   "cell_type": "code",
   "execution_count": 4,
   "id": "582640b1",
   "metadata": {},
   "outputs": [
    {
     "name": "stdout",
     "output_type": "stream",
     "text": [
      "OrderedDict([('a', 1), ('b', 2), ('c', 3)])\n"
     ]
    }
   ],
   "source": [
    "from collections import OrderedDict\n",
    "\n",
    "# Create an OrderedDict called fancy\n",
    "fancy = OrderedDict([('a', 1), ('b', 2), ('c', 3)])\n",
    "\n",
    "# Print the OrderedDict\n",
    "print(fancy)\n"
   ]
  },
  {
   "cell_type": "markdown",
   "id": "863033b6",
   "metadata": {},
   "source": [
    "# 7."
   ]
  },
  {
   "cell_type": "code",
   "execution_count": 5,
   "id": "5ac1bf13",
   "metadata": {},
   "outputs": [
    {
     "name": "stdout",
     "output_type": "stream",
     "text": [
      "['something for a']\n"
     ]
    }
   ],
   "source": [
    "from collections import defaultdict\n",
    "\n",
    "# Create a defaultdict called dict_of_lists with a default factory of list\n",
    "dict_of_lists = defaultdict(list)\n",
    "\n",
    "# Append the value 'something for a' to dict_of_lists['a'] in one assignment\n",
    "dict_of_lists['a'].append('something for a')\n",
    "\n",
    "# Print dict_of_lists['a']\n",
    "print(dict_of_lists['a'])\n"
   ]
  },
  {
   "cell_type": "code",
   "execution_count": null,
   "id": "ac0412c2",
   "metadata": {},
   "outputs": [],
   "source": []
  }
 ],
 "metadata": {
  "kernelspec": {
   "display_name": "Python 3 (ipykernel)",
   "language": "python",
   "name": "python3"
  },
  "language_info": {
   "codemirror_mode": {
    "name": "ipython",
    "version": 3
   },
   "file_extension": ".py",
   "mimetype": "text/x-python",
   "name": "python",
   "nbconvert_exporter": "python",
   "pygments_lexer": "ipython3",
   "version": "3.10.9"
  }
 },
 "nbformat": 4,
 "nbformat_minor": 5
}
